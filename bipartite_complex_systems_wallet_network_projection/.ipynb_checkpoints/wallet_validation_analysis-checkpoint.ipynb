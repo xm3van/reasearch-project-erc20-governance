{
 "cells": [
  {
   "cell_type": "code",
   "execution_count": 1,
   "id": "19fd95e3-07b0-48c9-a1d2-11984203f5c4",
   "metadata": {},
   "outputs": [
    {
     "name": "stderr",
     "output_type": "stream",
     "text": [
      "/home/user/eisermann/.local/lib/python3.9/site-packages/pandas/core/computation/expressions.py:20: UserWarning: Pandas requires version '2.7.3' or newer of 'numexpr' (version '2.7.2' currently installed).\n",
      "  from pandas.core.computation.check import NUMEXPR_INSTALLED\n",
      "/home/user/eisermann/.local/lib/python3.9/site-packages/pandas/core/arrays/masked.py:59: UserWarning: Pandas requires version '1.3.2' or newer of 'bottleneck' (version '1.2.1' currently installed).\n",
      "  from pandas.core import (\n"
     ]
    }
   ],
   "source": [
    "import pandas as pd \n",
    "import dotenv\n",
    "from dotenv import load_dotenv\n",
    "import os\n",
    "import numpy as np\n",
    "\n",
    "load_dotenv()\n",
    "\n",
    "path = os.environ[\"PROJECT_PATH\"]\n",
    "etherscan_api =  os.environ[\"ETHERSCAN_API_KEY\"]"
   ]
  },
  {
   "cell_type": "code",
   "execution_count": 2,
   "id": "916b0cd9-c308-4c4f-a928-7a44709858e1",
   "metadata": {},
   "outputs": [],
   "source": [
    "# Specify the HDF5 file path for a specific snapshot\n",
    "file_path = 'wallet_projection_output/output_f-none/output_snapshot_11659570.h5'\n",
    "\n",
    "import h5py\n",
    "from os.path import join \n",
    "\n",
    "# Open the HDF5 file for reading\n",
    "with h5py.File(join(path,file_path), 'r') as file:\n",
    "    # Access the p_values_group\n",
    "    p_values_group = file['snapshot_11659570/p_values']\n",
    "\n",
    "    # Create an empty list to store the batches\n",
    "    batches = []\n",
    "\n",
    "    # Iterate over the datasets in p_values_group\n",
    "    for dataset_name in p_values_group:\n",
    "        dataset = p_values_group[dataset_name]\n",
    "\n",
    "        # Access the data in the dataset\n",
    "        data = dataset[:]\n",
    "\n",
    "        # Append the batch data to the list\n",
    "        batches.append(data)\n",
    "\n",
    "    # Concatenate the batches into a single DataFrame\n",
    "    p_values = np.concatenate(batches)"
   ]
  },
  {
   "cell_type": "code",
   "execution_count": 3,
   "id": "a0b5d9f6-f19f-42bb-a79c-172d2b6ee94d",
   "metadata": {},
   "outputs": [],
   "source": [
    "df_p_values = pd.DataFrame(p_values)\n",
    "\n",
    "# Rename the columns\n",
    "df_p_values = df_p_values.rename(columns={0: 'address1', 1: 'address2', 2: 'p_value'})\n",
    "\n",
    "# Convert the 'p_value' column to float\n",
    "df_p_values['p_value'] = df_p_values['p_value'].astype(float)\n",
    "\n",
    "df_p_values['address1'] = df_p_values['address1'].str.decode('utf-8')\n",
    "\n",
    "df_p_values['address2'] = df_p_values['address2'].str.decode('utf-8')"
   ]
  },
  {
   "cell_type": "code",
   "execution_count": 4,
   "id": "2ab46a87-1e0f-4489-817f-ddc6644e4191",
   "metadata": {},
   "outputs": [
    {
     "data": {
      "text/html": [
       "<div>\n",
       "<style scoped>\n",
       "    .dataframe tbody tr th:only-of-type {\n",
       "        vertical-align: middle;\n",
       "    }\n",
       "\n",
       "    .dataframe tbody tr th {\n",
       "        vertical-align: top;\n",
       "    }\n",
       "\n",
       "    .dataframe thead th {\n",
       "        text-align: right;\n",
       "    }\n",
       "</style>\n",
       "<table border=\"1\" class=\"dataframe\">\n",
       "  <thead>\n",
       "    <tr style=\"text-align: right;\">\n",
       "      <th></th>\n",
       "      <th>address1</th>\n",
       "      <th>address2</th>\n",
       "      <th>p_value</th>\n",
       "    </tr>\n",
       "  </thead>\n",
       "  <tbody>\n",
       "    <tr>\n",
       "      <th>0</th>\n",
       "      <td>0x0000000000000d9054f605ca65a2647c2b521422</td>\n",
       "      <td>0x000000000000541e251335090ac5b47176af4f7e</td>\n",
       "      <td>0.1</td>\n",
       "    </tr>\n",
       "    <tr>\n",
       "      <th>1</th>\n",
       "      <td>0x0000000000000d9054f605ca65a2647c2b521422</td>\n",
       "      <td>0x00000000000080c886232e9b7ebbfb942b5987aa</td>\n",
       "      <td>0.3</td>\n",
       "    </tr>\n",
       "    <tr>\n",
       "      <th>2</th>\n",
       "      <td>0x0000000000000d9054f605ca65a2647c2b521422</td>\n",
       "      <td>0x00000063f648c943346d2a239f0969bad32ff184</td>\n",
       "      <td>0.0</td>\n",
       "    </tr>\n",
       "    <tr>\n",
       "      <th>3</th>\n",
       "      <td>0x0000000000000d9054f605ca65a2647c2b521422</td>\n",
       "      <td>0x000000dcf1190af44f7149b85299f18ce7221024</td>\n",
       "      <td>0.1</td>\n",
       "    </tr>\n",
       "    <tr>\n",
       "      <th>4</th>\n",
       "      <td>0x0000000000000d9054f605ca65a2647c2b521422</td>\n",
       "      <td>0x00000834a8a01ecdbfaafeef5dca5a35a66d3a80</td>\n",
       "      <td>0.1</td>\n",
       "    </tr>\n",
       "    <tr>\n",
       "      <th>...</th>\n",
       "      <td>...</td>\n",
       "      <td>...</td>\n",
       "      <td>...</td>\n",
       "    </tr>\n",
       "    <tr>\n",
       "      <th>41765225</th>\n",
       "      <td>0x1f072339710506877af5be4d81be243cd55c2c54</td>\n",
       "      <td>0x2e3a5ea84cb76919f26eda71e2dee9b2a6ae224c</td>\n",
       "      <td>0.3</td>\n",
       "    </tr>\n",
       "    <tr>\n",
       "      <th>41765226</th>\n",
       "      <td>0x1f072339710506877af5be4d81be243cd55c2c54</td>\n",
       "      <td>0x2e3e8735fbc519243b9f57ec2a4403eeb346af5d</td>\n",
       "      <td>0.0</td>\n",
       "    </tr>\n",
       "    <tr>\n",
       "      <th>41765227</th>\n",
       "      <td>0x1f072339710506877af5be4d81be243cd55c2c54</td>\n",
       "      <td>0x2e40fe398483ddc20e296c2a75e5cea07f629b9c</td>\n",
       "      <td>0.1</td>\n",
       "    </tr>\n",
       "    <tr>\n",
       "      <th>41765228</th>\n",
       "      <td>0x1f072339710506877af5be4d81be243cd55c2c54</td>\n",
       "      <td>0x2e41132dab88a9bad80740a1392d322bf023d494</td>\n",
       "      <td>0.1</td>\n",
       "    </tr>\n",
       "    <tr>\n",
       "      <th>41765229</th>\n",
       "      <td>0x1f072339710506877af5be4d81be243cd55c2c54</td>\n",
       "      <td>0x2e4f8ef08217c00f30c05997ef0361218e0c8d05</td>\n",
       "      <td>0.1</td>\n",
       "    </tr>\n",
       "  </tbody>\n",
       "</table>\n",
       "<p>41765230 rows × 3 columns</p>\n",
       "</div>"
      ],
      "text/plain": [
       "                                            address1  \\\n",
       "0         0x0000000000000d9054f605ca65a2647c2b521422   \n",
       "1         0x0000000000000d9054f605ca65a2647c2b521422   \n",
       "2         0x0000000000000d9054f605ca65a2647c2b521422   \n",
       "3         0x0000000000000d9054f605ca65a2647c2b521422   \n",
       "4         0x0000000000000d9054f605ca65a2647c2b521422   \n",
       "...                                              ...   \n",
       "41765225  0x1f072339710506877af5be4d81be243cd55c2c54   \n",
       "41765226  0x1f072339710506877af5be4d81be243cd55c2c54   \n",
       "41765227  0x1f072339710506877af5be4d81be243cd55c2c54   \n",
       "41765228  0x1f072339710506877af5be4d81be243cd55c2c54   \n",
       "41765229  0x1f072339710506877af5be4d81be243cd55c2c54   \n",
       "\n",
       "                                            address2  p_value  \n",
       "0         0x000000000000541e251335090ac5b47176af4f7e      0.1  \n",
       "1         0x00000000000080c886232e9b7ebbfb942b5987aa      0.3  \n",
       "2         0x00000063f648c943346d2a239f0969bad32ff184      0.0  \n",
       "3         0x000000dcf1190af44f7149b85299f18ce7221024      0.1  \n",
       "4         0x00000834a8a01ecdbfaafeef5dca5a35a66d3a80      0.1  \n",
       "...                                              ...      ...  \n",
       "41765225  0x2e3a5ea84cb76919f26eda71e2dee9b2a6ae224c      0.3  \n",
       "41765226  0x2e3e8735fbc519243b9f57ec2a4403eeb346af5d      0.0  \n",
       "41765227  0x2e40fe398483ddc20e296c2a75e5cea07f629b9c      0.1  \n",
       "41765228  0x2e41132dab88a9bad80740a1392d322bf023d494      0.1  \n",
       "41765229  0x2e4f8ef08217c00f30c05997ef0361218e0c8d05      0.1  \n",
       "\n",
       "[41765230 rows x 3 columns]"
      ]
     },
     "execution_count": 4,
     "metadata": {},
     "output_type": "execute_result"
    }
   ],
   "source": [
    "df_p_values"
   ]
  },
  {
   "cell_type": "code",
   "execution_count": 5,
   "id": "793b2b5e-1984-451f-b9b8-7ba1d466bb1c",
   "metadata": {},
   "outputs": [],
   "source": [
    "## Correct for bonferri correcton \n",
    "from statsmodels.stats.multitest import multipletests as m_tests\n",
    "# Ref.: https://www.statsmodels.org/devel/generated/statsmodels.stats.multitest.multipletests.html#statsmodels.stats.multitest.multipletests\n",
    "m_test = m_tests(pvals=df_p_values.p_value.values, alpha=0.01, method='bonferroni')\n",
    "df_p_values['m_test_result'] = m_test[1]"
   ]
  },
  {
   "cell_type": "markdown",
   "id": "e7b20f79-45e7-4137-8082-8e5c28e6e289",
   "metadata": {},
   "source": [
    "### calculate weighted portfoolio \n",
    "Formula: wis(t) = ps(t)Wis(t)/∑xpx(t)Wix(t)"
   ]
  },
  {
   "cell_type": "code",
   "execution_count": 6,
   "id": "8cf8e6db-71dc-43e5-8e6c-7361a00a0c9b",
   "metadata": {},
   "outputs": [],
   "source": [
    "from data_loading.load_data import load_preparations, load_snapshot_frame\n",
    "\n",
    "snapshots, assets = load_preparations()"
   ]
  },
  {
   "cell_type": "code",
   "execution_count": 7,
   "id": "572bee55-87b8-4323-874d-6a4d1477dcf4",
   "metadata": {},
   "outputs": [],
   "source": [
    "## load data frame\n",
    "snapshot = '11659570'\n",
    "ddf = load_snapshot_frame(snapshot, path, assets)"
   ]
  },
  {
   "cell_type": "code",
   "execution_count": null,
   "id": "ff2c7161-271e-4a11-b233-c66659fb9a58",
   "metadata": {},
   "outputs": [],
   "source": []
  },
  {
   "cell_type": "code",
   "execution_count": 8,
   "id": "22294153-9bb0-4388-9bea-64a24a63f99f",
   "metadata": {},
   "outputs": [
    {
     "name": "stdout",
     "output_type": "stream",
     "text": [
      "0xba100000625a3754423978a60c9317c58a424e3d\n",
      "0x0bc529c00c6401aef6d220be8c6ea1667f6ad93e\n",
      "0x111111111117dc0aa78b770fa6a738034120c302\n",
      "0x1f9840a85d5af5bf1d1762f925bdaddc4201f984\n",
      "0x9f8f72aa9304c8b593d555f12ef6589cc3a579a2\n",
      "0x6b3595068778dd592e39a122f4f5a5cf09c90fe2\n",
      "0x7fc66500c84a76ad7e9c93437bfc5ac33e2ddae9\n",
      "0xc00e94cb662c3520282e6f5717214004a7f26888\n",
      "0xd533a949740bb3306d119cc777fa900ba034cd52\n",
      "0x5a98fcbea516cf06857215779fd812ca3bef1b32\n"
     ]
    }
   ],
   "source": [
    "from data_processing.token_price import convert_blockheight_to_date, usd_value_decimals_token\n",
    "\n",
    "##create price list\n",
    "\n",
    "price_list = {}\n",
    "snapshot = '11659570'\n",
    "covalent_api_key = 'ckey_205246b0f1bb476c8a40542f755' #os.environ[\"COVALENTHQ_API_KEY\"]\n",
    "\n",
    "\n",
    "for token_address in ddf.token_address.unique(): \n",
    "    \n",
    "    print(token_address)\n",
    "    \n",
    "    token_price_usd = usd_value_decimals_token(snapshot=snapshot, contractAddress=token_address, api_key=covalent_api_key, chainName='eth-mainnet',quoteCurrency='USD')['token_price_usd'] \n",
    "    \n",
    "    price_list[token_address] = token_price_usd"
   ]
  },
  {
   "cell_type": "code",
   "execution_count": 9,
   "id": "b3736a05-f763-4f15-b4fc-46af334c3cd5",
   "metadata": {},
   "outputs": [],
   "source": [
    "import pandas as pd\n",
    "\n",
    "# Drop the 'Unnamed: 0' column\n",
    "ddf = ddf.drop('Unnamed: 0', axis=1)"
   ]
  },
  {
   "cell_type": "code",
   "execution_count": 10,
   "id": "1e5b63b1-5405-41a3-b8c9-22d43471973f",
   "metadata": {},
   "outputs": [
    {
     "name": "stdout",
     "output_type": "stream",
     "text": [
      "0xba100000625a3754423978a60c9317c58a424e3d\n",
      "0x0bc529c00c6401aef6d220be8c6ea1667f6ad93e\n",
      "0x111111111117dc0aa78b770fa6a738034120c302\n",
      "0x1f9840a85d5af5bf1d1762f925bdaddc4201f984\n",
      "0x9f8f72aa9304c8b593d555f12ef6589cc3a579a2\n",
      "0x6b3595068778dd592e39a122f4f5a5cf09c90fe2\n",
      "0x7fc66500c84a76ad7e9c93437bfc5ac33e2ddae9\n",
      "0xc00e94cb662c3520282e6f5717214004a7f26888\n",
      "0xd533a949740bb3306d119cc777fa900ba034cd52\n",
      "0x5a98fcbea516cf06857215779fd812ca3bef1b32\n"
     ]
    }
   ],
   "source": [
    "ddf['contract_decimals'] = int\n",
    "ddf['token_units'] = float\n",
    "ddf['token_price_usd'] = float\n",
    "\n",
    "snapshot = '11659570'\n",
    "covalent_api_key = 'ckey_205246b0f1bb476c8a40542f755' #os.environ[\"COVALENTHQ_API_KEY\"]\n",
    "\n",
    "\n",
    "\n",
    "data = []\n",
    "\n",
    "#### BIG ASSUMPTION: USING AVAILABLE SUPPLY AFTEER CUT OFF - I.E. MCAP ETC ARE NOT IDENTICAL TO HISTORICAL \n",
    "\n",
    "for contract_address in ddf.token_address.unique(): \n",
    "    \n",
    "    print(contract_address)\n",
    "    \n",
    "    response = usd_value_decimals_token(snapshot=snapshot, contractAddress=contract_address, api_key=covalent_api_key, chainName='eth-mainnet',quoteCurrency='USD')\n",
    "    \n",
    "    ddf.loc[ddf.token_address == contract_address, 'contract_decimals'] = response['contract_decimals']\n",
    "    ddf.loc[ddf.token_address == contract_address, 'token_price_usd'] = response['token_price_usd']\n",
    "\n",
    "\n",
    "ddf['token_units'] = ddf['value']/(10**ddf['contract_decimals'])\n",
    "ddf['token_units'] = ddf['token_units'].astype(float)\n",
    "\n",
    "ddf['value_usd'] = ddf['token_units']*ddf['token_price_usd']\n",
    "ddf['value_usd'] = ddf['value_usd'].astype(float)"
   ]
  },
  {
   "cell_type": "code",
   "execution_count": 11,
   "id": "dfd7812a-71ea-4816-9898-80bbe7d7b7fc",
   "metadata": {},
   "outputs": [],
   "source": [
    "t_wallet = '0x00000000000080c886232e9b7ebbfb942b5987aa'\n",
    "t_token = '0x111111111117dc0aa78b770fa6a738034120c302'\n",
    "t_token2 = '0x0bc529c00c6401aef6d220be8c6ea1667f6ad93e'"
   ]
  },
  {
   "cell_type": "code",
   "execution_count": 12,
   "id": "ead6c512-0a1e-45db-8f9a-44c4b69f58a4",
   "metadata": {},
   "outputs": [
    {
     "data": {
      "text/plain": [
       "14108.63702318288"
      ]
     },
     "execution_count": 12,
     "metadata": {},
     "output_type": "execute_result"
    }
   ],
   "source": [
    "# w_is\n",
    "##portfolio value of given token for a given wallet\n",
    "ddf[(ddf.address == t_wallet)&(ddf.token_address == t_token)].value_usd.sum()"
   ]
  },
  {
   "cell_type": "code",
   "execution_count": 13,
   "id": "70509dcb-0590-4b76-8ab6-194c9b5a0e5f",
   "metadata": {},
   "outputs": [
    {
     "data": {
      "text/plain": [
       "81132.68369770731"
      ]
     },
     "execution_count": 13,
     "metadata": {},
     "output_type": "execute_result"
    }
   ],
   "source": [
    "##portfolio value - Note: this may is only true or assets in the selection\n",
    "ddf[ddf.address == t_wallet].value_usd.sum() "
   ]
  },
  {
   "cell_type": "code",
   "execution_count": 14,
   "id": "8b12c388-ff5e-4c26-a7ea-c5d426fc7171",
   "metadata": {},
   "outputs": [
    {
     "data": {
      "text/plain": [
       "10489.827878962964"
      ]
     },
     "execution_count": 14,
     "metadata": {},
     "output_type": "execute_result"
    }
   ],
   "source": [
    "# c_is\n",
    "## amount_of_a_given_token\n",
    "ddf[(ddf.address == t_wallet)&(ddf.token_address == t_token)].token_units.sum()"
   ]
  },
  {
   "cell_type": "code",
   "execution_count": 15,
   "id": "9fa53130-b431-4597-8caa-ff398d9b7727",
   "metadata": {},
   "outputs": [
    {
     "data": {
      "text/plain": [
       "1492870146.4284205"
      ]
     },
     "execution_count": 15,
     "metadata": {},
     "output_type": "execute_result"
    }
   ],
   "source": [
    "## total_circulating_supply\n",
    "ddf[(ddf.token_address == t_token)].token_units.sum()"
   ]
  },
  {
   "cell_type": "code",
   "execution_count": 16,
   "id": "4ef2aef7-66b5-4b49-8a28-8a33413c035f",
   "metadata": {},
   "outputs": [
    {
     "data": {
      "text/plain": [
       "2604"
      ]
     },
     "execution_count": 16,
     "metadata": {},
     "output_type": "execute_result"
    }
   ],
   "source": [
    "## ds(t) || ds(t) = ∑iAis(t) of a security s is the number of investors holding it at time t.\n",
    "ddf[(ddf.token_address == t_token2)].address.nunique()"
   ]
  },
  {
   "cell_type": "code",
   "execution_count": 17,
   "id": "7db96da8-0d4c-49a6-bc6f-e3e847e3e280",
   "metadata": {},
   "outputs": [
    {
     "data": {
      "text/plain": [
       "3389106.0"
      ]
     },
     "execution_count": 17,
     "metadata": {},
     "output_type": "execute_result"
    }
   ],
   "source": [
    "n = ddf[(ddf.token_address == t_token2)].address.nunique()\n",
    "(n*(n-1))/2 # possible combinations"
   ]
  },
  {
   "cell_type": "code",
   "execution_count": 18,
   "id": "2c6424ad-e8f7-4dcd-ac86-f288935e1a6f",
   "metadata": {},
   "outputs": [],
   "source": [
    "## validated links\n",
    "l = list(ddf[(ddf.token_address == t_token2)].address.unique())\n",
    "val_links = df_p_values[df_p_values.m_test_result == 0]"
   ]
  },
  {
   "cell_type": "code",
   "execution_count": 19,
   "id": "8d0cb2ef-bde6-46d1-814b-7565cfbb6db2",
   "metadata": {},
   "outputs": [
    {
     "data": {
      "text/html": [
       "<div>\n",
       "<style scoped>\n",
       "    .dataframe tbody tr th:only-of-type {\n",
       "        vertical-align: middle;\n",
       "    }\n",
       "\n",
       "    .dataframe tbody tr th {\n",
       "        vertical-align: top;\n",
       "    }\n",
       "\n",
       "    .dataframe thead th {\n",
       "        text-align: right;\n",
       "    }\n",
       "</style>\n",
       "<table border=\"1\" class=\"dataframe\">\n",
       "  <thead>\n",
       "    <tr style=\"text-align: right;\">\n",
       "      <th></th>\n",
       "      <th>address1</th>\n",
       "      <th>address2</th>\n",
       "      <th>p_value</th>\n",
       "      <th>m_test_result</th>\n",
       "    </tr>\n",
       "  </thead>\n",
       "  <tbody>\n",
       "    <tr>\n",
       "      <th>2049</th>\n",
       "      <td>0x000000000000541e251335090ac5b47176af4f7e</td>\n",
       "      <td>0x1c954665ea8f36beccfad16137c22178bdf63a32</td>\n",
       "      <td>0.0</td>\n",
       "      <td>0.0</td>\n",
       "    </tr>\n",
       "    <tr>\n",
       "      <th>2055</th>\n",
       "      <td>0x000000000000541e251335090ac5b47176af4f7e</td>\n",
       "      <td>0x1cb09ae8a2f720b723c8c67a3268a3c053f03e69</td>\n",
       "      <td>0.0</td>\n",
       "      <td>0.0</td>\n",
       "    </tr>\n",
       "    <tr>\n",
       "      <th>2056</th>\n",
       "      <td>0x000000000000541e251335090ac5b47176af4f7e</td>\n",
       "      <td>0x1cb9981a50441979361cb7eec9aa765ef9f77d88</td>\n",
       "      <td>0.0</td>\n",
       "      <td>0.0</td>\n",
       "    </tr>\n",
       "    <tr>\n",
       "      <th>2065</th>\n",
       "      <td>0x000000000000541e251335090ac5b47176af4f7e</td>\n",
       "      <td>0x1d003c6b268164eb8fdb65857188d90ec229f908</td>\n",
       "      <td>0.0</td>\n",
       "      <td>0.0</td>\n",
       "    </tr>\n",
       "    <tr>\n",
       "      <th>2066</th>\n",
       "      <td>0x000000000000541e251335090ac5b47176af4f7e</td>\n",
       "      <td>0x1d10770545c687b71fc8f7bab840123e427a3b73</td>\n",
       "      <td>0.0</td>\n",
       "      <td>0.0</td>\n",
       "    </tr>\n",
       "    <tr>\n",
       "      <th>...</th>\n",
       "      <td>...</td>\n",
       "      <td>...</td>\n",
       "      <td>...</td>\n",
       "      <td>...</td>\n",
       "    </tr>\n",
       "    <tr>\n",
       "      <th>41765206</th>\n",
       "      <td>0x1f072339710506877af5be4d81be243cd55c2c54</td>\n",
       "      <td>0x2db6f5e838ed2bad993e9ff2d3d7a5c1cc35704c</td>\n",
       "      <td>0.0</td>\n",
       "      <td>0.0</td>\n",
       "    </tr>\n",
       "    <tr>\n",
       "      <th>41765212</th>\n",
       "      <td>0x1f072339710506877af5be4d81be243cd55c2c54</td>\n",
       "      <td>0x2de14db256db2597fe3c8eed46ef5b20ba390823</td>\n",
       "      <td>0.0</td>\n",
       "      <td>0.0</td>\n",
       "    </tr>\n",
       "    <tr>\n",
       "      <th>41765219</th>\n",
       "      <td>0x1f072339710506877af5be4d81be243cd55c2c54</td>\n",
       "      <td>0x2e0d63ffcb08ea20ff3acdbb72dfec97343885d2</td>\n",
       "      <td>0.0</td>\n",
       "      <td>0.0</td>\n",
       "    </tr>\n",
       "    <tr>\n",
       "      <th>41765220</th>\n",
       "      <td>0x1f072339710506877af5be4d81be243cd55c2c54</td>\n",
       "      <td>0x2e1bbb7c78a5a534df2442909ab14ce370431e76</td>\n",
       "      <td>0.0</td>\n",
       "      <td>0.0</td>\n",
       "    </tr>\n",
       "    <tr>\n",
       "      <th>41765226</th>\n",
       "      <td>0x1f072339710506877af5be4d81be243cd55c2c54</td>\n",
       "      <td>0x2e3e8735fbc519243b9f57ec2a4403eeb346af5d</td>\n",
       "      <td>0.0</td>\n",
       "      <td>0.0</td>\n",
       "    </tr>\n",
       "  </tbody>\n",
       "</table>\n",
       "<p>3258788 rows × 4 columns</p>\n",
       "</div>"
      ],
      "text/plain": [
       "                                            address1  \\\n",
       "2049      0x000000000000541e251335090ac5b47176af4f7e   \n",
       "2055      0x000000000000541e251335090ac5b47176af4f7e   \n",
       "2056      0x000000000000541e251335090ac5b47176af4f7e   \n",
       "2065      0x000000000000541e251335090ac5b47176af4f7e   \n",
       "2066      0x000000000000541e251335090ac5b47176af4f7e   \n",
       "...                                              ...   \n",
       "41765206  0x1f072339710506877af5be4d81be243cd55c2c54   \n",
       "41765212  0x1f072339710506877af5be4d81be243cd55c2c54   \n",
       "41765219  0x1f072339710506877af5be4d81be243cd55c2c54   \n",
       "41765220  0x1f072339710506877af5be4d81be243cd55c2c54   \n",
       "41765226  0x1f072339710506877af5be4d81be243cd55c2c54   \n",
       "\n",
       "                                            address2  p_value  m_test_result  \n",
       "2049      0x1c954665ea8f36beccfad16137c22178bdf63a32      0.0            0.0  \n",
       "2055      0x1cb09ae8a2f720b723c8c67a3268a3c053f03e69      0.0            0.0  \n",
       "2056      0x1cb9981a50441979361cb7eec9aa765ef9f77d88      0.0            0.0  \n",
       "2065      0x1d003c6b268164eb8fdb65857188d90ec229f908      0.0            0.0  \n",
       "2066      0x1d10770545c687b71fc8f7bab840123e427a3b73      0.0            0.0  \n",
       "...                                              ...      ...            ...  \n",
       "41765206  0x2db6f5e838ed2bad993e9ff2d3d7a5c1cc35704c      0.0            0.0  \n",
       "41765212  0x2de14db256db2597fe3c8eed46ef5b20ba390823      0.0            0.0  \n",
       "41765219  0x2e0d63ffcb08ea20ff3acdbb72dfec97343885d2      0.0            0.0  \n",
       "41765220  0x2e1bbb7c78a5a534df2442909ab14ce370431e76      0.0            0.0  \n",
       "41765226  0x2e3e8735fbc519243b9f57ec2a4403eeb346af5d      0.0            0.0  \n",
       "\n",
       "[3258788 rows x 4 columns]"
      ]
     },
     "execution_count": 19,
     "metadata": {},
     "output_type": "execute_result"
    }
   ],
   "source": [
    "val_links[(val_links.address1.isin(l) & val_links.address2.isin(l))]"
   ]
  },
  {
   "cell_type": "code",
   "execution_count": null,
   "id": "0d6ea4bb-ba71-4f68-adaa-d2b858f61311",
   "metadata": {},
   "outputs": [],
   "source": []
  },
  {
   "cell_type": "markdown",
   "id": "1bae4ed2-f8dc-4373-873c-c418626bc3ef",
   "metadata": {},
   "source": [
    "Formulas\n",
    "\n",
    "w_is = (price_token * amount_of_a_given_token)/ value_portfolio_wallet\n",
    "\n",
    "c_is = amount_of_a_given_token/ total_circulating_supply \n",
    "\n",
    "d(s) # ds(t) = ∑iAis(t) of a security s is the number of investors holding it at time t.\n",
    "\n",
    "c_i = ∑i cis/ds(t) #average ownership fraction per institution\n",
    "\n",
    "possible_degrees = ds(t)[ds(t) − 1]/2 \n",
    "\n",
    "f_s = no_validated_degrees/ possible_degrees"
   ]
  },
  {
   "cell_type": "markdown",
   "id": "99d4a253-7796-44ed-8b2c-23fe3367a9c6",
   "metadata": {},
   "source": [
    "### Visualsiation"
   ]
  },
  {
   "cell_type": "markdown",
   "id": "ae7276a6-b396-460a-b5d7-561e504e8cb1",
   "metadata": {},
   "source": [
    "Replicating figure 6: Figure 6. Scatter plot of the average share of securities market value in a portfolio 〈w_i(t)〉 = ∑s w_is(t) versus the inverse of the portfolio diversification 1/d_i(t) for each institution i.\n"
   ]
  },
  {
   "cell_type": "code",
   "execution_count": 20,
   "id": "0692cf1e-be50-42fa-ac55-09a9d8cfc35d",
   "metadata": {},
   "outputs": [],
   "source": [
    "ddf['address_value_usd'] = ddf.groupby('address')['value_usd'].transform('sum')\n",
    "ddf['degree'] = ddf.groupby('address')['token_address'].transform('count')\n",
    "ddf['inv_degree'] = 1/ddf.groupby('address')['token_address'].transform('count')\n",
    "ddf['wi(t)'] = ddf['value_usd'] / ddf['address_value_usd']"
   ]
  },
  {
   "cell_type": "code",
   "execution_count": 21,
   "id": "4b98010c-c9b0-4c9f-8527-1f5c48eefdd4",
   "metadata": {},
   "outputs": [
    {
     "name": "stderr",
     "output_type": "stream",
     "text": [
      "/tmp/ipykernel_1179704/3488463616.py:5: SettingWithCopyWarning: \n",
      "A value is trying to be set on a copy of a slice from a DataFrame.\n",
      "Try using .loc[row_indexer,col_indexer] = value instead\n",
      "\n",
      "See the caveats in the documentation: https://pandas.pydata.org/pandas-docs/stable/user_guide/indexing.html#returning-a-view-versus-a-copy\n",
      "  df_token_projections_validated[['token1', 'token2']] = df_token_projections_validated.combination.str.strip(\"()\").str.replace(\"'\", \"\").str.split(\", \", expand=True)\n",
      "/tmp/ipykernel_1179704/3488463616.py:5: SettingWithCopyWarning: \n",
      "A value is trying to be set on a copy of a slice from a DataFrame.\n",
      "Try using .loc[row_indexer,col_indexer] = value instead\n",
      "\n",
      "See the caveats in the documentation: https://pandas.pydata.org/pandas-docs/stable/user_guide/indexing.html#returning-a-view-versus-a-copy\n",
      "  df_token_projections_validated[['token1', 'token2']] = df_token_projections_validated.combination.str.strip(\"()\").str.replace(\"'\", \"\").str.split(\", \", expand=True)\n"
     ]
    }
   ],
   "source": [
    "### load token validation\n",
    "df_token_projections = pd.read_csv(join(path, 'token_projection_output/output_f-none_cutoff/pvalues_11659570_none.csv'), index_col=0)\n",
    "df_token_projections_validated = df_token_projections[df_token_projections.m_test_result == True]\n",
    "df_token_projections_validated.reset_index(inplace=True)\n",
    "df_token_projections_validated[['token1', 'token2']] = df_token_projections_validated.combination.str.strip(\"()\").str.replace(\"'\", \"\").str.split(\", \", expand=True)"
   ]
  },
  {
   "cell_type": "code",
   "execution_count": 22,
   "id": "49a79549-45dc-4ca2-8cda-2e033f6c89ab",
   "metadata": {},
   "outputs": [
    {
     "data": {
      "text/html": [
       "<div>\n",
       "<style scoped>\n",
       "    .dataframe tbody tr th:only-of-type {\n",
       "        vertical-align: middle;\n",
       "    }\n",
       "\n",
       "    .dataframe tbody tr th {\n",
       "        vertical-align: top;\n",
       "    }\n",
       "\n",
       "    .dataframe thead th {\n",
       "        text-align: right;\n",
       "    }\n",
       "</style>\n",
       "<table border=\"1\" class=\"dataframe\">\n",
       "  <thead>\n",
       "    <tr style=\"text-align: right;\">\n",
       "      <th></th>\n",
       "      <th>index</th>\n",
       "      <th>combination</th>\n",
       "      <th>p_value</th>\n",
       "      <th>m_test_result</th>\n",
       "      <th>m_test_value</th>\n",
       "      <th>token1</th>\n",
       "      <th>token2</th>\n",
       "    </tr>\n",
       "  </thead>\n",
       "  <tbody>\n",
       "    <tr>\n",
       "      <th>0</th>\n",
       "      <td>6</td>\n",
       "      <td>('0xba100000625a3754423978a60c9317c58a424e3d',...</td>\n",
       "      <td>6.996058e-08</td>\n",
       "      <td>True</td>\n",
       "      <td>3.148226e-06</td>\n",
       "      <td>0xba100000625a3754423978a60c9317c58a424e3d</td>\n",
       "      <td>0xc00e94cb662c3520282e6f5717214004a7f26888</td>\n",
       "    </tr>\n",
       "    <tr>\n",
       "      <th>1</th>\n",
       "      <td>7</td>\n",
       "      <td>('0xba100000625a3754423978a60c9317c58a424e3d',...</td>\n",
       "      <td>7.315890e-08</td>\n",
       "      <td>True</td>\n",
       "      <td>3.292150e-06</td>\n",
       "      <td>0xba100000625a3754423978a60c9317c58a424e3d</td>\n",
       "      <td>0xd533a949740bb3306d119cc777fa900ba034cd52</td>\n",
       "    </tr>\n",
       "    <tr>\n",
       "      <th>2</th>\n",
       "      <td>22</td>\n",
       "      <td>('0x111111111117dc0aa78b770fa6a738034120c302',...</td>\n",
       "      <td>2.970726e-07</td>\n",
       "      <td>True</td>\n",
       "      <td>1.336827e-05</td>\n",
       "      <td>0x111111111117dc0aa78b770fa6a738034120c302</td>\n",
       "      <td>0xd533a949740bb3306d119cc777fa900ba034cd52</td>\n",
       "    </tr>\n",
       "    <tr>\n",
       "      <th>3</th>\n",
       "      <td>27</td>\n",
       "      <td>('0x1f9840a85d5af5bf1d1762f925bdaddc4201f984',...</td>\n",
       "      <td>1.396173e-09</td>\n",
       "      <td>True</td>\n",
       "      <td>6.282777e-08</td>\n",
       "      <td>0x1f9840a85d5af5bf1d1762f925bdaddc4201f984</td>\n",
       "      <td>0xc00e94cb662c3520282e6f5717214004a7f26888</td>\n",
       "    </tr>\n",
       "    <tr>\n",
       "      <th>4</th>\n",
       "      <td>42</td>\n",
       "      <td>('0xc00e94cb662c3520282e6f5717214004a7f26888',...</td>\n",
       "      <td>5.407815e-07</td>\n",
       "      <td>True</td>\n",
       "      <td>2.433517e-05</td>\n",
       "      <td>0xc00e94cb662c3520282e6f5717214004a7f26888</td>\n",
       "      <td>0xd533a949740bb3306d119cc777fa900ba034cd52</td>\n",
       "    </tr>\n",
       "  </tbody>\n",
       "</table>\n",
       "</div>"
      ],
      "text/plain": [
       "   index                                        combination       p_value  \\\n",
       "0      6  ('0xba100000625a3754423978a60c9317c58a424e3d',...  6.996058e-08   \n",
       "1      7  ('0xba100000625a3754423978a60c9317c58a424e3d',...  7.315890e-08   \n",
       "2     22  ('0x111111111117dc0aa78b770fa6a738034120c302',...  2.970726e-07   \n",
       "3     27  ('0x1f9840a85d5af5bf1d1762f925bdaddc4201f984',...  1.396173e-09   \n",
       "4     42  ('0xc00e94cb662c3520282e6f5717214004a7f26888',...  5.407815e-07   \n",
       "\n",
       "   m_test_result  m_test_value                                      token1  \\\n",
       "0           True  3.148226e-06  0xba100000625a3754423978a60c9317c58a424e3d   \n",
       "1           True  3.292150e-06  0xba100000625a3754423978a60c9317c58a424e3d   \n",
       "2           True  1.336827e-05  0x111111111117dc0aa78b770fa6a738034120c302   \n",
       "3           True  6.282777e-08  0x1f9840a85d5af5bf1d1762f925bdaddc4201f984   \n",
       "4           True  2.433517e-05  0xc00e94cb662c3520282e6f5717214004a7f26888   \n",
       "\n",
       "                                       token2  \n",
       "0  0xc00e94cb662c3520282e6f5717214004a7f26888  \n",
       "1  0xd533a949740bb3306d119cc777fa900ba034cd52  \n",
       "2  0xd533a949740bb3306d119cc777fa900ba034cd52  \n",
       "3  0xc00e94cb662c3520282e6f5717214004a7f26888  \n",
       "4  0xd533a949740bb3306d119cc777fa900ba034cd52  "
      ]
     },
     "execution_count": 22,
     "metadata": {},
     "output_type": "execute_result"
    }
   ],
   "source": [
    "df_token_projections_validated"
   ]
  },
  {
   "cell_type": "code",
   "execution_count": null,
   "id": "1d324018-b683-4fb1-9fce-31af619295fa",
   "metadata": {},
   "outputs": [],
   "source": []
  },
  {
   "cell_type": "code",
   "execution_count": 23,
   "id": "73784c7b-8550-401b-91c2-e808be7d31e4",
   "metadata": {},
   "outputs": [],
   "source": [
    "# Get unique token addresses from 'token1' column\n",
    "unique_token1_addresses = np.unique(df_token_projections_validated['token1'])\n",
    "\n",
    "# Get unique token addresses from 'token2' column\n",
    "unique_token2_addresses = np.unique(df_token_projections_validated['token2'])\n",
    "\n",
    "# Combine the unique token addresses from both columns\n",
    "unique_token_addresses = np.unique(np.concatenate((unique_token1_addresses, unique_token2_addresses)))\n"
   ]
  },
  {
   "cell_type": "code",
   "execution_count": 24,
   "id": "d5b4d206-fcab-4b66-b00a-9f85989b4aaa",
   "metadata": {},
   "outputs": [],
   "source": [
    "### We look at pair of instutions \n",
    "ddf['holds_validated_security'] = ddf.groupby('address', group_keys=False)['token_address'].apply(lambda x: x.isin(unique_token_addresses))\n"
   ]
  },
  {
   "cell_type": "code",
   "execution_count": 25,
   "id": "5ffcc6b9-d0ba-4fed-bfaf-0e8a24f09544",
   "metadata": {},
   "outputs": [
    {
     "name": "stderr",
     "output_type": "stream",
     "text": [
      "/tmp/ipykernel_1179704/536650890.py:3: SettingWithCopyWarning: \n",
      "A value is trying to be set on a copy of a slice from a DataFrame.\n",
      "Try using .loc[row_indexer,col_indexer] = value instead\n",
      "\n",
      "See the caveats in the documentation: https://pandas.pydata.org/pandas-docs/stable/user_guide/indexing.html#returning-a-view-versus-a-copy\n",
      "  df_token_projections_validated[['token1', 'token2']] = df_token_projections_validated.combination.str.strip(\"()\").str.replace(\"'\", \"\").str.split(\", \", expand=True)\n",
      "/tmp/ipykernel_1179704/536650890.py:3: SettingWithCopyWarning: \n",
      "A value is trying to be set on a copy of a slice from a DataFrame.\n",
      "Try using .loc[row_indexer,col_indexer] = value instead\n",
      "\n",
      "See the caveats in the documentation: https://pandas.pydata.org/pandas-docs/stable/user_guide/indexing.html#returning-a-view-versus-a-copy\n",
      "  df_token_projections_validated[['token1', 'token2']] = df_token_projections_validated.combination.str.strip(\"()\").str.replace(\"'\", \"\").str.split(\", \", expand=True)\n"
     ]
    }
   ],
   "source": [
    "df_token_projections_validated = df_token_projections[df_token_projections.m_test_result == True]\n",
    "df_token_projections_validated.reset_index(inplace=True)\n",
    "df_token_projections_validated[['token1', 'token2']] = df_token_projections_validated.combination.str.strip(\"()\").str.replace(\"'\", \"\").str.split(\", \", expand=True)"
   ]
  },
  {
   "cell_type": "code",
   "execution_count": 26,
   "id": "64da1d8b-b7ad-48af-867c-dcd3bdb133df",
   "metadata": {},
   "outputs": [
    {
     "data": {
      "image/png": "[encoded data removed]",
      "text/plain": [
       "<Figure size 432x288 with 1 Axes>"
      ]
     },
     "metadata": {
      "needs_background": "light"
     },
     "output_type": "display_data"
    }
   ],
   "source": [
    "import matplotlib.pyplot as plt\n",
    "import numpy as np\n",
    "\n",
    "# Calculate the average inverse degree\n",
    "average_inverse_degree = 1 / np.mean(ddf['degree'])\n",
    "\n",
    "# Separate the data based on the \"holds_validated_security\" column\n",
    "non_overlapping = ddf[~ddf['holds_validated_security']] ### DOUBLE CHECK ~\n",
    "overlapping = ddf[ddf['holds_validated_security']]\n",
    "\n",
    "# Create scatter plot for overlapping portfolios\n",
    "plt.scatter(np.log10(overlapping['inv_degree']), np.log10(overlapping['wi(t)']),\n",
    "            label='Overlapping Portfolios', s=1, color='red')\n",
    "\n",
    "# Create scatter plot for non-overlapping portfolios\n",
    "plt.scatter(np.log10(non_overlapping['inv_degree']), np.log10(non_overlapping['wi(t)']),\n",
    "            label='Non-Overlapping Portfolios', s=1, color='blue')\n",
    "\n",
    "# Plot the average inverse degree line\n",
    "x = np.linspace(np.min(np.log10(ddf['inv_degree'])), np.max(np.log10(ddf['inv_degree'])), 100)\n",
    "y = average_inverse_degree * x\n",
    "plt.plot(x, y, linestyle='--', color='black', linewidth=1, label='Average Inverse Degree')\n",
    "\n",
    "# Set labels and title\n",
    "plt.xlabel('Inverse Portfolio Diversification (1/di(t))')\n",
    "plt.ylabel('Average Share of Securities Market Value (wi(t))')\n",
    "plt.title('Scatter Plot of Portfolio Characteristics')\n",
    "\n",
    "# Add legend\n",
    "plt.legend()\n",
    "\n",
    "# Display the plot\n",
    "plt.show()\n"
   ]
  },
  {
   "cell_type": "code",
   "execution_count": 27,
   "id": "a0d1b5b2-4254-4324-a12f-edddcff7e152",
   "metadata": {},
   "outputs": [
    {
     "data": {
      "text/plain": [
       "<matplotlib.collections.PathCollection at 0x7f501b5701c0>"
      ]
     },
     "execution_count": 27,
     "metadata": {},
     "output_type": "execute_result"
    },
    {
     "data": {
      "image/png": "[encoded data removed]",
      "text/plain": [
       "<Figure size 432x288 with 1 Axes>"
      ]
     },
     "metadata": {
      "needs_background": "light"
     },
     "output_type": "display_data"
    }
   ],
   "source": [
    "plt.scatter(ddf.index, ddf['address_value_usd'])"
   ]
  },
  {
   "cell_type": "code",
   "execution_count": 28,
   "id": "349f4ee3-20d3-46c3-ac79-093fcd66ce1c",
   "metadata": {},
   "outputs": [
    {
     "data": {
      "text/plain": [
       "<matplotlib.collections.PathCollection at 0x7f501bd65e50>"
      ]
     },
     "execution_count": 28,
     "metadata": {},
     "output_type": "execute_result"
    },
    {
     "data": {
      "image/png": "[encoded data removed]",
      "text/plain": [
       "<Figure size 432x288 with 1 Axes>"
      ]
     },
     "metadata": {
      "needs_background": "light"
     },
     "output_type": "display_data"
    }
   ],
   "source": [
    "plt.scatter(ddf.index, ddf['inv_degree'])"
   ]
  },
  {
   "cell_type": "markdown",
   "id": "a727e0b8-23ad-497a-afde-5b7c63da21ab",
   "metadata": {},
   "source": [
    "Figure 7. Scatter plots of the fraction fs(t) of validated pairs of institutions owning a security s versus the security capitalization (left plot), its concentration (central plot) and number of owners (right plot)."
   ]
  },
  {
   "cell_type": "code",
   "execution_count": 29,
   "id": "8d3b98be-76ea-4a15-8b44-4a8660633858",
   "metadata": {},
   "outputs": [],
   "source": [
    "# query historical mcap \n",
    "\n",
    "import requests \n",
    "import datetime\n",
    "\n",
    "\n",
    "# get assets mcap\n",
    "\n",
    "# get coingecko id\n",
    "df_token = pd.read_csv(\"../assets/df_final_token_selection_20221209.csv\")\n",
    "address_cgId_dict = dict(zip(df_token.address,df_token.coingecko_id))\n",
    "\n",
    "# convert snapshot to DD-MM_YYYY using Etherscan API\n",
    "r = requests.get(f'https://api.etherscan.io/api?module=block&action=getblockreward&blockno={snapshot}&apikey={etherscan_api}')\n",
    "snapshot_timeStamp = int(r.json()['result']['timeStamp'])\n",
    "snapshot_date = str(datetime.datetime.fromtimestamp(snapshot_timeStamp).strftime('%d-%m-%Y'))\n",
    "\n",
    "# get historical mcap\n",
    "mcap_dict ={}\n",
    "for token_address in np.unique(ddf.token_address): \n",
    "    r = requests.get(url=f'https://api.coingecko.com/api/v3/coins/{address_cgId_dict[token_address]}/history?date={snapshot_date}')\n",
    "    mcap = r.json()['market_data']['market_cap']['usd']\n",
    "    mcap_dict[token_address] = mcap"
   ]
  },
  {
   "cell_type": "code",
   "execution_count": 30,
   "id": "2c679910-1407-4399-ae30-8f2ee656c2b3",
   "metadata": {},
   "outputs": [],
   "source": [
    "# mcap\n",
    "ddf['mcap'] = ddf.token_address.apply(lambda x: mcap_dict[x])\n",
    "# ddf['mcap'] = ddf.groupby('address')['value_usd'].transform('sum')"
   ]
  },
  {
   "cell_type": "code",
   "execution_count": 31,
   "id": "c6cedcab-9a23-4406-bf3a-6593655e81d6",
   "metadata": {},
   "outputs": [
    {
     "data": {
      "text/plain": [
       "array(['EMOA', 'PCV', nan, 'vesting_contract', 'IEMOA', 'lp_amm',\n",
       "       'other_contracts', 'lending_borrowing_contract', 'bridge_contract',\n",
       "       'internal_staking_contracts', 'external_staking_contracts'],\n",
       "      dtype=object)"
      ]
     },
     "execution_count": 31,
     "metadata": {},
     "output_type": "execute_result"
    }
   ],
   "source": [
    "ddf.label.unique()"
   ]
  },
  {
   "cell_type": "code",
   "execution_count": 32,
   "id": "6334183d-c0b7-40ec-9610-3d9bbf1a3919",
   "metadata": {},
   "outputs": [],
   "source": [
    "# 'cis = pct_supply'\n",
    "ddf['circulating_supply'] = ddf.groupby('token_address').token_units.transform('sum')\n",
    "ddf['degree_i'] = ddf.groupby('address')['token_address'].transform('count')\n",
    "ddf['degree_s'] = ddf.groupby('token_address')['address'].transform('count')\n",
    "ddf['cis(t)/d(t)'] = ddf['pct_supply'] /ddf['degree_s']"
   ]
  },
  {
   "cell_type": "code",
   "execution_count": 33,
   "id": "09a243ae-92d7-4379-8dda-d99e21429c7b",
   "metadata": {},
   "outputs": [],
   "source": [
    "df_val = df_p_values[df_p_values.m_test_result == 0]"
   ]
  },
  {
   "cell_type": "code",
   "execution_count": 34,
   "id": "7455ee0d-a694-4613-a375-b492a49d122c",
   "metadata": {},
   "outputs": [],
   "source": [
    "ddf['nuniq_token_holder'] = ddf.groupby('token_address')['address'].transform('count')\n",
    "ddf['possible_links'] = (ddf['nuniq_token_holder']*(ddf['nuniq_token_holder']-1))/2"
   ]
  },
  {
   "cell_type": "code",
   "execution_count": 35,
   "id": "7bf53060-f65c-42b0-b2cd-84ae91e35b9f",
   "metadata": {},
   "outputs": [],
   "source": [
    "observed_links_count = df_val.groupby('address1')['address2'].nunique().add(df_val.groupby('address2')['address1'].nunique(), fill_value=0)\n"
   ]
  },
  {
   "cell_type": "code",
   "execution_count": 36,
   "id": "cb4a0b0f-64e1-467a-9cba-1110ac01480b",
   "metadata": {},
   "outputs": [],
   "source": [
    "ddf = ddf.merge(observed_links_count.rename('observed_links').groupby(level=0).sum(), left_on='address', right_index=True)\n"
   ]
  },
  {
   "cell_type": "code",
   "execution_count": 38,
   "id": "413767e3-1bfa-4aea-9e9c-a79d641d7f5c",
   "metadata": {},
   "outputs": [],
   "source": [
    "ddf['fs(t)'] = ddf['observed_links']/ddf['possible_links']\n"
   ]
  },
  {
   "cell_type": "code",
   "execution_count": 39,
   "id": "5c5a9d0b-019f-4483-bc10-a38952ab4239",
   "metadata": {},
   "outputs": [
    {
     "data": {
      "text/plain": [
       "token_address\n",
       "0x0bc529c00c6401aef6d220be8c6ea1667f6ad93e    0.113511\n",
       "0x111111111117dc0aa78b770fa6a738034120c302    0.928882\n",
       "0x1f9840a85d5af5bf1d1762f925bdaddc4201f984    0.129007\n",
       "0x5a98fcbea516cf06857215779fd812ca3bef1b32    0.354197\n",
       "0x6b3595068778dd592e39a122f4f5a5cf09c90fe2    0.401837\n",
       "0x7fc66500c84a76ad7e9c93437bfc5ac33e2ddae9    0.201608\n",
       "0x9f8f72aa9304c8b593d555f12ef6589cc3a579a2    0.144032\n",
       "0xba100000625a3754423978a60c9317c58a424e3d    0.124763\n",
       "0xc00e94cb662c3520282e6f5717214004a7f26888    0.379144\n",
       "0xd533a949740bb3306d119cc777fa900ba034cd52    0.515525\n",
       "Name: pct_supply, dtype: float64"
      ]
     },
     "execution_count": 39,
     "metadata": {},
     "output_type": "execute_result"
    }
   ],
   "source": [
    "ddf.groupby('token_address').pct_supply.max() ### Check if max supply values seem realistic who hold 92 %"
   ]
  },
  {
   "cell_type": "code",
   "execution_count": 40,
   "id": "a77a06a6-7d46-43bf-abb1-580f103a706c",
   "metadata": {},
   "outputs": [
    {
     "data": {
      "text/plain": [
       "Text(0.5, 1.0, 'Scatter Plot: Fraction fs(t) vs. Security Capitalization')"
      ]
     },
     "execution_count": 40,
     "metadata": {},
     "output_type": "execute_result"
    },
    {
     "data": {
      "image/png": "[encoded data removed]",
      "text/plain": [
       "<Figure size 432x288 with 1 Axes>"
      ]
     },
     "metadata": {
      "needs_background": "light"
     },
     "output_type": "display_data"
    }
   ],
   "source": [
    "# Plot of fraction fs(t) versus security capitalization\n",
    "plt.scatter(np.log10(ddf['mcap']), ddf['fs(t)'])\n",
    "plt.xlabel('Log10 Security Capitalization')\n",
    "plt.ylabel('Fraction of Val. Overlapping Portfolio Pairs (fs(t))')\n",
    "plt.title('Scatter Plot: Fraction fs(t) vs. Security Capitalization')"
   ]
  },
  {
   "cell_type": "code",
   "execution_count": 41,
   "id": "b1f43169-cac9-4f77-97e1-709df2d7b756",
   "metadata": {},
   "outputs": [
    {
     "data": {
      "text/plain": [
       "Text(0.5, 1.0, 'Scatter Plot: Fraction fs(t) vs. Concentration')"
      ]
     },
     "execution_count": 41,
     "metadata": {},
     "output_type": "execute_result"
    },
    {
     "data": {
      "image/png": "[encoded data removed]",
      "text/plain": [
       "<Figure size 432x288 with 1 Axes>"
      ]
     },
     "metadata": {
      "needs_background": "light"
     },
     "output_type": "display_data"
    }
   ],
   "source": [
    "# Plot of fraction fs(t) versus concentration\n",
    "plt.scatter(np.log10(ddf['cis(t)/d(t)']), ddf['fs(t)'])\n",
    "plt.xlabel('Concentration (cis(t)/d(t))')\n",
    "plt.ylabel('Fraction of Val. Overlapping Portfolio Pairs (fs(t))')\n",
    "plt.title('Scatter Plot: Fraction fs(t) vs. Concentration')"
   ]
  },
  {
   "cell_type": "code",
   "execution_count": 42,
   "id": "3233162e-4f09-4c0b-8863-8eba05780c3a",
   "metadata": {},
   "outputs": [
    {
     "data": {
      "text/plain": [
       "Text(0.5, 1.0, 'Scatter Plot: Fraction fs(t) vs. Number of Owners')"
      ]
     },
     "execution_count": 42,
     "metadata": {},
     "output_type": "execute_result"
    },
    {
     "data": {
      "image/png": "[encoded data removed]",
      "text/plain": [
       "<Figure size 432x288 with 1 Axes>"
      ]
     },
     "metadata": {
      "needs_background": "light"
     },
     "output_type": "display_data"
    }
   ],
   "source": [
    "# Plot of fraction fs(t) versus number of owners\n",
    "plt.scatter(np.log10(ddf['degree_s']), ddf['fs(t)'])\n",
    "plt.xlabel('Log10 Number of Owners (degree_s)')\n",
    "plt.ylabel('Fraction of Validated Overlapping Portfolio Pairs (fs(t))')\n",
    "plt.title('Scatter Plot: Fraction fs(t) vs. Number of Owners')"
   ]
  },
  {
   "cell_type": "code",
   "execution_count": 43,
   "id": "216574f1-9ce6-4220-8c6f-e87abf7c9ba7",
   "metadata": {},
   "outputs": [
    {
     "data": {
      "image/png": "[encoded data removed]",
      "text/plain": [
       "<Figure size 1080x360 with 3 Axes>"
      ]
     },
     "metadata": {
      "needs_background": "light"
     },
     "output_type": "display_data"
    }
   ],
   "source": [
    "# Create a figure with three subplots arranged horizontally\n",
    "fig, axes = plt.subplots(1, 3, figsize=(15, 5))\n",
    "\n",
    "# Left subplot - Fraction fs(t) vs. Security Capitalization\n",
    "axes[0].scatter(np.log10(ddf['mcap']), ddf['fs(t)'])\n",
    "axes[0].set_xlabel('Log10 Security Capitalization')\n",
    "axes[0].set_ylabel('Fraction of Val. Overlapping Portfolio Pairs (fs(t))')\n",
    "axes[0].set_title('Scatter Plot: Fraction fs(t) vs. Security Capitalization')\n",
    "\n",
    "# Middle subplot - Fraction fs(t) vs. Concentration\n",
    "axes[1].scatter(ddf['cis(t)/d(t)'], ddf['fs(t)'])\n",
    "axes[1].set_xlabel('Concentration (cis(t)/d(t))')\n",
    "axes[1].set_ylabel('Fraction of Val. Overlapping Portfolio Pairs (fs(t))')\n",
    "axes[1].set_title('Scatter Plot: Fraction fs(t) vs. Concentration')\n",
    "\n",
    "# Right subplot - Fraction fs(t) vs. Number of Owners\n",
    "axes[2].scatter(np.log10(ddf['degree_s']), ddf['fs(t)'])\n",
    "axes[2].set_xlabel('Log10 Number of Owners (degree_s)')\n",
    "axes[2].set_ylabel('Fraction of Validated Overlapping Portfolio Pairs (fs(t))')\n",
    "axes[2].set_title('Scatter Plot: Fraction fs(t) vs. Number of Owners')\n",
    "\n",
    "# Adjust spacing between subplots\n",
    "plt.tight_layout()\n",
    "\n",
    "# Display the figure\n",
    "plt.show()\n"
   ]
  },
  {
   "cell_type": "markdown",
   "id": "0242c50f-9a3c-48bc-842c-ace8a7d5c4a4",
   "metadata": {},
   "source": [
    "### Gini "
   ]
  },
  {
   "cell_type": "code",
   "execution_count": 44,
   "id": "d1459b30-43ef-43b1-acc2-df3c3f8f252c",
   "metadata": {},
   "outputs": [
    {
     "data": {
      "text/html": [
       "<div>\n",
       "<style scoped>\n",
       "    .dataframe tbody tr th:only-of-type {\n",
       "        vertical-align: middle;\n",
       "    }\n",
       "\n",
       "    .dataframe tbody tr th {\n",
       "        vertical-align: top;\n",
       "    }\n",
       "\n",
       "    .dataframe thead th {\n",
       "        text-align: right;\n",
       "    }\n",
       "</style>\n",
       "<table border=\"1\" class=\"dataframe\">\n",
       "  <thead>\n",
       "    <tr style=\"text-align: right;\">\n",
       "      <th></th>\n",
       "      <th>address</th>\n",
       "      <th>value_usd</th>\n",
       "    </tr>\n",
       "  </thead>\n",
       "  <tbody>\n",
       "    <tr>\n",
       "      <th>0</th>\n",
       "      <td>0x0000000000000d9054f605ca65a2647c2b521422</td>\n",
       "      <td>1.678738e+04</td>\n",
       "    </tr>\n",
       "    <tr>\n",
       "      <th>1</th>\n",
       "      <td>0x000000000000541e251335090ac5b47176af4f7e</td>\n",
       "      <td>5.185398e+03</td>\n",
       "    </tr>\n",
       "    <tr>\n",
       "      <th>2</th>\n",
       "      <td>0x00000000000080c886232e9b7ebbfb942b5987aa</td>\n",
       "      <td>8.113268e+04</td>\n",
       "    </tr>\n",
       "    <tr>\n",
       "      <th>3</th>\n",
       "      <td>0x00000063f648c943346d2a239f0969bad32ff184</td>\n",
       "      <td>3.262395e+06</td>\n",
       "    </tr>\n",
       "    <tr>\n",
       "      <th>4</th>\n",
       "      <td>0x000000dcf1190af44f7149b85299f18ce7221024</td>\n",
       "      <td>2.597656e+05</td>\n",
       "    </tr>\n",
       "    <tr>\n",
       "      <th>...</th>\n",
       "      <td>...</td>\n",
       "      <td>...</td>\n",
       "    </tr>\n",
       "    <tr>\n",
       "      <th>9135</th>\n",
       "      <td>0xffc97d72e13e01096502cb8eb52dee56f74dad7b</td>\n",
       "      <td>2.399634e+07</td>\n",
       "    </tr>\n",
       "    <tr>\n",
       "      <th>9136</th>\n",
       "      <td>0xffd68bb1b7882019b394a4efdd007a6e1b5ece5e</td>\n",
       "      <td>2.506149e+04</td>\n",
       "    </tr>\n",
       "    <tr>\n",
       "      <th>9137</th>\n",
       "      <td>0xffe22d05ae1c75130f7b416e0cb72de620b7b040</td>\n",
       "      <td>5.903005e+04</td>\n",
       "    </tr>\n",
       "    <tr>\n",
       "      <th>9138</th>\n",
       "      <td>0xfff8f66e26ac1a75f2b5da49c247f3ec0d0ea5ba</td>\n",
       "      <td>1.615799e+04</td>\n",
       "    </tr>\n",
       "    <tr>\n",
       "      <th>9139</th>\n",
       "      <td>0xfffe68692052316694e54967ad37426e8dacf31d</td>\n",
       "      <td>3.681851e+07</td>\n",
       "    </tr>\n",
       "  </tbody>\n",
       "</table>\n",
       "<p>9140 rows × 2 columns</p>\n",
       "</div>"
      ],
      "text/plain": [
       "                                         address     value_usd\n",
       "0     0x0000000000000d9054f605ca65a2647c2b521422  1.678738e+04\n",
       "1     0x000000000000541e251335090ac5b47176af4f7e  5.185398e+03\n",
       "2     0x00000000000080c886232e9b7ebbfb942b5987aa  8.113268e+04\n",
       "3     0x00000063f648c943346d2a239f0969bad32ff184  3.262395e+06\n",
       "4     0x000000dcf1190af44f7149b85299f18ce7221024  2.597656e+05\n",
       "...                                          ...           ...\n",
       "9135  0xffc97d72e13e01096502cb8eb52dee56f74dad7b  2.399634e+07\n",
       "9136  0xffd68bb1b7882019b394a4efdd007a6e1b5ece5e  2.506149e+04\n",
       "9137  0xffe22d05ae1c75130f7b416e0cb72de620b7b040  5.903005e+04\n",
       "9138  0xfff8f66e26ac1a75f2b5da49c247f3ec0d0ea5ba  1.615799e+04\n",
       "9139  0xfffe68692052316694e54967ad37426e8dacf31d  3.681851e+07\n",
       "\n",
       "[9140 rows x 2 columns]"
      ]
     },
     "execution_count": 44,
     "metadata": {},
     "output_type": "execute_result"
    }
   ],
   "source": [
    "df_gini = pd.DataFrame(ddf.groupby('address').value_usd.sum())\n",
    "df_gini.reset_index(inplace=True)\n",
    "df_gini\n"
   ]
  },
  {
   "cell_type": "code",
   "execution_count": 45,
   "id": "01a53482-6e3f-46a6-87ad-5d2a5e1579df",
   "metadata": {},
   "outputs": [
    {
     "data": {
      "text/plain": [
       "<matplotlib.collections.PathCollection at 0x7f501a285820>"
      ]
     },
     "execution_count": 45,
     "metadata": {},
     "output_type": "execute_result"
    },
    {
     "data": {
      "image/png": "[encoded data removed]",
      "text/plain": [
       "<Figure size 432x288 with 1 Axes>"
      ]
     },
     "metadata": {
      "needs_background": "light"
     },
     "output_type": "display_data"
    }
   ],
   "source": [
    "plt.scatter( df_gini.index, np.log10(df_gini.value_usd)) \n"
   ]
  },
  {
   "cell_type": "code",
   "execution_count": 46,
   "id": "a383ae5f-0463-46b2-a14f-217addbd9c3f",
   "metadata": {},
   "outputs": [
    {
     "data": {
      "image/png": "[encoded data removed]",
      "text/plain": [
       "<Figure size 432x288 with 1 Axes>"
      ]
     },
     "metadata": {
      "needs_background": "light"
     },
     "output_type": "display_data"
    },
    {
     "data": {
      "image/png": "[encoded data removed]",
      "text/plain": [
       "<Figure size 432x288 with 1 Axes>"
      ]
     },
     "metadata": {
      "needs_background": "light"
     },
     "output_type": "display_data"
    }
   ],
   "source": [
    "import pandas as pd\n",
    "import numpy as np\n",
    "import matplotlib.pyplot as plt\n",
    "\n",
    "# Assuming df_gini DataFrame has the 'value_usd' column\n",
    "plt.scatter(df_gini.index, np.log10(df_gini['value_usd']))\n",
    "\n",
    "# Create the distribution plot (histogram) for the 'value_usd' column\n",
    "plt.figure()\n",
    "plt.hist(np.log10(df_gini['value_usd']), bins=20, color='blue', alpha=0.7)\n",
    "\n",
    "plt.xlabel('Log10(Value USD)')\n",
    "plt.ylabel('Frequency')\n",
    "plt.title('Distribution Plot of Log10(Value USD)')\n",
    "plt.grid(True)\n",
    "plt.tight_layout()\n",
    "plt.show()\n"
   ]
  },
  {
   "cell_type": "code",
   "execution_count": 47,
   "id": "c1b51868-5ec3-4e31-b178-9b58535e95bd",
   "metadata": {},
   "outputs": [
    {
     "data": {
      "image/png": "[encoded data removed]",
      "text/plain": [
       "<Figure size 432x288 with 1 Axes>"
      ]
     },
     "metadata": {
      "needs_background": "light"
     },
     "output_type": "display_data"
    }
   ],
   "source": [
    "import numpy as np\n",
    "import matplotlib.pyplot as plt\n",
    "\n",
    "\n",
    "def calculate_cumulative_percentage(data):\n",
    "    n = len(data)\n",
    "    cumulative_data = np.cumsum(sorted(data))\n",
    "    cumulative_percentage = cumulative_data / cumulative_data[-1]\n",
    "    cumulative_percentage = np.insert(cumulative_percentage, 0, 0)  # Insert 0 at the beginning for (0, 0) point\n",
    "    return cumulative_percentage, cumulative_data\n",
    "\n",
    "def plot_lorenz_curve(data):\n",
    "    cumulative_percentage, _ = calculate_cumulative_percentage(data)\n",
    "    x = np.linspace(0, 1, len(cumulative_percentage))\n",
    "\n",
    "    # Plot the Lorenz curve\n",
    "    plt.scatter(x, cumulative_percentage, label='Lorenz curve')\n",
    "\n",
    "    # Plot the line of equality (perfect equality)\n",
    "    plt.plot([0, 1], [0, 1], linestyle='--', color='gray', label='Line of equality')\n",
    "\n",
    "    plt.xlabel('Cumulative Percentage of Population')\n",
    "    plt.ylabel('Cumulative Percentage of Income/Wealth')\n",
    "    plt.title('Lorenz Curve')\n",
    "    plt.legend()\n",
    "    plt.grid(True)\n",
    "    plt.show()\n",
    "\n",
    "# Example usage:\n",
    "cum_pct, cum_data = calculate_cumulative_percentage(df_gini.value_usd.values)\n",
    "plot_lorenz_curve(df_gini.value_usd.values)\n"
   ]
  },
  {
   "cell_type": "code",
   "execution_count": 48,
   "id": "80593151-fc1e-41b7-b4f5-5e9ee54aadd9",
   "metadata": {},
   "outputs": [
    {
     "data": {
      "text/plain": [
       "0       False\n",
       "1       False\n",
       "2       False\n",
       "3       False\n",
       "4       False\n",
       "        ...  \n",
       "9135    False\n",
       "9136    False\n",
       "9137    False\n",
       "9138    False\n",
       "9139    False\n",
       "Name: value_usd, Length: 9140, dtype: bool"
      ]
     },
     "execution_count": 48,
     "metadata": {},
     "output_type": "execute_result"
    }
   ],
   "source": [
    "cum_data == df_gini.value_usd"
   ]
  },
  {
   "cell_type": "code",
   "execution_count": 49,
   "id": "d4ba3add-a872-4fae-ba3f-0a3bbb7f972b",
   "metadata": {},
   "outputs": [
    {
     "name": "stdout",
     "output_type": "stream",
     "text": [
      "Area under the Lorenz curve: 0.013987004620591579\n"
     ]
    }
   ],
   "source": [
    "def calculate_area_under_curve(data):\n",
    "    cumulative_percentage, _ = calculate_cumulative_percentage(data)\n",
    "    x = np.linspace(0, 1, len(cumulative_percentage))\n",
    "    \n",
    "    # Calculate the area using the trapezoidal rule\n",
    "    area = np.trapz(cumulative_percentage, x)\n",
    "\n",
    "    return area\n",
    "\n",
    "# Example usage:\n",
    "area_under_curve = calculate_area_under_curve(ddf.groupby('address').value_usd.sum().values)\n",
    "print(\"Area under the Lorenz curve:\", area_under_curve)"
   ]
  },
  {
   "cell_type": "code",
   "execution_count": 50,
   "id": "9cc924f1-5079-4b4e-ace4-d47657087fc5",
   "metadata": {},
   "outputs": [
    {
     "name": "stdout",
     "output_type": "stream",
     "text": [
      "Gini coefficient: 0.9720259907588168\n"
     ]
    }
   ],
   "source": [
    "gini = (0.5 - area_under_curve) / 0.5\n",
    "print(\"Gini coefficient:\", gini)\n",
    "\n"
   ]
  },
  {
   "cell_type": "markdown",
   "id": "04cce73b-e204-41f8-9d9d-375ba262b2b0",
   "metadata": {},
   "source": [
    "### Z-score \n",
    "The Z-score assign a value to each individual data point to quantify how unequal or equal it is relative to the overall population\n",
    "\n",
    "The formula to calculate the Z-score for an individual data point x is given by:\n",
    "\n",
    "Z-score = (x - mean) / standard deviation\n",
    "\n",
    "Where:\n",
    "\n",
    "- Z-score is the standardized value for the individual data point.\n",
    "- x is the value of the individual data point.\n",
    "- mean is the mean (average) value of the entire population.\n",
    "- standard deviation is the standard deviation of the entire population"
   ]
  },
  {
   "cell_type": "code",
   "execution_count": 51,
   "id": "e3af26ac-d07e-4adf-8693-1b3281f5ed6f",
   "metadata": {},
   "outputs": [
    {
     "data": {
      "text/plain": [
       "count    9.140000e+03\n",
       "mean     2.263899e+06\n",
       "std      3.201825e+07\n",
       "min      3.532705e+03\n",
       "25%      1.318129e+04\n",
       "50%      3.019043e+04\n",
       "75%      9.593279e+04\n",
       "max      1.873995e+09\n",
       "Name: value_usd, dtype: float64"
      ]
     },
     "execution_count": 51,
     "metadata": {},
     "output_type": "execute_result"
    }
   ],
   "source": [
    "stats = df_gini.value_usd.describe()\n",
    "stats"
   ]
  },
  {
   "cell_type": "code",
   "execution_count": 53,
   "id": "9d29c18d-26e4-47e2-b472-45c27b4ea1bc",
   "metadata": {},
   "outputs": [
    {
     "data": {
      "text/html": [
       "<div>\n",
       "<style scoped>\n",
       "    .dataframe tbody tr th:only-of-type {\n",
       "        vertical-align: middle;\n",
       "    }\n",
       "\n",
       "    .dataframe tbody tr th {\n",
       "        vertical-align: top;\n",
       "    }\n",
       "\n",
       "    .dataframe thead th {\n",
       "        text-align: right;\n",
       "    }\n",
       "</style>\n",
       "<table border=\"1\" class=\"dataframe\">\n",
       "  <thead>\n",
       "    <tr style=\"text-align: right;\">\n",
       "      <th></th>\n",
       "      <th>address</th>\n",
       "      <th>value_usd</th>\n",
       "    </tr>\n",
       "  </thead>\n",
       "  <tbody>\n",
       "    <tr>\n",
       "      <th>0</th>\n",
       "      <td>0x0000000000000d9054f605ca65a2647c2b521422</td>\n",
       "      <td>1.678738e+04</td>\n",
       "    </tr>\n",
       "    <tr>\n",
       "      <th>1</th>\n",
       "      <td>0x000000000000541e251335090ac5b47176af4f7e</td>\n",
       "      <td>5.185398e+03</td>\n",
       "    </tr>\n",
       "    <tr>\n",
       "      <th>2</th>\n",
       "      <td>0x00000000000080c886232e9b7ebbfb942b5987aa</td>\n",
       "      <td>8.113268e+04</td>\n",
       "    </tr>\n",
       "    <tr>\n",
       "      <th>3</th>\n",
       "      <td>0x00000063f648c943346d2a239f0969bad32ff184</td>\n",
       "      <td>3.262395e+06</td>\n",
       "    </tr>\n",
       "    <tr>\n",
       "      <th>4</th>\n",
       "      <td>0x000000dcf1190af44f7149b85299f18ce7221024</td>\n",
       "      <td>2.597656e+05</td>\n",
       "    </tr>\n",
       "    <tr>\n",
       "      <th>...</th>\n",
       "      <td>...</td>\n",
       "      <td>...</td>\n",
       "    </tr>\n",
       "    <tr>\n",
       "      <th>9135</th>\n",
       "      <td>0xffc97d72e13e01096502cb8eb52dee56f74dad7b</td>\n",
       "      <td>2.399634e+07</td>\n",
       "    </tr>\n",
       "    <tr>\n",
       "      <th>9136</th>\n",
       "      <td>0xffd68bb1b7882019b394a4efdd007a6e1b5ece5e</td>\n",
       "      <td>2.506149e+04</td>\n",
       "    </tr>\n",
       "    <tr>\n",
       "      <th>9137</th>\n",
       "      <td>0xffe22d05ae1c75130f7b416e0cb72de620b7b040</td>\n",
       "      <td>5.903005e+04</td>\n",
       "    </tr>\n",
       "    <tr>\n",
       "      <th>9138</th>\n",
       "      <td>0xfff8f66e26ac1a75f2b5da49c247f3ec0d0ea5ba</td>\n",
       "      <td>1.615799e+04</td>\n",
       "    </tr>\n",
       "    <tr>\n",
       "      <th>9139</th>\n",
       "      <td>0xfffe68692052316694e54967ad37426e8dacf31d</td>\n",
       "      <td>3.681851e+07</td>\n",
       "    </tr>\n",
       "  </tbody>\n",
       "</table>\n",
       "<p>9140 rows × 2 columns</p>\n",
       "</div>"
      ],
      "text/plain": [
       "                                         address     value_usd\n",
       "0     0x0000000000000d9054f605ca65a2647c2b521422  1.678738e+04\n",
       "1     0x000000000000541e251335090ac5b47176af4f7e  5.185398e+03\n",
       "2     0x00000000000080c886232e9b7ebbfb942b5987aa  8.113268e+04\n",
       "3     0x00000063f648c943346d2a239f0969bad32ff184  3.262395e+06\n",
       "4     0x000000dcf1190af44f7149b85299f18ce7221024  2.597656e+05\n",
       "...                                          ...           ...\n",
       "9135  0xffc97d72e13e01096502cb8eb52dee56f74dad7b  2.399634e+07\n",
       "9136  0xffd68bb1b7882019b394a4efdd007a6e1b5ece5e  2.506149e+04\n",
       "9137  0xffe22d05ae1c75130f7b416e0cb72de620b7b040  5.903005e+04\n",
       "9138  0xfff8f66e26ac1a75f2b5da49c247f3ec0d0ea5ba  1.615799e+04\n",
       "9139  0xfffe68692052316694e54967ad37426e8dacf31d  3.681851e+07\n",
       "\n",
       "[9140 rows x 2 columns]"
      ]
     },
     "execution_count": 53,
     "metadata": {},
     "output_type": "execute_result"
    }
   ],
   "source": [
    "df_gini"
   ]
  },
  {
   "cell_type": "code",
   "execution_count": 54,
   "id": "6f396933-d9c0-4cd2-9feb-164ecba989ea",
   "metadata": {},
   "outputs": [],
   "source": [
    "df_gini['zscore'] = df_gini.value_usd.apply(lambda x: (x - stats['mean'])/ stats['std'])"
   ]
  },
  {
   "cell_type": "code",
   "execution_count": 55,
   "id": "f87cab62-0d62-41af-bc78-1520d24d8ee2",
   "metadata": {},
   "outputs": [
    {
     "data": {
      "image/png": "[encoded data removed]",
      "text/plain": [
       "<Figure size 432x288 with 1 Axes>"
      ]
     },
     "metadata": {
      "needs_background": "light"
     },
     "output_type": "display_data"
    }
   ],
   "source": [
    "import pandas as pd\n",
    "import matplotlib.pyplot as plt\n",
    "\n",
    "# Assuming 'zscore' column already exists in df_gini DataFrame\n",
    "df_gini_e = pd.merge(df_gini, ddf[['address', 'holds_validated_security']], on='address')\n",
    "# df_gini_e['labelling'] = df_gini_e['holds_validated_security'].apply(lambda x: 'validated_token_projection' if x else 'non-validated_token_projection')\n",
    "\n",
    "plt.scatter(df_gini_e[df_gini_e.holds_validated_security==True].index, df_gini_e[df_gini_e.holds_validated_security==True]['zscore'], c='yellow', marker='o', label='Validated Token Projection')\n",
    "plt.scatter(df_gini_e[df_gini_e.holds_validated_security==False].index, df_gini_e[df_gini_e.holds_validated_security==False]['zscore'], c='lightblue', marker='o', label='Non-Validated Token Projection')\n",
    "plt.legend(title='Token Projection', loc='upper right')  # Adding the legend\n",
    "plt.ylabel('Z-score')\n",
    "plt.title('Z-scores of USD Value held by Addresses')\n",
    "plt.xticks(rotation=45, ha='right')\n",
    "plt.grid(True)\n",
    "plt.tight_layout()\n",
    "plt.show()\n"
   ]
  },
  {
   "cell_type": "code",
   "execution_count": 56,
   "id": "9e118290-b2d6-412c-acdb-9ed4576ae7cf",
   "metadata": {},
   "outputs": [],
   "source": [
    "df_p_values_top5pct_supply = df_p_values[(df_p_values.address1.isin(ddf[ddf.pct_supply > 0.001].address)) | (df_p_values.address2.isin(ddf[ddf.pct_supply > 0.001].address))]\n"
   ]
  },
  {
   "cell_type": "code",
   "execution_count": 57,
   "id": "1a19159a-a543-4215-b21c-59e5e4ea4b8d",
   "metadata": {},
   "outputs": [
    {
     "data": {
      "image/png": "[encoded data removed]",
      "text/plain": [
       "<Figure size 576x432 with 2 Axes>"
      ]
     },
     "metadata": {
      "needs_background": "light"
     },
     "output_type": "display_data"
    }
   ],
   "source": [
    "import pandas as pd\n",
    "import seaborn as sns\n",
    "import matplotlib.pyplot as plt\n",
    "\n",
    "# Pivot the DataFrame to create a binary matrix\n",
    "binary_matrix = df_p_values.pivot(index='address1', columns='address2', values='m_test_result')\n",
    "\n",
    "# Create the binary heatmap using seaborn\n",
    "plt.figure(figsize=(8, 6))\n",
    "sns.heatmap(binary_matrix)\n",
    "\n",
    "plt.title('Binary Heatmap')\n",
    "plt.xlabel('Address 2')\n",
    "plt.ylabel('Address 1')\n",
    "\n",
    "plt.tight_layout()\n",
    "plt.show()\n"
   ]
  },
  {
   "cell_type": "code",
   "execution_count": 58,
   "id": "de274c2f-091c-4348-87ae-4d707d071445",
   "metadata": {},
   "outputs": [
    {
     "data": {
      "text/html": [
       "<div>\n",
       "<style scoped>\n",
       "    .dataframe tbody tr th:only-of-type {\n",
       "        vertical-align: middle;\n",
       "    }\n",
       "\n",
       "    .dataframe tbody tr th {\n",
       "        vertical-align: top;\n",
       "    }\n",
       "\n",
       "    .dataframe thead th {\n",
       "        text-align: right;\n",
       "    }\n",
       "</style>\n",
       "<table border=\"1\" class=\"dataframe\">\n",
       "  <thead>\n",
       "    <tr style=\"text-align: right;\">\n",
       "      <th></th>\n",
       "      <th>address1</th>\n",
       "      <th>address2</th>\n",
       "      <th>p_value</th>\n",
       "      <th>m_test_result</th>\n",
       "    </tr>\n",
       "  </thead>\n",
       "  <tbody>\n",
       "    <tr>\n",
       "      <th>0</th>\n",
       "      <td>0x0000000000000d9054f605ca65a2647c2b521422</td>\n",
       "      <td>0x000000000000541e251335090ac5b47176af4f7e</td>\n",
       "      <td>0.1</td>\n",
       "      <td>1.0</td>\n",
       "    </tr>\n",
       "    <tr>\n",
       "      <th>1</th>\n",
       "      <td>0x0000000000000d9054f605ca65a2647c2b521422</td>\n",
       "      <td>0x00000000000080c886232e9b7ebbfb942b5987aa</td>\n",
       "      <td>0.3</td>\n",
       "      <td>1.0</td>\n",
       "    </tr>\n",
       "    <tr>\n",
       "      <th>2</th>\n",
       "      <td>0x0000000000000d9054f605ca65a2647c2b521422</td>\n",
       "      <td>0x00000063f648c943346d2a239f0969bad32ff184</td>\n",
       "      <td>0.0</td>\n",
       "      <td>0.0</td>\n",
       "    </tr>\n",
       "    <tr>\n",
       "      <th>3</th>\n",
       "      <td>0x0000000000000d9054f605ca65a2647c2b521422</td>\n",
       "      <td>0x000000dcf1190af44f7149b85299f18ce7221024</td>\n",
       "      <td>0.1</td>\n",
       "      <td>1.0</td>\n",
       "    </tr>\n",
       "    <tr>\n",
       "      <th>4</th>\n",
       "      <td>0x0000000000000d9054f605ca65a2647c2b521422</td>\n",
       "      <td>0x00000834a8a01ecdbfaafeef5dca5a35a66d3a80</td>\n",
       "      <td>0.1</td>\n",
       "      <td>1.0</td>\n",
       "    </tr>\n",
       "    <tr>\n",
       "      <th>...</th>\n",
       "      <td>...</td>\n",
       "      <td>...</td>\n",
       "      <td>...</td>\n",
       "      <td>...</td>\n",
       "    </tr>\n",
       "    <tr>\n",
       "      <th>41765225</th>\n",
       "      <td>0x1f072339710506877af5be4d81be243cd55c2c54</td>\n",
       "      <td>0x2e3a5ea84cb76919f26eda71e2dee9b2a6ae224c</td>\n",
       "      <td>0.3</td>\n",
       "      <td>1.0</td>\n",
       "    </tr>\n",
       "    <tr>\n",
       "      <th>41765226</th>\n",
       "      <td>0x1f072339710506877af5be4d81be243cd55c2c54</td>\n",
       "      <td>0x2e3e8735fbc519243b9f57ec2a4403eeb346af5d</td>\n",
       "      <td>0.0</td>\n",
       "      <td>0.0</td>\n",
       "    </tr>\n",
       "    <tr>\n",
       "      <th>41765227</th>\n",
       "      <td>0x1f072339710506877af5be4d81be243cd55c2c54</td>\n",
       "      <td>0x2e40fe398483ddc20e296c2a75e5cea07f629b9c</td>\n",
       "      <td>0.1</td>\n",
       "      <td>1.0</td>\n",
       "    </tr>\n",
       "    <tr>\n",
       "      <th>41765228</th>\n",
       "      <td>0x1f072339710506877af5be4d81be243cd55c2c54</td>\n",
       "      <td>0x2e41132dab88a9bad80740a1392d322bf023d494</td>\n",
       "      <td>0.1</td>\n",
       "      <td>1.0</td>\n",
       "    </tr>\n",
       "    <tr>\n",
       "      <th>41765229</th>\n",
       "      <td>0x1f072339710506877af5be4d81be243cd55c2c54</td>\n",
       "      <td>0x2e4f8ef08217c00f30c05997ef0361218e0c8d05</td>\n",
       "      <td>0.1</td>\n",
       "      <td>1.0</td>\n",
       "    </tr>\n",
       "  </tbody>\n",
       "</table>\n",
       "<p>41765230 rows × 4 columns</p>\n",
       "</div>"
      ],
      "text/plain": [
       "                                            address1  \\\n",
       "0         0x0000000000000d9054f605ca65a2647c2b521422   \n",
       "1         0x0000000000000d9054f605ca65a2647c2b521422   \n",
       "2         0x0000000000000d9054f605ca65a2647c2b521422   \n",
       "3         0x0000000000000d9054f605ca65a2647c2b521422   \n",
       "4         0x0000000000000d9054f605ca65a2647c2b521422   \n",
       "...                                              ...   \n",
       "41765225  0x1f072339710506877af5be4d81be243cd55c2c54   \n",
       "41765226  0x1f072339710506877af5be4d81be243cd55c2c54   \n",
       "41765227  0x1f072339710506877af5be4d81be243cd55c2c54   \n",
       "41765228  0x1f072339710506877af5be4d81be243cd55c2c54   \n",
       "41765229  0x1f072339710506877af5be4d81be243cd55c2c54   \n",
       "\n",
       "                                            address2  p_value  m_test_result  \n",
       "0         0x000000000000541e251335090ac5b47176af4f7e      0.1            1.0  \n",
       "1         0x00000000000080c886232e9b7ebbfb942b5987aa      0.3            1.0  \n",
       "2         0x00000063f648c943346d2a239f0969bad32ff184      0.0            0.0  \n",
       "3         0x000000dcf1190af44f7149b85299f18ce7221024      0.1            1.0  \n",
       "4         0x00000834a8a01ecdbfaafeef5dca5a35a66d3a80      0.1            1.0  \n",
       "...                                              ...      ...            ...  \n",
       "41765225  0x2e3a5ea84cb76919f26eda71e2dee9b2a6ae224c      0.3            1.0  \n",
       "41765226  0x2e3e8735fbc519243b9f57ec2a4403eeb346af5d      0.0            0.0  \n",
       "41765227  0x2e40fe398483ddc20e296c2a75e5cea07f629b9c      0.1            1.0  \n",
       "41765228  0x2e41132dab88a9bad80740a1392d322bf023d494      0.1            1.0  \n",
       "41765229  0x2e4f8ef08217c00f30c05997ef0361218e0c8d05      0.1            1.0  \n",
       "\n",
       "[41765230 rows x 4 columns]"
      ]
     },
     "execution_count": 58,
     "metadata": {},
     "output_type": "execute_result"
    }
   ],
   "source": [
    "df_p_values"
   ]
  },
  {
   "cell_type": "code",
   "execution_count": 59,
   "id": "8a12f42e-aa30-450b-b2f6-b7f032d83042",
   "metadata": {},
   "outputs": [],
   "source": [
    "df_token_projections[['token1', 'token2']] = df_token_projections.combination.str.strip(\"()\").str.replace(\"'\", \"\").str.split(\", \", expand=True)"
   ]
  },
  {
   "cell_type": "code",
   "execution_count": 60,
   "id": "5fcc9e4a-90b7-444b-8859-aea012762334",
   "metadata": {},
   "outputs": [],
   "source": [
    "df_token_projections['binary'] = df_token_projections.m_test_result.apply(lambda x: 1 if x == True else 0)"
   ]
  },
  {
   "cell_type": "code",
   "execution_count": 61,
   "id": "077b02b4-5072-40de-9667-18e59b3164c8",
   "metadata": {},
   "outputs": [
    {
     "data": {
      "image/png": "[encoded data removed]",
      "text/plain": [
       "<Figure size 576x432 with 2 Axes>"
      ]
     },
     "metadata": {
      "needs_background": "light"
     },
     "output_type": "display_data"
    }
   ],
   "source": [
    "import pandas as pd\n",
    "import seaborn as sns\n",
    "import matplotlib.pyplot as plt\n",
    "\n",
    "# Pivot the DataFrame to create a binary matrix\n",
    "binary_matrix = df_token_projections.pivot(index='token1', columns='token2', values='binary')\n",
    "\n",
    "# Create the binary heatmap using seaborn\n",
    "plt.figure(figsize=(8, 6))\n",
    "sns.heatmap(binary_matrix)\n",
    "\n",
    "plt.title('Binary Heatmap')\n",
    "plt.xlabel('Token 2')\n",
    "plt.ylabel('Token 1')\n",
    "\n",
    "plt.tight_layout()\n",
    "plt.show()"
   ]
  },
  {
   "cell_type": "markdown",
   "id": "2d174882-9e7b-46a1-a5f0-ba843ea37e0e",
   "metadata": {},
   "source": [
    "### wallet projection analysis v2"
   ]
  },
  {
   "cell_type": "code",
   "execution_count": 70,
   "id": "5e626687-cc22-41ea-ac51-8c6f90aff3c2",
   "metadata": {},
   "outputs": [],
   "source": [
    "# Step 1: Calculate portfolio values\n",
    "ddf_grouping = pd.DataFrame(ddf.groupby('address').value_usd.sum()).reset_index()"
   ]
  },
  {
   "cell_type": "code",
   "execution_count": 146,
   "id": "7c8328e6-d27f-41b4-8123-1f39cfa48d33",
   "metadata": {},
   "outputs": [
    {
     "data": {
      "text/html": [
       "<div>\n",
       "<style scoped>\n",
       "    .dataframe tbody tr th:only-of-type {\n",
       "        vertical-align: middle;\n",
       "    }\n",
       "\n",
       "    .dataframe tbody tr th {\n",
       "        vertical-align: top;\n",
       "    }\n",
       "\n",
       "    .dataframe thead th {\n",
       "        text-align: right;\n",
       "    }\n",
       "</style>\n",
       "<table border=\"1\" class=\"dataframe\">\n",
       "  <thead>\n",
       "    <tr style=\"text-align: right;\">\n",
       "      <th></th>\n",
       "      <th>address</th>\n",
       "      <th>value_usd</th>\n",
       "      <th>log_portfolio_value</th>\n",
       "      <th>group</th>\n",
       "    </tr>\n",
       "  </thead>\n",
       "  <tbody>\n",
       "    <tr>\n",
       "      <th>0</th>\n",
       "      <td>0x0000000000000d9054f605ca65a2647c2b521422</td>\n",
       "      <td>1.678738e+04</td>\n",
       "      <td>4.224983</td>\n",
       "      <td>0-90</td>\n",
       "    </tr>\n",
       "    <tr>\n",
       "      <th>1</th>\n",
       "      <td>0x000000000000541e251335090ac5b47176af4f7e</td>\n",
       "      <td>5.185398e+03</td>\n",
       "      <td>3.714782</td>\n",
       "      <td>0-90</td>\n",
       "    </tr>\n",
       "    <tr>\n",
       "      <th>2</th>\n",
       "      <td>0x00000000000080c886232e9b7ebbfb942b5987aa</td>\n",
       "      <td>8.113268e+04</td>\n",
       "      <td>4.909196</td>\n",
       "      <td>90-99</td>\n",
       "    </tr>\n",
       "    <tr>\n",
       "      <th>3</th>\n",
       "      <td>0x00000063f648c943346d2a239f0969bad32ff184</td>\n",
       "      <td>3.262395e+06</td>\n",
       "      <td>6.513537</td>\n",
       "      <td>99-100</td>\n",
       "    </tr>\n",
       "    <tr>\n",
       "      <th>4</th>\n",
       "      <td>0x000000dcf1190af44f7149b85299f18ce7221024</td>\n",
       "      <td>2.597656e+05</td>\n",
       "      <td>5.414582</td>\n",
       "      <td>90-99</td>\n",
       "    </tr>\n",
       "    <tr>\n",
       "      <th>...</th>\n",
       "      <td>...</td>\n",
       "      <td>...</td>\n",
       "      <td>...</td>\n",
       "      <td>...</td>\n",
       "    </tr>\n",
       "    <tr>\n",
       "      <th>9135</th>\n",
       "      <td>0xffc97d72e13e01096502cb8eb52dee56f74dad7b</td>\n",
       "      <td>2.399634e+07</td>\n",
       "      <td>7.380145</td>\n",
       "      <td>99-100</td>\n",
       "    </tr>\n",
       "    <tr>\n",
       "      <th>9136</th>\n",
       "      <td>0xffd68bb1b7882019b394a4efdd007a6e1b5ece5e</td>\n",
       "      <td>2.506149e+04</td>\n",
       "      <td>4.399007</td>\n",
       "      <td>0-90</td>\n",
       "    </tr>\n",
       "    <tr>\n",
       "      <th>9137</th>\n",
       "      <td>0xffe22d05ae1c75130f7b416e0cb72de620b7b040</td>\n",
       "      <td>5.903005e+04</td>\n",
       "      <td>4.771073</td>\n",
       "      <td>0-90</td>\n",
       "    </tr>\n",
       "    <tr>\n",
       "      <th>9138</th>\n",
       "      <td>0xfff8f66e26ac1a75f2b5da49c247f3ec0d0ea5ba</td>\n",
       "      <td>1.615799e+04</td>\n",
       "      <td>4.208387</td>\n",
       "      <td>0-90</td>\n",
       "    </tr>\n",
       "    <tr>\n",
       "      <th>9139</th>\n",
       "      <td>0xfffe68692052316694e54967ad37426e8dacf31d</td>\n",
       "      <td>3.681851e+07</td>\n",
       "      <td>7.566066</td>\n",
       "      <td>99-100</td>\n",
       "    </tr>\n",
       "  </tbody>\n",
       "</table>\n",
       "<p>9140 rows × 4 columns</p>\n",
       "</div>"
      ],
      "text/plain": [
       "                                         address     value_usd  \\\n",
       "0     0x0000000000000d9054f605ca65a2647c2b521422  1.678738e+04   \n",
       "1     0x000000000000541e251335090ac5b47176af4f7e  5.185398e+03   \n",
       "2     0x00000000000080c886232e9b7ebbfb942b5987aa  8.113268e+04   \n",
       "3     0x00000063f648c943346d2a239f0969bad32ff184  3.262395e+06   \n",
       "4     0x000000dcf1190af44f7149b85299f18ce7221024  2.597656e+05   \n",
       "...                                          ...           ...   \n",
       "9135  0xffc97d72e13e01096502cb8eb52dee56f74dad7b  2.399634e+07   \n",
       "9136  0xffd68bb1b7882019b394a4efdd007a6e1b5ece5e  2.506149e+04   \n",
       "9137  0xffe22d05ae1c75130f7b416e0cb72de620b7b040  5.903005e+04   \n",
       "9138  0xfff8f66e26ac1a75f2b5da49c247f3ec0d0ea5ba  1.615799e+04   \n",
       "9139  0xfffe68692052316694e54967ad37426e8dacf31d  3.681851e+07   \n",
       "\n",
       "      log_portfolio_value   group  \n",
       "0                4.224983    0-90  \n",
       "1                3.714782    0-90  \n",
       "2                4.909196   90-99  \n",
       "3                6.513537  99-100  \n",
       "4                5.414582   90-99  \n",
       "...                   ...     ...  \n",
       "9135             7.380145  99-100  \n",
       "9136             4.399007    0-90  \n",
       "9137             4.771073    0-90  \n",
       "9138             4.208387    0-90  \n",
       "9139             7.566066  99-100  \n",
       "\n",
       "[9140 rows x 4 columns]"
      ]
     },
     "execution_count": 146,
     "metadata": {},
     "output_type": "execute_result"
    }
   ],
   "source": [
    "ddf_grouping"
   ]
  },
  {
   "cell_type": "code",
   "execution_count": 73,
   "id": "3ff02ab5-5f2d-402f-be16-e507ba567141",
   "metadata": {},
   "outputs": [],
   "source": [
    "# Step 2: Calculate log-transformed portfolio values\n",
    "ddf_grouping['log_portfolio_value'] = ddf_grouping.value_usd.apply( lambda x: np.log10(x) ) "
   ]
  },
  {
   "cell_type": "code",
   "execution_count": 76,
   "id": "2992cc19-d321-417b-9876-be083bdf855d",
   "metadata": {},
   "outputs": [],
   "source": [
    "# Step 3: Determine percentiles for log-transformed values\n",
    "percentiles = [0, 90, 99, 100]\n",
    "percentile_values = np.percentile(ddf_grouping['log_portfolio_value'], percentiles)"
   ]
  },
  {
   "cell_type": "code",
   "execution_count": 127,
   "id": "b98130bb-f5c7-457b-8333-16d01fce4b98",
   "metadata": {},
   "outputs": [
    {
     "data": {
      "text/plain": [
       "array([3.54810743, 4.81064175, 5.8028303 , 8.97768593])"
      ]
     },
     "execution_count": 127,
     "metadata": {},
     "output_type": "execute_result"
    }
   ],
   "source": [
    "percentile_values"
   ]
  },
  {
   "cell_type": "code",
   "execution_count": 128,
   "id": "c8c7adac-4931-43f4-ba0c-f0c4eb550f4a",
   "metadata": {},
   "outputs": [],
   "source": [
    "# Step 3: Assign group labels based on the percentile ranges\n",
    "def assign_group(value):\n",
    "    if value <= percentile_values[1]:\n",
    "        return '0-90'\n",
    "    elif percentile_values[1] < value <= percentile_values[2]:\n",
    "        return '90-99'\n",
    "    elif percentile_values[2] < value:\n",
    "        return '99-100'\n",
    "\n",
    "ddf_grouping['group'] = ddf_grouping['log_portfolio_value'].apply(assign_group)\n",
    "\n"
   ]
  },
  {
   "cell_type": "code",
   "execution_count": 131,
   "id": "41c1e80b-f0f1-4c4f-bc54-6ae26cb3d5a1",
   "metadata": {},
   "outputs": [
    {
     "data": {
      "text/html": [
       "<div>\n",
       "<style scoped>\n",
       "    .dataframe tbody tr th:only-of-type {\n",
       "        vertical-align: middle;\n",
       "    }\n",
       "\n",
       "    .dataframe tbody tr th {\n",
       "        vertical-align: top;\n",
       "    }\n",
       "\n",
       "    .dataframe thead th {\n",
       "        text-align: right;\n",
       "    }\n",
       "</style>\n",
       "<table border=\"1\" class=\"dataframe\">\n",
       "  <thead>\n",
       "    <tr style=\"text-align: right;\">\n",
       "      <th></th>\n",
       "      <th>address</th>\n",
       "      <th>value_usd</th>\n",
       "      <th>log_portfolio_value</th>\n",
       "    </tr>\n",
       "    <tr>\n",
       "      <th>group</th>\n",
       "      <th></th>\n",
       "      <th></th>\n",
       "      <th></th>\n",
       "    </tr>\n",
       "  </thead>\n",
       "  <tbody>\n",
       "    <tr>\n",
       "      <th>0-90</th>\n",
       "      <td>6250</td>\n",
       "      <td>6250</td>\n",
       "      <td>6250</td>\n",
       "    </tr>\n",
       "    <tr>\n",
       "      <th>90-99</th>\n",
       "      <td>1976</td>\n",
       "      <td>1976</td>\n",
       "      <td>1976</td>\n",
       "    </tr>\n",
       "    <tr>\n",
       "      <th>99-100</th>\n",
       "      <td>914</td>\n",
       "      <td>914</td>\n",
       "      <td>914</td>\n",
       "    </tr>\n",
       "  </tbody>\n",
       "</table>\n",
       "</div>"
      ],
      "text/plain": [
       "        address  value_usd  log_portfolio_value\n",
       "group                                          \n",
       "0-90       6250       6250                 6250\n",
       "90-99      1976       1976                 1976\n",
       "99-100      914        914                  914"
      ]
     },
     "execution_count": 131,
     "metadata": {},
     "output_type": "execute_result"
    }
   ],
   "source": [
    "ddf_grouping.groupby('group').count()"
   ]
  },
  {
   "cell_type": "code",
   "execution_count": 87,
   "id": "d218e8b8-cfa9-4eb0-9fe8-721defff78ff",
   "metadata": {},
   "outputs": [],
   "source": [
    "lookup_dict = ddf_grouping[['address', 'value_usd']].set_index('address')['value_usd'].to_dict()"
   ]
  },
  {
   "cell_type": "code",
   "execution_count": 92,
   "id": "df8b95a0-d28f-41d6-9acd-7839c3a5a211",
   "metadata": {},
   "outputs": [],
   "source": [
    "# Use 'map()' to add 'value2' from df2 into df1 based on 'address' and 'address2'\n",
    "df_p_values['address_pv_1'] = df_p_values['address1'].map(lookup_dict)\n",
    "df_p_values['address_pv_2'] = df_p_values['address2'].map(lookup_dict)"
   ]
  },
  {
   "cell_type": "code",
   "execution_count": 94,
   "id": "4f85391a-feec-4a23-ab65-8b569c59ba71",
   "metadata": {},
   "outputs": [],
   "source": [
    "# min value of each portfolio is edge wait \n",
    "df_p_values['min_value'] = np.minimum(df_p_values['address_pv_1'], df_p_values['address_pv_2'])"
   ]
  },
  {
   "cell_type": "code",
   "execution_count": 97,
   "id": "50a724d5-f2c8-45aa-88a0-4d5c73c73693",
   "metadata": {},
   "outputs": [],
   "source": [
    "# log 10 value \n",
    "df_p_values['log10_min_value'] = np.log10(df_p_values['min_value'])"
   ]
  },
  {
   "cell_type": "code",
   "execution_count": 132,
   "id": "2a751b8f-1fa2-400d-b076-c71d040263e9",
   "metadata": {},
   "outputs": [],
   "source": [
    "# Step 3: Determine percentiles for log-transformed values\n",
    "percentiles = [0, 90, 99, 100]\n",
    "percentile_values = np.percentile(df_p_values['log10_min_value'], percentiles)\n",
    "df_p_values['group'] = df_p_values['log10_min_value'].apply(assign_group)\n"
   ]
  },
  {
   "cell_type": "code",
   "execution_count": 133,
   "id": "7d99462d-bfa8-4b98-861f-e1b75e6adfe9",
   "metadata": {},
   "outputs": [
    {
     "data": {
      "text/plain": [
       "group\n",
       "0-90      7701480\n",
       "90-99      914933\n",
       "99-100     104741\n",
       "Name: address1, dtype: int64"
      ]
     },
     "execution_count": 133,
     "metadata": {},
     "output_type": "execute_result"
    }
   ],
   "source": [
    "df_p_values[df_p_values.m_test_result == 0].groupby('group').address1.count()"
   ]
  },
  {
   "cell_type": "code",
   "execution_count": 134,
   "id": "5412b945-cc98-4183-bdc3-7853607689e1",
   "metadata": {},
   "outputs": [],
   "source": [
    "import pandas as pd\n",
    "import networkx as nx\n",
    "\n",
    "df_p_values_99100 = df_p_values[(df_p_values.m_test_result == 0) & (df_p_values.group == '99-100')]\n",
    "df_p_values_9099 = df_p_values[(df_p_values.m_test_result == 0) & (df_p_values.group == '90-99')]\n",
    "df_p_values_090 = df_p_values[(df_p_values.m_test_result == 0) & (df_p_values.group == '0-90')]\n",
    "\n",
    "                                \n",
    "# Create an undirected graph\n",
    "graph_99100 = nx.from_pandas_edgelist(df_p_values_99100, source='address1', target='address2', edge_attr='min_value', create_using=nx.Graph())\n",
    "graph_9099 = nx.from_pandas_edgelist(df_p_values_9099, source='address1', target='address2', edge_attr='min_value', create_using=nx.Graph())\n",
    "graph_090 = nx.from_pandas_edgelist(df_p_values_090, source='address1', target='address2', edge_attr='min_value', create_using=nx.Graph())"
   ]
  },
  {
   "cell_type": "code",
   "execution_count": 135,
   "id": "4e5adf15-ea9d-43d6-8271-581e07574e04",
   "metadata": {},
   "outputs": [
    {
     "name": "stdout",
     "output_type": "stream",
     "text": [
      "0.25103237697158237\n",
      "0.21916636424284452\n",
      "0.18439931972121307\n"
     ]
    }
   ],
   "source": [
    "# Calculate\n",
    "print(nx.density(graph_99100)) \n",
    "print(nx.density(graph_9099)) \n",
    "print(nx.density(graph_090)) \n"
   ]
  },
  {
   "cell_type": "code",
   "execution_count": 136,
   "id": "222eb98d-484b-4f69-ad20-962795af3faf",
   "metadata": {},
   "outputs": [
    {
     "name": "stdout",
     "output_type": "stream",
     "text": [
      "Number of nodes in graph_99100: 914\n",
      "Number of nodes in graph_9099: 2890\n",
      "Number of nodes in graph_090: 9140\n"
     ]
    }
   ],
   "source": [
    "### Number of Nodes \n",
    "# Calculate the number of nodes in each graph\n",
    "num_nodes_99100 = nx.number_of_nodes(graph_99100)\n",
    "num_nodes_9099 = nx.number_of_nodes(graph_9099)\n",
    "num_nodes_090 = nx.number_of_nodes(graph_090)\n",
    "\n",
    "# Print the number of nodes for each graph\n",
    "print(f\"Number of nodes in graph_99100: {num_nodes_99100}\")\n",
    "print(f\"Number of nodes in graph_9099: {num_nodes_9099}\")\n",
    "print(f\"Number of nodes in graph_090: {num_nodes_090}\")\n"
   ]
  },
  {
   "cell_type": "code",
   "execution_count": 137,
   "id": "20c3f069-5bb3-4ce5-bbec-bb662ae6180e",
   "metadata": {},
   "outputs": [
    {
     "name": "stdout",
     "output_type": "stream",
     "text": [
      "Number of edges in graph_99100: 104741\n",
      "Number of edges in graph_9099: 914933\n",
      "Number of edges in graph_090: 7701480\n"
     ]
    }
   ],
   "source": [
    "### Number of Edges \n",
    "\n",
    "import networkx as nx\n",
    "# Calculate the number of edges in each graph\n",
    "num_edges_99100 = nx.number_of_edges(graph_99100)\n",
    "num_edges_9099 = nx.number_of_edges(graph_9099)\n",
    "num_edges_090 = nx.number_of_edges(graph_090)\n",
    "\n",
    "# Print the number of edges for each graph\n",
    "print(f\"Number of edges in graph_99100: {num_edges_99100}\")\n",
    "print(f\"Number of edges in graph_9099: {num_edges_9099}\")\n",
    "print(f\"Number of edges in graph_090: {num_edges_090}\")\n"
   ]
  },
  {
   "cell_type": "code",
   "execution_count": 143,
   "id": "3c706913-9648-4c05-b25a-ae53f1e600ec",
   "metadata": {},
   "outputs": [
    {
     "name": "stdout",
     "output_type": "stream",
     "text": [
      "Modularity for graph_99100: 0.016298734588558392\n",
      "Modularity for graph_9099: 0.25702488431399084\n",
      "Modularity for graph_090: 0.15167067273376816\n"
     ]
    }
   ],
   "source": [
    "### Modularity \n",
    "# Calculate modularity for each graph using label propagation communities\n",
    "modularity_99100 = nx.community.modularity(graph_99100, nx.community.label_propagation_communities(graph_99100))\n",
    "modularity_9099 = nx.community.modularity(graph_9099, nx.community.label_propagation_communities(graph_9099))\n",
    "modularity_090 = nx.community.modularity(graph_090, nx.community.label_propagation_communities(graph_090))\n",
    "\n",
    "# Print the modularity results for each graph\n",
    "print(\"Modularity for graph_99100:\", modularity_99100)\n",
    "print(\"Modularity for graph_9099:\", modularity_9099)\n",
    "print(\"Modularity for graph_090:\", modularity_090)\n"
   ]
  },
  {
   "cell_type": "code",
   "execution_count": 144,
   "id": "4d4318b2-1026-4280-88a9-85f8487c6ce4",
   "metadata": {},
   "outputs": [
    {
     "name": "stdout",
     "output_type": "stream",
     "text": [
      "Average clustering coefficient for graph_99100: 0.8638974399426924\n",
      "Average clustering coefficient for graph_9099: 0.7388691612954876\n",
      "Average clustering coefficient for graph_090: 0.8416640570444457\n"
     ]
    }
   ],
   "source": [
    "### Average Clustering Coefficient\n",
    "# Function to calculate and print average clustering coefficient for a graph\n",
    "def calculate_and_print_avg_clustering(graph_name, graph):\n",
    "    avg_clustering_coefficient = nx.average_clustering(graph)\n",
    "    print(f\"Average clustering coefficient for {graph_name}: {avg_clustering_coefficient}\")\n",
    "\n",
    "# Calculate and print average clustering coefficient for each graph\n",
    "calculate_and_print_avg_clustering('graph_99100', graph_99100)\n",
    "calculate_and_print_avg_clustering('graph_9099', graph_9099)\n",
    "calculate_and_print_avg_clustering('graph_090', graph_090)\n"
   ]
  },
  {
   "cell_type": "code",
   "execution_count": 145,
   "id": "daf9c75d-e435-4e3e-b5bf-f54ffb3e8500",
   "metadata": {},
   "outputs": [
    {
     "name": "stdout",
     "output_type": "stream",
     "text": [
      "Average path length for graph_99100: 1.8795276590747314\n",
      "Average path length for graph_9099: 1.8270600452018815\n",
      "Average path length for graph_090: 1.9099471977048852\n"
     ]
    }
   ],
   "source": [
    "### Average path length\n",
    "# Function to calculate and print average path length for a graph\n",
    "def calculate_and_print_avg_path_length(graph_name, graph):\n",
    "    avg_path_length = nx.average_shortest_path_length(graph)\n",
    "    print(f\"Average path length for {graph_name}: {avg_path_length}\")\n",
    "\n",
    "# Calculate and print average path length for each graph\n",
    "calculate_and_print_avg_path_length('graph_99100', graph_99100)\n",
    "calculate_and_print_avg_path_length('graph_9099', graph_9099)\n",
    "calculate_and_print_avg_path_length('graph_090', graph_090)\n"
   ]
  },
  {
   "cell_type": "markdown",
   "id": "6d9c6916-716b-4ec1-9094-c10281b84c2a",
   "metadata": {},
   "source": [
    "### wallet projections v3\n",
    "Note: Wallet projection where each group has been testested independently"
   ]
  },
  {
   "cell_type": "markdown",
   "id": "63ddecf3-13d8-4e43-a7da-07774461c579",
   "metadata": {},
   "source": [
    "##### load"
   ]
  },
  {
   "cell_type": "code",
   "execution_count": 155,
   "id": "d0db99ca-bf32-4af4-86a3-d2919adbdd42",
   "metadata": {},
   "outputs": [],
   "source": [
    "# Specify the HDF5 file path for a specific snapshot\n",
    "\n",
    "import h5py\n",
    "from os.path import join \n",
    "\n",
    "dfs = []\n",
    "grouping =  ['0-90', '90-99', '99-100']\n",
    "\n",
    "# Open the HDF5 file for reading\n",
    "for group in grouping: \n",
    "    \n",
    "    file_path = f'wallet_projection_output/output_f-none_grouping/output_snapshot_11659570_{group}.h5'\n",
    "\n",
    "    \n",
    "    with h5py.File(join(path,file_path), 'r') as file:\n",
    "        # Access the p_values_group\n",
    "        p_values_group = file['snapshot_11659570/p_values']\n",
    "\n",
    "        # Create an empty list to store the batches\n",
    "        batches = []\n",
    "\n",
    "        # Iterate over the datasets in p_values_group\n",
    "        for dataset_name in p_values_group:\n",
    "            dataset = p_values_group[dataset_name]\n",
    "\n",
    "            # Access the data in the dataset\n",
    "            data = dataset[:]\n",
    "\n",
    "            # Append the batch data to the list\n",
    "            batches.append(data)\n",
    "\n",
    "        # Concatenate the batches into a single DataFrame\n",
    "        p_values = np.concatenate(batches)\n",
    "        \n",
    "    #     \n",
    "    df = pd.DataFrame(p_values)\n",
    "\n",
    "    # Rename the columns\n",
    "    df = df.rename(columns={0: 'address1', 1: 'address2', 2: 'p_value'})\n",
    "\n",
    "    # Convert the 'p_value' column to float\n",
    "    df['p_value'] = df['p_value'].astype(float)\n",
    "\n",
    "    df['address1'] = df['address1'].str.decode('utf-8')\n",
    "\n",
    "    df['address2'] = df['address2'].str.decode('utf-8')\n",
    "    \n",
    "    dfs.append(df)"
   ]
  },
  {
   "cell_type": "code",
   "execution_count": null,
   "id": "5dd8873c-fdc6-4075-b025-a31483775a0a",
   "metadata": {},
   "outputs": [],
   "source": [
    "## Correct for bonferri correcton \n",
    "from statsmodels.stats.multitest import multipletests as m_tests\n",
    "# Ref.: https://www.statsmodels.org/devel/generated/statsmodels.stats.multitest.multipletests.html#statsmodels.stats.multitest.multipletests\n",
    "\n",
    "for df in dfs: \n",
    "    \n",
    "    # bonferroni corrections for mutiple hypothesis testing\n",
    "    m_test = m_tests(pvals=df.p_value.values, alpha=0.01, method='bonferroni')\n",
    "    df['m_test_result'] = m_test[1]\n",
    "    \n",
    "    # add portfolio value \n",
    "    ## Use 'map()' to add 'value2' from df2 into df1 based on 'address' and 'address2'\n",
    "    df['address_pv_1'] = df['address1'].map(lookup_dict)\n",
    "    df['address_pv_2'] = df['address2'].map(lookup_dict)\n",
    "    ## min value of each portfolio is edge weight \n",
    "    df_p_values['min_value'] = np.minimum(df_p_values['address_pv_1'], df_p_values['address_pv_2'])"
   ]
  },
  {
   "cell_type": "code",
   "execution_count": 180,
   "id": "a438c7ac-9430-4c94-af9a-e337fca74d9d",
   "metadata": {},
   "outputs": [],
   "source": [
    "dfs_val = []  \n",
    "for df in dfs:\n",
    "\n",
    "    # filter for validated links \n",
    "    df = df[df.m_test_result == 0]\n",
    "    \n",
    "    # append\n",
    "    dfs_val.append(df)\n",
    "\n",
    "df_p_values_090, df_p_values_9099, df_p_values_99100 = dfs_val"
   ]
  },
  {
   "cell_type": "code",
   "execution_count": null,
   "id": "b35c43a1-f735-4066-bff8-3b4bcb13d903",
   "metadata": {},
   "outputs": [],
   "source": [
    "1+1"
   ]
  },
  {
   "cell_type": "markdown",
   "id": "c70f812b-40f5-485c-96eb-278a7f5a00f9",
   "metadata": {},
   "source": [
    "##### analysis "
   ]
  },
  {
   "cell_type": "code",
   "execution_count": 181,
   "id": "76487190-58fd-4c7c-8c7a-abc9627135f7",
   "metadata": {},
   "outputs": [],
   "source": [
    "import pandas as pd\n",
    "import networkx as nx\n",
    "\n",
    "                                \n",
    "# Create an undirected graph\n",
    "graph_99100 = nx.from_pandas_edgelist(df_p_values_99100, source='address1', target='address2', create_using=nx.Graph())\n",
    "graph_9099 = nx.from_pandas_edgelist(df_p_values_9099, source='address1', target='address2', create_using=nx.Graph())\n",
    "graph_090 = nx.from_pandas_edgelist(df_p_values_090, source='address1', target='address2',  create_using=nx.Graph())"
   ]
  },
  {
   "cell_type": "code",
   "execution_count": 182,
   "id": "433cb457-63ec-421d-a80e-e27616e79168",
   "metadata": {},
   "outputs": [
    {
     "name": "stdout",
     "output_type": "stream",
     "text": [
      "0.35547061634018157\n",
      "0.2470519898883031\n",
      "0.2104805210257047\n"
     ]
    }
   ],
   "source": [
    "# Calculate\n",
    "print(nx.density(graph_99100)) \n",
    "print(nx.density(graph_9099)) \n",
    "print(nx.density(graph_090)) \n"
   ]
  },
  {
   "cell_type": "code",
   "execution_count": 183,
   "id": "ccff2ba8-1011-4509-8a92-769f31d1e23d",
   "metadata": {},
   "outputs": [
    {
     "name": "stdout",
     "output_type": "stream",
     "text": [
      "Number of nodes in graph_99100: 92\n",
      "Number of nodes in graph_9099: 822\n",
      "Number of nodes in graph_090: 8226\n"
     ]
    }
   ],
   "source": [
    "### Number of Nodes \n",
    "# Calculate the number of nodes in each graph\n",
    "num_nodes_99100 = nx.number_of_nodes(graph_99100)\n",
    "num_nodes_9099 = nx.number_of_nodes(graph_9099)\n",
    "num_nodes_090 = nx.number_of_nodes(graph_090)\n",
    "\n",
    "# Print the number of nodes for each graph\n",
    "print(f\"Number of nodes in graph_99100: {num_nodes_99100}\")\n",
    "print(f\"Number of nodes in graph_9099: {num_nodes_9099}\")\n",
    "print(f\"Number of nodes in graph_090: {num_nodes_090}\")\n"
   ]
  },
  {
   "cell_type": "code",
   "execution_count": 184,
   "id": "8b98e0c6-de7f-44c8-b4d6-da66904899ff",
   "metadata": {},
   "outputs": [
    {
     "name": "stdout",
     "output_type": "stream",
     "text": [
      "Number of edges in graph_99100: 1488\n",
      "Number of edges in graph_9099: 83363\n",
      "Number of edges in graph_090: 7120435\n"
     ]
    }
   ],
   "source": [
    "### Number of Edges \n",
    "\n",
    "import networkx as nx\n",
    "# Calculate the number of edges in each graph\n",
    "num_edges_99100 = nx.number_of_edges(graph_99100)\n",
    "num_edges_9099 = nx.number_of_edges(graph_9099)\n",
    "num_edges_090 = nx.number_of_edges(graph_090)\n",
    "\n",
    "# Print the number of edges for each graph\n",
    "print(f\"Number of edges in graph_99100: {num_edges_99100}\")\n",
    "print(f\"Number of edges in graph_9099: {num_edges_9099}\")\n",
    "print(f\"Number of edges in graph_090: {num_edges_090}\")\n"
   ]
  },
  {
   "cell_type": "code",
   "execution_count": 185,
   "id": "6d3d6d70-dd95-405b-8c8b-bbc8708885fd",
   "metadata": {},
   "outputs": [
    {
     "name": "stdout",
     "output_type": "stream",
     "text": [
      "Modularity for graph_99100: 0.027827458376690907\n",
      "Modularity for graph_9099: 0.014166950016125916\n",
      "Modularity for graph_090: 0.004136481814526265\n"
     ]
    }
   ],
   "source": [
    "### Modularity \n",
    "# Calculate modularity for each graph using label propagation communities\n",
    "modularity_99100 = nx.community.modularity(graph_99100, nx.community.label_propagation_communities(graph_99100))\n",
    "modularity_9099 = nx.community.modularity(graph_9099, nx.community.label_propagation_communities(graph_9099))\n",
    "modularity_090 = nx.community.modularity(graph_090, nx.community.label_propagation_communities(graph_090))\n",
    "\n",
    "# Print the modularity results for each graph\n",
    "print(\"Modularity for graph_99100:\", modularity_99100)\n",
    "print(\"Modularity for graph_9099:\", modularity_9099)\n",
    "print(\"Modularity for graph_090:\", modularity_090)\n"
   ]
  },
  {
   "cell_type": "code",
   "execution_count": null,
   "id": "1545c391-ca4d-4e9f-94e9-8bc822939761",
   "metadata": {},
   "outputs": [
    {
     "name": "stdout",
     "output_type": "stream",
     "text": [
      "Average clustering coefficient for graph_99100: 0.9182407519114658\n",
      "Average clustering coefficient for graph_9099: 0.8590826623155422\n"
     ]
    }
   ],
   "source": [
    "### Average Clustering Coefficient\n",
    "# Function to calculate and print average clustering coefficient for a graph\n",
    "def calculate_and_print_avg_clustering(graph_name, graph):\n",
    "    avg_clustering_coefficient = nx.average_clustering(graph)\n",
    "    print(f\"Average clustering coefficient for {graph_name}: {avg_clustering_coefficient}\")\n",
    "\n",
    "# Calculate and print average clustering coefficient for each graph\n",
    "calculate_and_print_avg_clustering('graph_99100', graph_99100)\n",
    "calculate_and_print_avg_clustering('graph_9099', graph_9099)\n",
    "calculate_and_print_avg_clustering('graph_090', graph_090)\n"
   ]
  },
  {
   "cell_type": "code",
   "execution_count": null,
   "id": "b1318407-2cfa-48cf-9448-0ac0fb620faa",
   "metadata": {},
   "outputs": [],
   "source": [
    "### Average path length\n",
    "# Function to calculate and print average path length for a graph\n",
    "def calculate_and_print_avg_path_length(graph_name, graph):\n",
    "    avg_path_length = nx.average_shortest_path_length(graph)\n",
    "    print(f\"Average path length for {graph_name}: {avg_path_length}\")\n",
    "\n",
    "# Calculate and print average path length for each graph\n",
    "calculate_and_print_avg_path_length('graph_99100', graph_99100)\n",
    "calculate_and_print_avg_path_length('graph_9099', graph_9099)\n",
    "calculate_and_print_avg_path_length('graph_090', graph_090)\n"
   ]
  }
 ],
 "metadata": {
  "kernelspec": {
   "display_name": "Python 3 (ipykernel)",
   "language": "python",
   "name": "python3"
  },
  "language_info": {
   "codemirror_mode": {
    "name": "ipython",
    "version": 3
   },
   "file_extension": ".py",
   "mimetype": "text/x-python",
   "name": "python",
   "nbconvert_exporter": "python",
   "pygments_lexer": "ipython3",
   "version": "3.9.2"
  }
 },
 "nbformat": 4,
 "nbformat_minor": 5
}
