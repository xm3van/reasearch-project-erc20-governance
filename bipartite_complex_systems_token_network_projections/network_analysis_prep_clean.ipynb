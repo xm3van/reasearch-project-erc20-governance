{
 "cells": [
  {
   "cell_type": "code",
   "execution_count": 2,
   "metadata": {},
   "outputs": [],
   "source": [
    "import pandas as pd\n",
    "import numpy as np\n",
    "import networkx as nx \n",
    "\n",
    "\n",
    "from os.path import join\n",
    "import os\n",
    "\n",
    "from dotenv import load_dotenv\n",
    "load_dotenv()  \n",
    "\n",
    "path = os.environ['PROJECT_PATH']\n",
    "covalent_key = os.environ['COVALENTHQ_API_KEY']"
   ]
  },
  {
   "cell_type": "markdown",
   "metadata": {},
   "source": [
    "# Statistically Validated Networks in Bipartite Complex Systems\n",
    "\n",
    "For the analysis we sub-divide the our data into two sub-set.\n",
    "\n",
    "- N_A = Set of 17 Token addresses \n",
    "    > |Note: Tokenmigration or wrapped version (e.g. wNXM) have been replace with the address of the corresponding address. \n",
    "- N_B = Remainder of 78700610 (78700627-17) addresses \n",
    "- k = 1 (always)\n",
    "    >  From Tumminello et al., 2011, p. 3 - *Set A of the database is composed by 66 organisms (13 Archaea, 50 Bacteria and 3 unicellular Eukaryota) and set B by 4,873 COGs present in their genomes. The number of COGs in a genome is heterogeneous, ranging from 362 to 2,243. Similarly, COGs can be present in a different number of genomes. We call any COG that is present in k different genomes a k-COG. In the present system, k ranges between 3 and 66.*\n",
    "    > By analogy Set A in our case tokens are homogenous sub-groups of 1 (different organism species)\n",
    "- N_t < 1*17*(8)\n",
    "\n"
   ]
  },
  {
   "cell_type": "code",
   "execution_count": 3,
   "metadata": {},
   "outputs": [],
   "source": [
    "import pandas as pd\n",
    "import numpy as np\n",
    "\n",
    "import dask.dataframe as dd\n",
    "import dask.array as da\n",
    "import dask.bag as db\n",
    "import itertools\n",
    "\n",
    "from os.path import join"
   ]
  },
  {
   "cell_type": "code",
   "execution_count": 4,
   "metadata": {},
   "outputs": [],
   "source": [
    "# remove burner addresses \n",
    "known_burner_addresses = ['0x0000000000000000000000000000000000000000',\n",
    "                        '0x0000000000000000000000000000000000000000',\n",
    "                        '0x0000000000000000000000000000000000000001',\n",
    "                        '0x0000000000000000000000000000000000000002',\n",
    "                        '0x0000000000000000000000000000000000000003',\n",
    "                        '0x0000000000000000000000000000000000000004',\n",
    "                        '0x0000000000000000000000000000000000000005',\n",
    "                        '0x0000000000000000000000000000000000000006',\n",
    "                        '0x0000000000000000000000000000000000000007',\n",
    "                        '0x000000000000000000000000000000000000dead']"
   ]
  },
  {
   "cell_type": "code",
   "execution_count": 6,
   "metadata": {},
   "outputs": [],
   "source": [
    "# read snapshot\n",
    "# ddf = dd.read_csv(join(path, 'token_balance_lookup_tables/token_holder_snapshot_balance_14967365.csv'))\n",
    "ddf = pd.read_csv(join(path,f\"token_balance_lookup_tables_labelled/df_token_balenace_labelled_greater_01pct_bh11659570_v2.csv\"), index_col=[0])\n",
    "ddf = ddf.rename(columns={'address_x': 'address'})\n",
    "\n",
    "# we only consider non-zero at snapshot \n",
    "ddf = ddf[ddf.value > 0]"
   ]
  },
  {
   "cell_type": "code",
   "execution_count": 7,
   "metadata": {},
   "outputs": [],
   "source": [
    "### fix total supply & check\n",
    "## keys \n",
    "dict_ts = dict(ddf.groupby('token_address').value.sum())\n",
    "dict_ts.keys()\n",
    "\n",
    "## define supply \n",
    "ddf['pct_supply'] = int\n",
    "\n",
    "## define supply\n",
    "for t in dict_ts.keys(): \n",
    "    \n",
    "    ddf.loc[ddf.token_address == t, 'pct_supply'] = ddf[ddf.token_address == t].value / dict_ts[t]"
   ]
  },
  {
   "cell_type": "code",
   "execution_count": 8,
   "metadata": {},
   "outputs": [],
   "source": [
    "#  filter latest tokens \n",
    "df_addresses = pd.read_csv('../assets/df_final_token_selection_20230813.csv')\n",
    "ddf = ddf[ddf.token_address.isin(df_addresses.address) == True]\n",
    "\n",
    "# remove known burner addresses \n",
    "ddf = ddf[ddf.address.isin(known_burner_addresses) == False]"
   ]
  },
  {
   "cell_type": "code",
   "execution_count": 9,
   "metadata": {},
   "outputs": [
    {
     "name": "stdout",
     "output_type": "stream",
     "text": [
      "Token: 0x9f8f72aa9304c8b593d555f12ef6589cc3a579a2 || Herfindahl-Hirschman Index: 394.2610748180453\n",
      "Token: 0x1f9840a85d5af5bf1d1762f925bdaddc4201f984 || Herfindahl-Hirschman Index: 498.2428580743029\n",
      "Token: 0xba100000625a3754423978a60c9317c58a424e3d || Herfindahl-Hirschman Index: 481.6896409999161\n",
      "Token: 0x0bc529c00c6401aef6d220be8c6ea1667f6ad93e || Herfindahl-Hirschman Index: 316.34824788881383\n",
      "Token: 0xc00e94cb662c3520282e6f5717214004a7f26888 || Herfindahl-Hirschman Index: 1598.1718698403768\n",
      "Token: 0x111111111117dc0aa78b770fa6a738034120c302 || Herfindahl-Hirschman Index: 8636.572512066232\n",
      "Token: 0x6b3595068778dd592e39a122f4f5a5cf09c90fe2 || Herfindahl-Hirschman Index: 2167.543471308722\n",
      "Token: 0x7fc66500c84a76ad7e9c93437bfc5ac33e2ddae9 || Herfindahl-Hirschman Index: 1273.6214889545554\n",
      "Token: 0xd533a949740bb3306d119cc777fa900ba034cd52 || Herfindahl-Hirschman Index: 2918.41814286187\n",
      "Token: 0x5a98fcbea516cf06857215779fd812ca3bef1b32 || Herfindahl-Hirschman Index: 1455.6945539106673\n"
     ]
    }
   ],
   "source": [
    "def herfindahl_hirschman_index(data):\n",
    "    squared_market_shares = np.square(data)\n",
    "    hhi = np.sum(squared_market_shares)\n",
    "    return hhi\n",
    "\n",
    "for token in ddf.token_address.unique(): \n",
    "    \n",
    "    pct_supply_data = ddf[ddf.token_address == token].pct_supply*100\n",
    "    \n",
    "    hhi_result = herfindahl_hirschman_index(pct_supply_data)\n",
    "    \n",
    "    print(f\"Token: {token} || Herfindahl-Hirschman Index:\", hhi_result)\n"
   ]
  },
  {
   "cell_type": "code",
   "execution_count": 10,
   "metadata": {},
   "outputs": [],
   "source": [
    "df_snapshot = pd.read_csv(\"../assets/snapshot_selection.csv\")\n"
   ]
  },
  {
   "cell_type": "code",
   "execution_count": 11,
   "metadata": {},
   "outputs": [],
   "source": [
    "pct_addresses_holding_given_token = []\n",
    "\n",
    "for snapshot in df_snapshot[df_snapshot['Block Height'] >= 11547458]['Block Height']:\n",
    "    \n",
    "    # read snapshot\n",
    "    # ddf = dd.read_csv(join(path, 'token_balance_lookup_tables/token_holder_snapshot_balance_14967365.csv'))\n",
    "    ddf = pd.read_csv(join(path,f\"token_balance_lookup_tables_labelled/df_token_balenace_labelled_greater_01pct_bh{snapshot}_v2.csv\"), index_col=[0])\n",
    "    ddf = ddf.rename(columns={'address_x': 'address'})\n",
    "\n",
    "    # we only consider non-zero at snapshot \n",
    "    ddf = ddf[ddf.value > 0]\n",
    "    \n",
    "    ## keys \n",
    "    dict_ts = dict(ddf.groupby('token_address').value.sum())\n",
    "    dict_ts.keys()\n",
    "\n",
    "    ## define supply \n",
    "    ddf['pct_supply'] = int\n",
    "\n",
    "    ## define supply\n",
    "    for t in dict_ts.keys(): \n",
    "\n",
    "        ddf.loc[ddf.token_address == t, 'pct_supply'] = ddf[ddf.token_address == t].value / dict_ts[t]\n",
    "        \n",
    "    #  filter latest tokens \n",
    "    ddf = ddf[ddf.token_address.isin(df_addresses.address) == True]\n",
    "\n",
    "    # remove known burner addresses \n",
    "    ddf = ddf[ddf.address.isin(known_burner_addresses) == False]\n",
    "        \n",
    "    pct_addresses_holding_given_token.append(pd.DataFrame(ddf[ddf.pct_supply > 0.000005].groupby('token_address').address.nunique() / ddf[ddf.pct_supply > 0.000005].address.nunique()))\n"
   ]
  },
  {
   "cell_type": "code",
   "execution_count": 24,
   "metadata": {},
   "outputs": [],
   "source": [
    "token_name_dict = dict(zip(df_addresses['address'], df_addresses['name'])) \n",
    "\n",
    "df_token_fractional_ownership = pd.concat(pct_addresses_holding_given_token, axis=1, join='outer')\n",
    "df_token_fractional_ownership.columns = list(df_snapshot[df_snapshot['Block Height'] >= 11547458]['Date'])\n",
    "df_token_fractional_ownership = df_token_fractional_ownership.reset_index()\n",
    "df_token_fractional_ownership['name'] = df_token_fractional_ownership.token_address.apply(lambda x: token_name_dict[x])\n",
    "df_token_fractional_ownership = df_token_fractional_ownership.drop('token_address', axis=1)\n",
    "df_token_fractional_ownership.set_index('name', inplace=True)"
   ]
  },
  {
   "cell_type": "code",
   "execution_count": 25,
   "metadata": {},
   "outputs": [
    {
     "data": {
      "text/html": [
       "<div>\n",
       "<style scoped>\n",
       "    .dataframe tbody tr th:only-of-type {\n",
       "        vertical-align: middle;\n",
       "    }\n",
       "\n",
       "    .dataframe tbody tr th {\n",
       "        vertical-align: top;\n",
       "    }\n",
       "\n",
       "    .dataframe thead th {\n",
       "        text-align: right;\n",
       "    }\n",
       "</style>\n",
       "<table border=\"1\" class=\"dataframe\">\n",
       "  <thead>\n",
       "    <tr style=\"text-align: right;\">\n",
       "      <th></th>\n",
       "      <th>2021-01-15</th>\n",
       "      <th>2021-02-15</th>\n",
       "      <th>2021-03-15</th>\n",
       "      <th>2021-04-15</th>\n",
       "      <th>2021-05-15</th>\n",
       "      <th>2021-06-15</th>\n",
       "      <th>2021-07-15</th>\n",
       "      <th>2021-08-15</th>\n",
       "      <th>2021-09-15</th>\n",
       "      <th>2021-10-15</th>\n",
       "      <th>2021-11-15</th>\n",
       "      <th>2021-12-15</th>\n",
       "      <th>2022-01-15</th>\n",
       "      <th>2022-02-15</th>\n",
       "      <th>2022-03-15</th>\n",
       "      <th>2022-04-15</th>\n",
       "      <th>2022-05-15</th>\n",
       "      <th>2022-06-15</th>\n",
       "    </tr>\n",
       "    <tr>\n",
       "      <th>name</th>\n",
       "      <th></th>\n",
       "      <th></th>\n",
       "      <th></th>\n",
       "      <th></th>\n",
       "      <th></th>\n",
       "      <th></th>\n",
       "      <th></th>\n",
       "      <th></th>\n",
       "      <th></th>\n",
       "      <th></th>\n",
       "      <th></th>\n",
       "      <th></th>\n",
       "      <th></th>\n",
       "      <th></th>\n",
       "      <th></th>\n",
       "      <th></th>\n",
       "      <th></th>\n",
       "      <th></th>\n",
       "    </tr>\n",
       "  </thead>\n",
       "  <tbody>\n",
       "    <tr>\n",
       "      <th>Yearn Finance</th>\n",
       "      <td>0.285370</td>\n",
       "      <td>0.257866</td>\n",
       "      <td>0.252925</td>\n",
       "      <td>0.258002</td>\n",
       "      <td>0.273330</td>\n",
       "      <td>0.279093</td>\n",
       "      <td>0.272209</td>\n",
       "      <td>0.258842</td>\n",
       "      <td>0.224643</td>\n",
       "      <td>0.222763</td>\n",
       "      <td>0.215841</td>\n",
       "      <td>0.216861</td>\n",
       "      <td>0.236558</td>\n",
       "      <td>0.233174</td>\n",
       "      <td>0.232870</td>\n",
       "      <td>0.230240</td>\n",
       "      <td>0.228475</td>\n",
       "      <td>0.227263</td>\n",
       "    </tr>\n",
       "    <tr>\n",
       "      <th>1Inch</th>\n",
       "      <td>0.026630</td>\n",
       "      <td>0.038659</td>\n",
       "      <td>0.043030</td>\n",
       "      <td>0.045180</td>\n",
       "      <td>0.047548</td>\n",
       "      <td>0.041443</td>\n",
       "      <td>0.039968</td>\n",
       "      <td>0.044373</td>\n",
       "      <td>0.039129</td>\n",
       "      <td>0.039742</td>\n",
       "      <td>0.040698</td>\n",
       "      <td>0.050663</td>\n",
       "      <td>0.056567</td>\n",
       "      <td>0.059214</td>\n",
       "      <td>0.063316</td>\n",
       "      <td>0.065145</td>\n",
       "      <td>0.065440</td>\n",
       "      <td>0.066390</td>\n",
       "    </tr>\n",
       "    <tr>\n",
       "      <th>Uniswap</th>\n",
       "      <td>0.112110</td>\n",
       "      <td>0.105388</td>\n",
       "      <td>0.102419</td>\n",
       "      <td>0.098849</td>\n",
       "      <td>0.095096</td>\n",
       "      <td>0.097780</td>\n",
       "      <td>0.094712</td>\n",
       "      <td>0.088746</td>\n",
       "      <td>0.077633</td>\n",
       "      <td>0.079005</td>\n",
       "      <td>0.076285</td>\n",
       "      <td>0.081490</td>\n",
       "      <td>0.083870</td>\n",
       "      <td>0.086222</td>\n",
       "      <td>0.087344</td>\n",
       "      <td>0.086411</td>\n",
       "      <td>0.087229</td>\n",
       "      <td>0.085913</td>\n",
       "    </tr>\n",
       "    <tr>\n",
       "      <th>Lido</th>\n",
       "      <td>0.013151</td>\n",
       "      <td>0.016348</td>\n",
       "      <td>0.026076</td>\n",
       "      <td>0.038154</td>\n",
       "      <td>0.049883</td>\n",
       "      <td>0.054394</td>\n",
       "      <td>0.055635</td>\n",
       "      <td>0.055949</td>\n",
       "      <td>0.057791</td>\n",
       "      <td>0.057695</td>\n",
       "      <td>0.061214</td>\n",
       "      <td>0.059710</td>\n",
       "      <td>0.064548</td>\n",
       "      <td>0.069757</td>\n",
       "      <td>0.068663</td>\n",
       "      <td>0.075211</td>\n",
       "      <td>0.076229</td>\n",
       "      <td>0.074893</td>\n",
       "    </tr>\n",
       "    <tr>\n",
       "      <th>Sushi</th>\n",
       "      <td>0.134685</td>\n",
       "      <td>0.130269</td>\n",
       "      <td>0.131668</td>\n",
       "      <td>0.118560</td>\n",
       "      <td>0.129846</td>\n",
       "      <td>0.118409</td>\n",
       "      <td>0.116877</td>\n",
       "      <td>0.126527</td>\n",
       "      <td>0.122589</td>\n",
       "      <td>0.116075</td>\n",
       "      <td>0.116120</td>\n",
       "      <td>0.115534</td>\n",
       "      <td>0.115304</td>\n",
       "      <td>0.111352</td>\n",
       "      <td>0.110588</td>\n",
       "      <td>0.112426</td>\n",
       "      <td>0.114660</td>\n",
       "      <td>0.114414</td>\n",
       "    </tr>\n",
       "    <tr>\n",
       "      <th>Aave</th>\n",
       "      <td>0.225315</td>\n",
       "      <td>0.249126</td>\n",
       "      <td>0.248364</td>\n",
       "      <td>0.229508</td>\n",
       "      <td>0.216254</td>\n",
       "      <td>0.194172</td>\n",
       "      <td>0.194588</td>\n",
       "      <td>0.181190</td>\n",
       "      <td>0.164909</td>\n",
       "      <td>0.163286</td>\n",
       "      <td>0.170031</td>\n",
       "      <td>0.168342</td>\n",
       "      <td>0.166060</td>\n",
       "      <td>0.163850</td>\n",
       "      <td>0.159501</td>\n",
       "      <td>0.161480</td>\n",
       "      <td>0.160355</td>\n",
       "      <td>0.161146</td>\n",
       "    </tr>\n",
       "    <tr>\n",
       "      <th>Maker</th>\n",
       "      <td>0.211945</td>\n",
       "      <td>0.206765</td>\n",
       "      <td>0.199782</td>\n",
       "      <td>0.200234</td>\n",
       "      <td>0.189818</td>\n",
       "      <td>0.186772</td>\n",
       "      <td>0.185686</td>\n",
       "      <td>0.164148</td>\n",
       "      <td>0.142570</td>\n",
       "      <td>0.140606</td>\n",
       "      <td>0.134245</td>\n",
       "      <td>0.133829</td>\n",
       "      <td>0.139037</td>\n",
       "      <td>0.141537</td>\n",
       "      <td>0.138752</td>\n",
       "      <td>0.140143</td>\n",
       "      <td>0.140329</td>\n",
       "      <td>0.138018</td>\n",
       "    </tr>\n",
       "    <tr>\n",
       "      <th>Balancer</th>\n",
       "      <td>0.074082</td>\n",
       "      <td>0.087703</td>\n",
       "      <td>0.088439</td>\n",
       "      <td>0.089676</td>\n",
       "      <td>0.085567</td>\n",
       "      <td>0.077521</td>\n",
       "      <td>0.072370</td>\n",
       "      <td>0.069936</td>\n",
       "      <td>0.062647</td>\n",
       "      <td>0.061738</td>\n",
       "      <td>0.061745</td>\n",
       "      <td>0.063195</td>\n",
       "      <td>0.064758</td>\n",
       "      <td>0.065713</td>\n",
       "      <td>0.067023</td>\n",
       "      <td>0.071170</td>\n",
       "      <td>0.067837</td>\n",
       "      <td>0.067070</td>\n",
       "    </tr>\n",
       "    <tr>\n",
       "      <th>Compound</th>\n",
       "      <td>0.058301</td>\n",
       "      <td>0.061382</td>\n",
       "      <td>0.058993</td>\n",
       "      <td>0.066452</td>\n",
       "      <td>0.064736</td>\n",
       "      <td>0.064847</td>\n",
       "      <td>0.068008</td>\n",
       "      <td>0.066077</td>\n",
       "      <td>0.061052</td>\n",
       "      <td>0.063177</td>\n",
       "      <td>0.063405</td>\n",
       "      <td>0.064804</td>\n",
       "      <td>0.066088</td>\n",
       "      <td>0.068819</td>\n",
       "      <td>0.070802</td>\n",
       "      <td>0.072872</td>\n",
       "      <td>0.075947</td>\n",
       "      <td>0.076321</td>\n",
       "    </tr>\n",
       "    <tr>\n",
       "      <th>Curve</th>\n",
       "      <td>0.054356</td>\n",
       "      <td>0.054287</td>\n",
       "      <td>0.056613</td>\n",
       "      <td>0.062646</td>\n",
       "      <td>0.068379</td>\n",
       "      <td>0.067530</td>\n",
       "      <td>0.067207</td>\n",
       "      <td>0.072749</td>\n",
       "      <td>0.067226</td>\n",
       "      <td>0.066260</td>\n",
       "      <td>0.067654</td>\n",
       "      <td>0.072242</td>\n",
       "      <td>0.072459</td>\n",
       "      <td>0.073151</td>\n",
       "      <td>0.072513</td>\n",
       "      <td>0.070958</td>\n",
       "      <td>0.073408</td>\n",
       "      <td>0.073396</td>\n",
       "    </tr>\n",
       "    <tr>\n",
       "      <th>Instadapp</th>\n",
       "      <td>NaN</td>\n",
       "      <td>NaN</td>\n",
       "      <td>NaN</td>\n",
       "      <td>0.000098</td>\n",
       "      <td>0.000093</td>\n",
       "      <td>0.004533</td>\n",
       "      <td>0.022788</td>\n",
       "      <td>0.028939</td>\n",
       "      <td>0.030457</td>\n",
       "      <td>0.039126</td>\n",
       "      <td>0.039769</td>\n",
       "      <td>0.038065</td>\n",
       "      <td>0.040745</td>\n",
       "      <td>0.046216</td>\n",
       "      <td>0.044920</td>\n",
       "      <td>0.045793</td>\n",
       "      <td>0.045483</td>\n",
       "      <td>0.041562</td>\n",
       "    </tr>\n",
       "    <tr>\n",
       "      <th>Convex</th>\n",
       "      <td>NaN</td>\n",
       "      <td>NaN</td>\n",
       "      <td>NaN</td>\n",
       "      <td>NaN</td>\n",
       "      <td>NaN</td>\n",
       "      <td>0.026364</td>\n",
       "      <td>0.028485</td>\n",
       "      <td>0.056270</td>\n",
       "      <td>0.080755</td>\n",
       "      <td>0.084487</td>\n",
       "      <td>0.088567</td>\n",
       "      <td>0.078073</td>\n",
       "      <td>0.072039</td>\n",
       "      <td>0.065641</td>\n",
       "      <td>0.071230</td>\n",
       "      <td>0.058056</td>\n",
       "      <td>0.057894</td>\n",
       "      <td>0.060404</td>\n",
       "    </tr>\n",
       "    <tr>\n",
       "      <th>Dydx</th>\n",
       "      <td>NaN</td>\n",
       "      <td>NaN</td>\n",
       "      <td>NaN</td>\n",
       "      <td>NaN</td>\n",
       "      <td>NaN</td>\n",
       "      <td>NaN</td>\n",
       "      <td>0.000089</td>\n",
       "      <td>0.000482</td>\n",
       "      <td>0.077217</td>\n",
       "      <td>0.071810</td>\n",
       "      <td>0.070177</td>\n",
       "      <td>0.067886</td>\n",
       "      <td>0.047466</td>\n",
       "      <td>0.043761</td>\n",
       "      <td>0.040214</td>\n",
       "      <td>0.041398</td>\n",
       "      <td>0.040688</td>\n",
       "      <td>0.040065</td>\n",
       "    </tr>\n",
       "    <tr>\n",
       "      <th>Aura Finance</th>\n",
       "      <td>NaN</td>\n",
       "      <td>NaN</td>\n",
       "      <td>NaN</td>\n",
       "      <td>NaN</td>\n",
       "      <td>NaN</td>\n",
       "      <td>NaN</td>\n",
       "      <td>NaN</td>\n",
       "      <td>NaN</td>\n",
       "      <td>NaN</td>\n",
       "      <td>NaN</td>\n",
       "      <td>NaN</td>\n",
       "      <td>NaN</td>\n",
       "      <td>NaN</td>\n",
       "      <td>NaN</td>\n",
       "      <td>NaN</td>\n",
       "      <td>NaN</td>\n",
       "      <td>NaN</td>\n",
       "      <td>0.012788</td>\n",
       "    </tr>\n",
       "  </tbody>\n",
       "</table>\n",
       "</div>"
      ],
      "text/plain": [
       "               2021-01-15  2021-02-15  2021-03-15  2021-04-15  2021-05-15  \\\n",
       "name                                                                        \n",
       "Yearn Finance    0.285370    0.257866    0.252925    0.258002    0.273330   \n",
       "1Inch            0.026630    0.038659    0.043030    0.045180    0.047548   \n",
       "Uniswap          0.112110    0.105388    0.102419    0.098849    0.095096   \n",
       "Lido             0.013151    0.016348    0.026076    0.038154    0.049883   \n",
       "Sushi            0.134685    0.130269    0.131668    0.118560    0.129846   \n",
       "Aave             0.225315    0.249126    0.248364    0.229508    0.216254   \n",
       "Maker            0.211945    0.206765    0.199782    0.200234    0.189818   \n",
       "Balancer         0.074082    0.087703    0.088439    0.089676    0.085567   \n",
       "Compound         0.058301    0.061382    0.058993    0.066452    0.064736   \n",
       "Curve            0.054356    0.054287    0.056613    0.062646    0.068379   \n",
       "Instadapp             NaN         NaN         NaN    0.000098    0.000093   \n",
       "Convex                NaN         NaN         NaN         NaN         NaN   \n",
       "Dydx                  NaN         NaN         NaN         NaN         NaN   \n",
       "Aura Finance          NaN         NaN         NaN         NaN         NaN   \n",
       "\n",
       "               2021-06-15  2021-07-15  2021-08-15  2021-09-15  2021-10-15  \\\n",
       "name                                                                        \n",
       "Yearn Finance    0.279093    0.272209    0.258842    0.224643    0.222763   \n",
       "1Inch            0.041443    0.039968    0.044373    0.039129    0.039742   \n",
       "Uniswap          0.097780    0.094712    0.088746    0.077633    0.079005   \n",
       "Lido             0.054394    0.055635    0.055949    0.057791    0.057695   \n",
       "Sushi            0.118409    0.116877    0.126527    0.122589    0.116075   \n",
       "Aave             0.194172    0.194588    0.181190    0.164909    0.163286   \n",
       "Maker            0.186772    0.185686    0.164148    0.142570    0.140606   \n",
       "Balancer         0.077521    0.072370    0.069936    0.062647    0.061738   \n",
       "Compound         0.064847    0.068008    0.066077    0.061052    0.063177   \n",
       "Curve            0.067530    0.067207    0.072749    0.067226    0.066260   \n",
       "Instadapp        0.004533    0.022788    0.028939    0.030457    0.039126   \n",
       "Convex           0.026364    0.028485    0.056270    0.080755    0.084487   \n",
       "Dydx                  NaN    0.000089    0.000482    0.077217    0.071810   \n",
       "Aura Finance          NaN         NaN         NaN         NaN         NaN   \n",
       "\n",
       "               2021-11-15  2021-12-15  2022-01-15  2022-02-15  2022-03-15  \\\n",
       "name                                                                        \n",
       "Yearn Finance    0.215841    0.216861    0.236558    0.233174    0.232870   \n",
       "1Inch            0.040698    0.050663    0.056567    0.059214    0.063316   \n",
       "Uniswap          0.076285    0.081490    0.083870    0.086222    0.087344   \n",
       "Lido             0.061214    0.059710    0.064548    0.069757    0.068663   \n",
       "Sushi            0.116120    0.115534    0.115304    0.111352    0.110588   \n",
       "Aave             0.170031    0.168342    0.166060    0.163850    0.159501   \n",
       "Maker            0.134245    0.133829    0.139037    0.141537    0.138752   \n",
       "Balancer         0.061745    0.063195    0.064758    0.065713    0.067023   \n",
       "Compound         0.063405    0.064804    0.066088    0.068819    0.070802   \n",
       "Curve            0.067654    0.072242    0.072459    0.073151    0.072513   \n",
       "Instadapp        0.039769    0.038065    0.040745    0.046216    0.044920   \n",
       "Convex           0.088567    0.078073    0.072039    0.065641    0.071230   \n",
       "Dydx             0.070177    0.067886    0.047466    0.043761    0.040214   \n",
       "Aura Finance          NaN         NaN         NaN         NaN         NaN   \n",
       "\n",
       "               2022-04-15  2022-05-15  2022-06-15  \n",
       "name                                               \n",
       "Yearn Finance    0.230240    0.228475    0.227263  \n",
       "1Inch            0.065145    0.065440    0.066390  \n",
       "Uniswap          0.086411    0.087229    0.085913  \n",
       "Lido             0.075211    0.076229    0.074893  \n",
       "Sushi            0.112426    0.114660    0.114414  \n",
       "Aave             0.161480    0.160355    0.161146  \n",
       "Maker            0.140143    0.140329    0.138018  \n",
       "Balancer         0.071170    0.067837    0.067070  \n",
       "Compound         0.072872    0.075947    0.076321  \n",
       "Curve            0.070958    0.073408    0.073396  \n",
       "Instadapp        0.045793    0.045483    0.041562  \n",
       "Convex           0.058056    0.057894    0.060404  \n",
       "Dydx             0.041398    0.040688    0.040065  \n",
       "Aura Finance          NaN         NaN    0.012788  "
      ]
     },
     "execution_count": 25,
     "metadata": {},
     "output_type": "execute_result"
    }
   ],
   "source": [
    "df_token_fractional_ownership"
   ]
  },
  {
   "cell_type": "code",
   "execution_count": 26,
   "metadata": {},
   "outputs": [
    {
     "data": {
      "image/png": "[encoded data removed]",
      "text/plain": [
       "<Figure size 720x432 with 1 Axes>"
      ]
     },
     "metadata": {
      "needs_background": "light"
     },
     "output_type": "display_data"
    }
   ],
   "source": [
    "import pandas as pd\n",
    "import matplotlib.pyplot as plt\n",
    "\n",
    "# Plot the DataFrame using line plot\n",
    "ax = df_token_fractional_ownership.T.plot(kind='line', figsize=(10, 6))\n",
    "\n",
    "# Set plot labels and title\n",
    "plt.xlabel('Time Points')\n",
    "plt.ylabel('Fraction of Wallets')\n",
    "plt.title('Fraction of Wallets Holding a Given Token of all Possible Wallets Over Time')\n",
    "\n",
    "# Show legend\n",
    "plt.legend(title='Token Address', bbox_to_anchor=(1.05, 1), loc='upper left')\n",
    "\n",
    "# Show the plot\n",
    "plt.show()\n"
   ]
  },
  {
   "cell_type": "markdown",
   "metadata": {},
   "source": [
    "## Experiment 1: Between Tokens by Tokenholders "
   ]
  },
  {
   "cell_type": "code",
   "execution_count": null,
   "metadata": {},
   "outputs": [],
   "source": [
    "from scipy.stats import hypergeom \n",
    "# hypergeom.cdf(x,M,n,N,loc=0)\t\n",
    "\n",
    "import pandas as pd\n",
    "def main(address1, address2, pop_size):\n",
    "\n",
    "    # get unique addresses \n",
    "    token1_uniqa = ddf[ddf.token_address == address1].address.unique()\n",
    "    token2_uniqa = ddf[ddf.token_address == address2].address.unique()\n",
    "\n",
    "    # calcluate intersection \n",
    "    token1_token2_uniqa_intersection = np.intersect1d(token1_uniqa,token2_uniqa, assume_unique=True)\n",
    "\n",
    "    # calcualte number \n",
    "    len_token1 = len(token1_uniqa)\n",
    "    len_token2 = len(token2_uniqa)\n",
    "    len_intersection = len(token1_token2_uniqa_intersection)\n",
    "\n",
    "    # calculate hyptoge\n",
    "\n",
    "    # Define the parameters of the distribution\n",
    "    M = pop_size  # population size\n",
    "    n = len_token1  # number of draws\n",
    "    K = len_token2  # number of successes in population\n",
    "    x = len_intersection    # number of successes in draws\n",
    "\n",
    "    # Compute the cumulative probability of obtaining at most x successes\n",
    "    pvalue = 1 - hypergeom.cdf(x, M, n, K)\n",
    "    \n",
    "    # print(f'token_address {address1} has {len_token1} Unique Addresses | token_address {address2} has {len_token2} Unique Addresses | Intersection: {len_intersection}, p value: {pvalue}')\n",
    "\n",
    "    return pvalue"
   ]
  },
  {
   "cell_type": "code",
   "execution_count": 35,
   "metadata": {},
   "outputs": [
    {
     "name": "stdout",
     "output_type": "stream",
     "text": [
      "token_address 0x111111111117dc0aa78b770fa6a738034120c302 has 89015 Unique Addresses | token_address 0x0bc529c00c6401aef6d220be8c6ea1667f6ad93e has 48927 Unique Addresses | Intersection: 5071, p value: 4.2270811950739784e-07\n"
     ]
    },
    {
     "data": {
      "text/plain": [
       "4.2270811950739784e-07"
      ]
     },
     "execution_count": 35,
     "metadata": {},
     "output_type": "execute_result"
    }
   ],
   "source": [
    "# # Demo\n",
    "# # test tokens \n",
    "# test_token1 = '0x111111111117dc0aa78b770fa6a738034120c302'\n",
    "# test_token2 = '0x0bc529c00c6401aef6d220be8c6ea1667f6ad93e'\n",
    "\n",
    "# # calc pop_size\n",
    "# pop_size = len(ddf.address.unique()) \n",
    "\n",
    "# # main\n",
    "# main(test_token1,test_token2, pop_size)"
   ]
  },
  {
   "cell_type": "code",
   "execution_count": 8,
   "metadata": {
    "tags": []
   },
   "outputs": [],
   "source": [
    "pop_size = len(ddf.address.unique()) \n",
    "p_dict = {}\n",
    "\n",
    "for combination in itertools.combinations(df_addresses.address, 2): \n",
    "\n",
    "    pvalue = main(combination[0],combination[1], pop_size)\n",
    "\n",
    "    p_dict[combination] = pvalue"
   ]
  },
  {
   "cell_type": "markdown",
   "metadata": {
    "tags": []
   },
   "source": [
    "## Experiment 2: Between Tokens by Token Balance "
   ]
  },
  {
   "cell_type": "code",
   "execution_count": 156,
   "metadata": {},
   "outputs": [
    {
     "data": {
      "text/plain": [
       "'ckey_205246b0f1bb476c8a40542f755'"
      ]
     },
     "execution_count": 156,
     "metadata": {},
     "output_type": "execute_result"
    }
   ],
   "source": [
    "covalent_key"
   ]
  },
  {
   "cell_type": "code",
   "execution_count": 159,
   "metadata": {},
   "outputs": [],
   "source": [
    "# step 0: make a lookup table based on snapshot and tokens present in the data set (save API calls) \n",
    "# step 1: assign usd value to each row with a given token contract into a new column called \"historicial_price\" \n",
    "# step 2: Adjust value to of each token by relevant number of decimals \n",
    "# step 3: Multiple token balance by \"historical price\"\n",
    "# step 4: create tokenweight sum \n",
    "\n",
    "\n",
    "import requests\n",
    "\n",
    "def convert_blockheight_to_date(snapshot, covalent_key): \n",
    "    \n",
    "    \"\"\"Takes block_height and returns date.\n",
    "\n",
    "    Args:\n",
    "        snapshot (str): block height\n",
    "\n",
    "    Returns:\n",
    "        str: date of format YYYY-MM-DD\n",
    "\n",
    "    Raises:\n",
    "        None\n",
    "    \"\"\"\n",
    "    \n",
    "    url = f\"https://api.covalenthq.com/v1/eth-mainnet/block_v2/{snapshot}/?key={covalent_key}\"\n",
    "\n",
    "    response = requests.get(url)\n",
    "    \n",
    "    date = response.json()['data']['items'][0]['signed_at']\n",
    "    \n",
    "    date_YMD = date.split('T')[0]\n",
    "    \n",
    "    return date_YMD\n",
    "\n",
    "\n",
    "def usd_value_decimals_token(snapshot, contractAddress, covalent_key, chainName = 'eth-mainnet', quoteCurrency = 'USD'): \n",
    "    \n",
    "    \"\"\"Takes blockheight and contract address of token and\n",
    "    returns contract_decimals and value in usd.\n",
    "\n",
    "    Args:\n",
    "        snapshot (str): block height.\n",
    "        contractAddress (str): token contract address\n",
    "\n",
    "    Returns:\n",
    "        dict with keys and value pairs: \n",
    "        'contract_address': contractAddress (str)\n",
    "        'token_price_usd': price_usd_per_token (int)\n",
    "        'contract_decimals': decimals (int)\n",
    "\n",
    "    Raises:\n",
    "        None\n",
    "    \"\"\"\n",
    "    \n",
    "    date = convert_blockheight_to_date(snapshot, covalent_key)\n",
    "    \n",
    "    \n",
    "    url = f\"https://api.covalenthq.com/v1/pricing/historical_by_addresses_v2/{chainName}/{quoteCurrency}/{contractAddress}/?key={covalent_key}\"\n",
    "    \n",
    "    params = {\n",
    "    \"from\": date, # (YYYY-MM-DD)\n",
    "    \"to\": date # (YYYY-MM-DD)\n",
    "    }\n",
    "\n",
    "    response = requests.get(url, params=params)\n",
    "    \n",
    "    # token price \n",
    "    price_usd_per_token = response.json()['data'][0]['prices'][0]['price']\n",
    "    \n",
    "    # decimals\n",
    "    decimals = response.json()['data'][0]['contract_decimals']\n",
    "    \n",
    "    return {'contract_address': contractAddress, 'token_price_usd': price_usd_per_token, 'contract_decimals': decimals}\n",
    "    \n",
    "    "
   ]
  },
  {
   "cell_type": "code",
   "execution_count": 164,
   "metadata": {},
   "outputs": [
    {
     "data": {
      "text/plain": [
       "{'contract_address': '0x111111111117dc0aa78b770fa6a738034120c302',\n",
       " 'token_price_usd': 1.3449827,\n",
       " 'contract_decimals': 18}"
      ]
     },
     "execution_count": 164,
     "metadata": {},
     "output_type": "execute_result"
    }
   ],
   "source": [
    "# convert_blockheight_to_date(snapshot, covalent_key)\n",
    "usd_value_decimals_token(snapshot,'0x111111111117dc0aa78b770fa6a738034120c302', covalent_key, chainName = 'eth-mainnet', quoteCurrency = 'USD')"
   ]
  },
  {
   "cell_type": "code",
   "execution_count": 179,
   "metadata": {},
   "outputs": [],
   "source": [
    "# modify df - save most likely \n",
    "\n",
    "snapshot = '11659570'\n",
    "\n",
    "ddf['contract_decimals'] = int\n",
    "ddf['token_price_usd'] = float\n",
    "\n",
    "data = []\n",
    "\n",
    "for contract_address in ddf.token_address.unique(): \n",
    "    \n",
    "    response = usd_value_decimals_token(snapshot, contract_address, covalent_key)\n",
    "    \n",
    "    ddf.loc[ddf.token_address == contract_address, 'contract_decimals'] = response['contract_decimals']\n",
    "    ddf.loc[ddf.token_address == contract_address, 'token_price_usd'] = response['token_price_usd']\n",
    "\n",
    "\n",
    "ddf['address_value_usd'] = (ddf['value']/(10**ddf['contract_decimals']))*ddf['token_price_usd']\n",
    "ddf['address_value_usd'] = ddf['address_value_usd'].astype(float)"
   ]
  },
  {
   "cell_type": "code",
   "execution_count": 13,
   "metadata": {},
   "outputs": [
    {
     "name": "stdout",
     "output_type": "stream",
     "text": [
      "token_address 0x111111111117dc0aa78b770fa6a738034120c302 has 89015 Unique Addresses | token_address 0x0bc529c00c6401aef6d220be8c6ea1667f6ad93e has 48927 Unique Addresses | Intersection: 5071, p value: 4.2270811950739784e-07\n"
     ]
    },
    {
     "data": {
      "text/plain": [
       "4.2270811950739784e-07"
      ]
     },
     "execution_count": 13,
     "metadata": {},
     "output_type": "execute_result"
    }
   ],
   "source": [
    "# Demo\n",
    "# test tokens \n",
    "test_token1 = '0x111111111117dc0aa78b770fa6a738034120c302'\n",
    "test_token2 = '0x0bc529c00c6401aef6d220be8c6ea1667f6ad93e'\n",
    "\n",
    "# calc pop_size\n",
    "pop_size = len(ddf.address.unique()) \n",
    "\n",
    "# main\n",
    "main(test_token1,test_token2, pop_size)"
   ]
  },
  {
   "cell_type": "markdown",
   "metadata": {
    "tags": []
   },
   "source": [
    "### Evaluate p values \n",
    "\n"
   ]
  },
  {
   "cell_type": "code",
   "execution_count": 14,
   "metadata": {},
   "outputs": [],
   "source": [
    "df_pvalues = pd.DataFrame.from_dict(p_dict, orient='index')\n",
    "\n",
    "df_pvalues.reset_index(inplace=True)\n",
    "\n",
    "df_pvalues.columns =  ['combination', 'p_value']\n",
    "\n"
   ]
  },
  {
   "cell_type": "code",
   "execution_count": 15,
   "metadata": {},
   "outputs": [],
   "source": [
    "from statsmodels.stats.multitest import multipletests as m_tests\n",
    "# Ref.: https://www.statsmodels.org/devel/generated/statsmodels.stats.multitest.multipletests.html#statsmodels.stats.multitest.multipletests\n",
    "m_test = m_tests(pvals=df_pvalues.p_value, alpha=0.01, method='bonferroni')\n"
   ]
  },
  {
   "cell_type": "code",
   "execution_count": 16,
   "metadata": {},
   "outputs": [],
   "source": [
    "df_pvalues['m_test_result'] = m_test[0]\n",
    "df_pvalues['m_test_value'] = m_test[1]\n",
    "df_pvalues.to_csv('pvalues_snapshot_14967365.csv')"
   ]
  },
  {
   "cell_type": "markdown",
   "metadata": {},
   "source": [
    "## Experiment 3: Between Wallets"
   ]
  },
  {
   "cell_type": "code",
   "execution_count": 24,
   "metadata": {},
   "outputs": [],
   "source": [
    "ddf1 = ddf[ddf.pct_supply > 0.00005]"
   ]
  },
  {
   "cell_type": "code",
   "execution_count": 23,
   "metadata": {},
   "outputs": [
    {
     "data": {
      "text/plain": [
       "token_address\n",
       "0x0bc529c00c6401aef6d220be8c6ea1667f6ad93e    0.933784\n",
       "0x111111111117dc0aa78b770fa6a738034120c302    0.975327\n",
       "0x1a4b46696b2bb4794eb3d4c26f1c55f9170fa4c5    0.994668\n",
       "0x1f9840a85d5af5bf1d1762f925bdaddc4201f984    0.958888\n",
       "0x4e3fbd56cd56c3e72c1403e103b45db9da5b9d2b    0.980964\n",
       "0x5a98fcbea516cf06857215779fd812ca3bef1b32    0.977033\n",
       "0x6b3595068778dd592e39a122f4f5a5cf09c90fe2     0.95737\n",
       "0x6f40d4a6237c257fff2db00fa0510deeecd303eb    0.987988\n",
       "0x7fc66500c84a76ad7e9c93437bfc5ac33e2ddae9    0.933692\n",
       "0x92d6c1e31e14520e676a687f0a93788b716beff5    0.986038\n",
       "0x9f8f72aa9304c8b593d555f12ef6589cc3a579a2    0.951662\n",
       "0xba100000625a3754423978a60c9317c58a424e3d    0.979069\n",
       "0xc00e94cb662c3520282e6f5717214004a7f26888    0.971168\n",
       "0xc0c293ce456ff0ed870add98a0828dd4d2903dbf    0.996093\n",
       "0xd533a949740bb3306d119cc777fa900ba034cd52    0.968928\n",
       "Name: pct_supply, dtype: object"
      ]
     },
     "execution_count": 23,
     "metadata": {},
     "output_type": "execute_result"
    }
   ],
   "source": [
    "ddf1.groupby('token_address').pct_supply.sum()"
   ]
  },
  {
   "cell_type": "code",
   "execution_count": 119,
   "metadata": {},
   "outputs": [],
   "source": [
    "# Define a function to compute the p-values for a batch of wallet addresses\n",
    "def calculate_pvalues(batch_indicies):\n",
    "    # Compute the product of the pivot sparse matrix and its transpose for the batch\n",
    "    batch_sparse = pivot_sparse[batch_indicies[0]:batch_indicies[1],:]\n",
    "    product_sparse = batch_sparse.dot(pivot_sparse.T)\n",
    "\n",
    "    # Compute the p-value matrix for the batch\n",
    "    x = product_sparse.A  #the number of \"successes\" in your sample (i.e. the number of addresses in group 2 that hold a given token)\n",
    "    M = product_sparse.sum() # the population size (i.e. the total number of addresses in your dataset)\n",
    "    n = product_sparse.diagonal() # the number of \"successes\" in the population (i.e. the number of addresses that hold a given token)\n",
    "    K = product_sparse.sum(axis=0).A.flatten() # the sample size (i.e. the number of addresses in group 1)\n",
    "\n",
    "    # Reshape n based on the batch size\n",
    "    n_shape = (batch_indicies[1] - batch_indicies[0], 1)\n",
    "    n = n.reshape(n_shape)\n",
    "\n",
    "    pvalue_matrix = 1 - hypergeom.cdf(x, M, n, K)\n",
    "\n",
    "    return pvalue_matrix"
   ]
  },
  {
   "cell_type": "code",
   "execution_count": 129,
   "metadata": {},
   "outputs": [],
   "source": [
    "import numpy as np\n",
    "import pandas as pd\n",
    "from scipy.stats import hypergeom\n",
    "from scipy.sparse import csr_matrix\n",
    "from multiprocessing import Pool, cpu_count\n",
    "\n",
    "# Define the batch size and number of workers\n",
    "batch_size = 1024  # ensure batch size is large enough as otherwise the hypergeom will might be wrongly aprrox.\n",
    "num_workers = 96 #use 80% of cpus to avoid crashing server\n",
    "\n",
    "# Group the data by token_address and count the number of addresses holding each token\n",
    "token_address_counts = ddf.groupby('token_address')['address'].nunique()\n",
    "\n",
    "# Convert the DataFrame to a sparse matrix\n",
    "pivot_sparse = csr_matrix(pd.crosstab(ddf['address'], ddf['token_address']).values)\n",
    "\n",
    "\n",
    "# Define a function to compute the p-values for a batch of wallet addresses\n",
    "def calculate_pvalues(batch_indicies):\n",
    "    # Compute the product of the pivot sparse matrix and its transpose for the batch\n",
    "    batch_sparse = pivot_sparse[batch_indicies[0]:batch_indicies[1],:]\n",
    "    product_sparse = batch_sparse.dot(pivot_sparse.T)\n",
    "\n",
    "    # Compute the p-value matrix for the batch\n",
    "    x = product_sparse.A  #the number of \"successes\" in your sample (i.e. the number of addresses in group 2 that hold a given token)\n",
    "    M = product_sparse.sum() # the population size (i.e. the total number of addresses in your dataset)\n",
    "    n = product_sparse.diagonal() # the number of \"successes\" in the population (i.e. the number of addresses that hold a given token)\n",
    "    K = product_sparse.sum(axis=0).A.flatten() # the sample size (i.e. the number of addresses in group 1)\n",
    "\n",
    "    # Reshape n based on the batch size\n",
    "    n_shape = (batch_indicies[1] - batch_indicies[0], 1)\n",
    "    n = n.reshape(n_shape)\n",
    "\n",
    "    pvalue_matrix = 1 - hypergeom.cdf(x, M, n, K)\n",
    "\n",
    "    return pvalue_matrix\n",
    "    \n",
    "# Split the addresses into batches and process them in parallel\n",
    "pool = Pool(num_workers)\n",
    "pvalue_matrices = []\n",
    "\n",
    "#  batch size, with an adjustment for an even number of rows.\n",
    "# ind_range = pivot_sparse.shape[0] + batch_size if pivot_sparse.shape[0] % 2 != 0 else pivot_sparse.shape[0]\n",
    "\n",
    "\n",
    "for i in range(0, pivot_sparse.shape[0], batch_size):\n",
    "    batch_indices = tuple((i, min(i+batch_size, pivot_sparse.shape[0])))\n",
    "    calculate_pvalues(batch_indices)\n",
    "    results = pool.apply_async(calculate_pvalues, args=(batch_indices,))\n",
    "    pvalue_matrices.append(results.get())\n",
    "    \n",
    "pool.close()\n",
    "pool.join()\n",
    "\n",
    "# Get the p-value matrices for all batches and concatenate them\n",
    "pvalue_matrix2 = np.concatenate(pvalue_matrices)\n",
    "\n"
   ]
  },
  {
   "cell_type": "code",
   "execution_count": 122,
   "metadata": {},
   "outputs": [],
   "source": [
    "# Apply the Bonferroni correction\n",
    "alpha = 0.01\n",
    "num_tests = pvalue_matrix2.size\n",
    "threshold = alpha / num_tests\n",
    "bonferroni_matrix2 = np.where(pvalue_matrix2 < threshold, 1, 0)\n"
   ]
  },
  {
   "cell_type": "code",
   "execution_count": 130,
   "metadata": {},
   "outputs": [
    {
     "name": "stdout",
     "output_type": "stream",
     "text": [
      "Number of differences: 5576512\n"
     ]
    }
   ],
   "source": [
    "num_differences = np.count_nonzero(bonferroni_matrix2 != bonferroni_matrix)\n",
    "print(f\"Number of differences: {num_differences}\")\n"
   ]
  },
  {
   "cell_type": "markdown",
   "metadata": {},
   "source": [
    "### Individual link"
   ]
  },
  {
   "cell_type": "code",
   "execution_count": 178,
   "metadata": {},
   "outputs": [],
   "source": [
    "from scipy.stats import hypergeom \n",
    "import pandas as pd\n",
    "\n",
    "\n",
    "def main_wallets(wallet1, wallet2, pop_size, df):\n",
    "\n",
    "    # unique token a given address holds\n",
    "    wallet1_uniqT = df[df.address == wallet1].token_address.unique()\n",
    "    wallet2_uniqT = df[df.address == wallet2].token_address.unique()\n",
    "\n",
    "    # calcualte intersection in token holdings (binary)\n",
    "    wallet1_wallet2_uniqT_intersection = np.intersect1d(wallet1_uniqT,wallet2_uniqT, assume_unique=True)\n",
    "\n",
    "    # calculate hyptogeometric\n",
    "    # Define the parameters of the distribution\n",
    "    M = pop_size  # number of token at a given snapshot    \n",
    "    n = len(wallet1_uniqT)  # number of draws - number of token wallets1\n",
    "    K = len(wallet2_uniqT)  # number of successes in population - number of token wallets2\n",
    "    x = len(wallet1_wallet2_uniqT_intersection) # number of successes in draws - intersection of tokens in wallet1 and wallet2\n",
    "\n",
    "    # Compute the cumulative probability of obtaining at most x successes\n",
    "    pvalue = 1 - hypergeom.cdf(x, M, n, K)\n",
    "    \n",
    "    # print(f'token_address {address1} has {len_token1} Unique Addresses | token_address {address2} has {len_token2} Unique Addresses | Intersection: {len_intersection}, p value: {pvalue}')\n",
    "\n",
    "    return wallet1, wallet2, pvalue"
   ]
  },
  {
   "cell_type": "code",
   "execution_count": 174,
   "metadata": {},
   "outputs": [
    {
     "data": {
      "text/plain": [
       "0.0"
      ]
     },
     "execution_count": 174,
     "metadata": {},
     "output_type": "execute_result"
    }
   ],
   "source": [
    "# test_pvalues\n",
    "wallet1 = '0x0000000000000eb4ec62758aae93400b3e5f7f18'\n",
    "wallet2 = '0x000000000000006f6502b7f2bbac8c30a3f67e9a'\n",
    "pop_size = len(ddf_test.token_address.unique())\n",
    "\n",
    "# \n",
    "main_wallets(wallet1, wallet2, pop_size, ddf_test)\n"
   ]
  },
  {
   "cell_type": "code",
   "execution_count": 261,
   "metadata": {},
   "outputs": [],
   "source": [
    "from itertools import combinations, islice\n",
    "from concurrent.futures import ProcessPoolExecutor\n",
    "import pickle\n",
    "\n",
    "# Define the function that will process a batch of combinations\n",
    "def process_batch(batch):\n",
    "    results = []\n",
    "    for combination in batch:\n",
    "        # Call your function here to process the combination\n",
    "        result = main_wallets(combination[0], combination[1], pop_size, ddf_test)\n",
    "        results.append(result)\n",
    "    return results\n",
    "\n",
    "# Define the size of the batches\n",
    "batch_size = 10\n",
    "\n",
    "# Generate all possible combinations\n",
    "combinations_generator = combinations(ddf_test.address.unique(), 2) # generator expression to save memory\n",
    "\n",
    "# calculate the number of combinations\n",
    "num_combinations = math.comb(len(ddf_test.address.unique()), 2)\n",
    "\n",
    "\n",
    "# Divide the combinations into batches\n",
    "batches = [list(islice(combinations_generator, batch_size)) for i in range(0, num_combinations, batch_size)]\n",
    "\n",
    "# Open the output file for writing\n",
    "with open(\"bipartite_complex_systems_wallet_network_projection/p_values.pkl\", \"wb\") as outfile:\n",
    "    \n",
    "    # Create a ProcessPoolExecutor with the desired number of processes\n",
    "    with ProcessPoolExecutor(max_workers=16) as executor:\n",
    "        results = []\n",
    "        # Process each batch in parallel\n",
    "        for batch in batches:\n",
    "            batch_result = executor.submit(process_batch, batch)\n",
    "            results.append(batch_result)\n",
    "\n",
    "        # Wait for all results to be returned\n",
    "        for future in results:\n",
    "            batch_result = future.result()\n",
    "            # Write the batch result to the pickle file\n",
    "            pickle.dump(batch_result, outfile)"
   ]
  },
  {
   "cell_type": "code",
   "execution_count": 356,
   "metadata": {},
   "outputs": [
    {
     "data": {
      "text/plain": [
       "19701"
      ]
     },
     "execution_count": 356,
     "metadata": {},
     "output_type": "execute_result"
    }
   ],
   "source": [
    "num_combinations"
   ]
  },
  {
   "cell_type": "code",
   "execution_count": 265,
   "metadata": {},
   "outputs": [],
   "source": [
    "# Read the results back from the pickle file\n",
    "pk_result = []\n",
    "\n",
    "with open(\"bipartite_complex_systems_wallet_network_projection/p_values.pkl\", \"rb\") as infile:\n",
    "    while True:\n",
    "        try:\n",
    "            result = pickle.load(infile)\n",
    "            # Do something with the result\n",
    "            pk_result.append(result)\n",
    "        except EOFError:\n",
    "            break"
   ]
  },
  {
   "cell_type": "code",
   "execution_count": 271,
   "metadata": {},
   "outputs": [],
   "source": [
    "df_pval = pd.DataFrame(np.concatenate(pk_result), columns=['address_1', 'address_2', 'p_value'])\n"
   ]
  },
  {
   "cell_type": "code",
   "execution_count": 357,
   "metadata": {},
   "outputs": [
    {
     "data": {
      "text/plain": [
       "19701"
      ]
     },
     "execution_count": 357,
     "metadata": {},
     "output_type": "execute_result"
    }
   ],
   "source": [
    "len(df_pval)"
   ]
  },
  {
   "cell_type": "code",
   "execution_count": 280,
   "metadata": {},
   "outputs": [],
   "source": [
    "# reconstruct pvalue_matrix1 \n",
    "rows = list(pd.crosstab(ddf_test['address'], ddf_test['token_address']).index)\n",
    "columns = list(pd.crosstab(ddf_test['address'], ddf_test['token_address']).columns)"
   ]
  },
  {
   "cell_type": "code",
   "execution_count": 124,
   "metadata": {},
   "outputs": [],
   "source": [
    "pvalue_matrix2 = np.zeros((pivot_sparse.shape[0], pivot_sparse.shape[0]))\n",
    "\n",
    "for ind_r, row in enumerate(rows):\n",
    "        \n",
    "    for ind_c, col in enumerate(rows):\n",
    "        \n",
    "        if row == col: \n",
    "            \n",
    "             p_value = [0.0]\n",
    "        \n",
    "        else: \n",
    "            p_value = df_pval[(df_pval.address_1 == row) & (df_pval.address_2 == col)].p_value.values\n",
    "                    \n",
    "        print(p_value[0])\n",
    "        pvalue_matrix2[ind_r, ind_c] = float(p_value[0])\n"
   ]
  },
  {
   "cell_type": "code",
   "execution_count": 345,
   "metadata": {},
   "outputs": [
    {
     "data": {
      "text/plain": [
       "numpy.float64"
      ]
     },
     "execution_count": 345,
     "metadata": {},
     "output_type": "execute_result"
    }
   ],
   "source": [
    "type(pvalue_matrix1[0,0])"
   ]
  },
  {
   "cell_type": "code",
   "execution_count": 317,
   "metadata": {},
   "outputs": [
    {
     "name": "stdout",
     "output_type": "stream",
     "text": [
      "0x000be27f560fef0253cac4da8411611184356549\n"
     ]
    }
   ],
   "source": [
    "for i in df_pval.address_1:\n",
    "    \n",
    "    print (i) \n",
    "    \n",
    "    break "
   ]
  },
  {
   "cell_type": "code",
   "execution_count": 306,
   "metadata": {},
   "outputs": [
    {
     "data": {
      "text/plain": [
       "'0xd533a949740bb3306d119cc777fa900ba034cd52'"
      ]
     },
     "execution_count": 306,
     "metadata": {},
     "output_type": "execute_result"
    }
   ],
   "source": [
    "df_pval#[df_pval.address_1.isin([col]) ==True]\n",
    "df_pval.address_1[0]"
   ]
  },
  {
   "cell_type": "code",
   "execution_count": 258,
   "metadata": {},
   "outputs": [
    {
     "data": {
      "text/plain": [
       "19701"
      ]
     },
     "execution_count": 258,
     "metadata": {},
     "output_type": "execute_result"
    }
   ],
   "source": [
    "cb = combinations(ddf_test.address.unique(), 2)\n",
    "num_combinations"
   ]
  },
  {
   "cell_type": "code",
   "execution_count": null,
   "metadata": {},
   "outputs": [],
   "source": [
    "for i in batches: \n",
    "    \n",
    "    for k in enumerate(i): \n",
    "        \n",
    "        print(k)"
   ]
  },
  {
   "cell_type": "code",
   "execution_count": 209,
   "metadata": {},
   "outputs": [
    {
     "ename": "AttributeError",
     "evalue": "'Series' object has no attribute 'indices'",
     "output_type": "error",
     "traceback": [
      "\u001b[0;31m---------------------------------------------------------------------------\u001b[0m",
      "\u001b[0;31mAttributeError\u001b[0m                            Traceback (most recent call last)",
      "Input \u001b[0;32mIn [209]\u001b[0m, in \u001b[0;36m<cell line: 6>\u001b[0;34m()\u001b[0m\n\u001b[1;32m      9\u001b[0m col_idx \u001b[38;5;241m=\u001b[39m ddf_test\u001b[38;5;241m.\u001b[39maddress \u001b[38;5;241m==\u001b[39m pair[\u001b[38;5;241m1\u001b[39m]\n\u001b[1;32m     11\u001b[0m \u001b[38;5;66;03m# Extract the p-value from pvalue_matrix2\u001b[39;00m\n\u001b[0;32m---> 12\u001b[0m pvalue \u001b[38;5;241m=\u001b[39m pvalue_matrix1[\u001b[43mrow_idx\u001b[49m\u001b[38;5;241;43m.\u001b[39;49m\u001b[43mindices\u001b[49m[\u001b[38;5;241m0\u001b[39m], col_idx\u001b[38;5;241m.\u001b[39mindices[\u001b[38;5;241m0\u001b[39m]]\n\u001b[1;32m     14\u001b[0m \u001b[38;5;66;03m# Append the p-value to the list\u001b[39;00m\n\u001b[1;32m     15\u001b[0m pvalues\u001b[38;5;241m.\u001b[39mappend(pvalue)\n",
      "File \u001b[0;32m~/.local/lib/python3.9/site-packages/pandas/core/generic.py:5902\u001b[0m, in \u001b[0;36mNDFrame.__getattr__\u001b[0;34m(self, name)\u001b[0m\n\u001b[1;32m   5895\u001b[0m \u001b[38;5;28;01mif\u001b[39;00m (\n\u001b[1;32m   5896\u001b[0m     name \u001b[38;5;129;01mnot\u001b[39;00m \u001b[38;5;129;01min\u001b[39;00m \u001b[38;5;28mself\u001b[39m\u001b[38;5;241m.\u001b[39m_internal_names_set\n\u001b[1;32m   5897\u001b[0m     \u001b[38;5;129;01mand\u001b[39;00m name \u001b[38;5;129;01mnot\u001b[39;00m \u001b[38;5;129;01min\u001b[39;00m \u001b[38;5;28mself\u001b[39m\u001b[38;5;241m.\u001b[39m_metadata\n\u001b[1;32m   5898\u001b[0m     \u001b[38;5;129;01mand\u001b[39;00m name \u001b[38;5;129;01mnot\u001b[39;00m \u001b[38;5;129;01min\u001b[39;00m \u001b[38;5;28mself\u001b[39m\u001b[38;5;241m.\u001b[39m_accessors\n\u001b[1;32m   5899\u001b[0m     \u001b[38;5;129;01mand\u001b[39;00m \u001b[38;5;28mself\u001b[39m\u001b[38;5;241m.\u001b[39m_info_axis\u001b[38;5;241m.\u001b[39m_can_hold_identifiers_and_holds_name(name)\n\u001b[1;32m   5900\u001b[0m ):\n\u001b[1;32m   5901\u001b[0m     \u001b[38;5;28;01mreturn\u001b[39;00m \u001b[38;5;28mself\u001b[39m[name]\n\u001b[0;32m-> 5902\u001b[0m \u001b[38;5;28;01mreturn\u001b[39;00m \u001b[38;5;28;43mobject\u001b[39;49m\u001b[38;5;241;43m.\u001b[39;49m\u001b[38;5;21;43m__getattribute__\u001b[39;49m\u001b[43m(\u001b[49m\u001b[38;5;28;43mself\u001b[39;49m\u001b[43m,\u001b[49m\u001b[43m \u001b[49m\u001b[43mname\u001b[49m\u001b[43m)\u001b[49m\n",
      "\u001b[0;31mAttributeError\u001b[0m: 'Series' object has no attribute 'indices'"
     ]
    }
   ],
   "source": [
    "# Generate all possible combinations of addresses in ddf_test\n",
    "combinations_generator = combinations(ddf_test.address.unique(), 2)\n",
    "\n",
    "# Loop over the combinations and extract the p-values\n",
    "pvalues = []\n",
    "for pair in combinations_generator:\n",
    "    # Get the row and column indices for the pair in pivot_sparse\n",
    "    row_idx = ddf_test.address == pair[0]\n",
    "    col_idx = ddf_test.address == pair[1]\n",
    "    \n",
    "    # Extract the p-value from pvalue_matrix2\n",
    "    pvalue = pvalue_matrix1[row_idx.indices[0], col_idx.indices[0]]\n",
    "    \n",
    "    # Append the p-value to the list\n",
    "    pvalues.append(pvalue)\n"
   ]
  },
  {
   "cell_type": "code",
   "execution_count": 1,
   "metadata": {},
   "outputs": [
    {
     "ename": "NameError",
     "evalue": "name 'ddf' is not defined",
     "output_type": "error",
     "traceback": [
      "\u001b[0;31m---------------------------------------------------------------------------\u001b[0m",
      "\u001b[0;31mNameError\u001b[0m                                 Traceback (most recent call last)",
      "Input \u001b[0;32mIn [1]\u001b[0m, in \u001b[0;36m<cell line: 2>\u001b[0;34m()\u001b[0m\n\u001b[1;32m      1\u001b[0m \u001b[38;5;28;01mimport\u001b[39;00m \u001b[38;5;21;01mmath\u001b[39;00m\n\u001b[0;32m----> 2\u001b[0m math\u001b[38;5;241m.\u001b[39mcomb(\u001b[43mddf\u001b[49m[ddf\u001b[38;5;241m.\u001b[39mpct_supply \u001b[38;5;241m>\u001b[39m \u001b[38;5;241m0.00001\u001b[39m]\u001b[38;5;241m.\u001b[39maddress\u001b[38;5;241m.\u001b[39mnunique(),\u001b[38;5;241m2\u001b[39m)\n",
      "\u001b[0;31mNameError\u001b[0m: name 'ddf' is not defined"
     ]
    }
   ],
   "source": [
    "import math\n",
    "math.comb(ddf[ddf.pct_supply > 0.00001].address.nunique(),2) #419501894406\n",
    "\n"
   ]
  },
  {
   "cell_type": "code",
   "execution_count": 185,
   "metadata": {},
   "outputs": [
    {
     "data": {
      "text/html": [
       "<div>\n",
       "<style scoped>\n",
       "    .dataframe tbody tr th:only-of-type {\n",
       "        vertical-align: middle;\n",
       "    }\n",
       "\n",
       "    .dataframe tbody tr th {\n",
       "        vertical-align: top;\n",
       "    }\n",
       "\n",
       "    .dataframe thead th {\n",
       "        text-align: right;\n",
       "    }\n",
       "</style>\n",
       "<table border=\"1\" class=\"dataframe\">\n",
       "  <thead>\n",
       "    <tr style=\"text-align: right;\">\n",
       "      <th></th>\n",
       "      <th>address1</th>\n",
       "      <th>address2</th>\n",
       "      <th>p-value</th>\n",
       "    </tr>\n",
       "  </thead>\n",
       "  <tbody>\n",
       "    <tr>\n",
       "      <th>0</th>\n",
       "      <td>0x000be27f560fef0253cac4da8411611184356549</td>\n",
       "      <td>0x02c2e03c5f241794909d953f5b8fa630856f172c</td>\n",
       "      <td>0.06666666666666643</td>\n",
       "    </tr>\n",
       "    <tr>\n",
       "      <th>1</th>\n",
       "      <td>0x000be27f560fef0253cac4da8411611184356549</td>\n",
       "      <td>0x0437ac6109e8a366a1f4816edf312a36952db856</td>\n",
       "      <td>0.06666666666666643</td>\n",
       "    </tr>\n",
       "    <tr>\n",
       "      <th>2</th>\n",
       "      <td>0x000be27f560fef0253cac4da8411611184356549</td>\n",
       "      <td>0x0626c02a34287b56b8fa5861516f58ca36faef33</td>\n",
       "      <td>0.06666666666666643</td>\n",
       "    </tr>\n",
       "    <tr>\n",
       "      <th>3</th>\n",
       "      <td>0x000be27f560fef0253cac4da8411611184356549</td>\n",
       "      <td>0x06601571aa9d3e8f5f7cdd5b993192618964bab5</td>\n",
       "      <td>0.06666666666666643</td>\n",
       "    </tr>\n",
       "    <tr>\n",
       "      <th>4</th>\n",
       "      <td>0x000be27f560fef0253cac4da8411611184356549</td>\n",
       "      <td>0x06a77eb094ef4e0ca19729770b6b115b57e188f8</td>\n",
       "      <td>0.06666666666666643</td>\n",
       "    </tr>\n",
       "    <tr>\n",
       "      <th>...</th>\n",
       "      <td>...</td>\n",
       "      <td>...</td>\n",
       "      <td>...</td>\n",
       "    </tr>\n",
       "    <tr>\n",
       "      <th>19696</th>\n",
       "      <td>0xfea88380baff95e85305419eb97247981b1a8eee</td>\n",
       "      <td>0xff052381092420b7f24cc97fded9c0c17b2cbbb9</td>\n",
       "      <td>0.06666666666666643</td>\n",
       "    </tr>\n",
       "    <tr>\n",
       "      <th>19697</th>\n",
       "      <td>0xfea88380baff95e85305419eb97247981b1a8eee</td>\n",
       "      <td>0xffc97d72e13e01096502cb8eb52dee56f74dad7b</td>\n",
       "      <td>0.06666666666666643</td>\n",
       "    </tr>\n",
       "    <tr>\n",
       "      <th>19698</th>\n",
       "      <td>0xfeb4acf3df3cdea7399794d0869ef76a6efaff52</td>\n",
       "      <td>0xff052381092420b7f24cc97fded9c0c17b2cbbb9</td>\n",
       "      <td>0.06666666666666643</td>\n",
       "    </tr>\n",
       "    <tr>\n",
       "      <th>19699</th>\n",
       "      <td>0xfeb4acf3df3cdea7399794d0869ef76a6efaff52</td>\n",
       "      <td>0xffc97d72e13e01096502cb8eb52dee56f74dad7b</td>\n",
       "      <td>0.06666666666666643</td>\n",
       "    </tr>\n",
       "    <tr>\n",
       "      <th>19700</th>\n",
       "      <td>0xff052381092420b7f24cc97fded9c0c17b2cbbb9</td>\n",
       "      <td>0xffc97d72e13e01096502cb8eb52dee56f74dad7b</td>\n",
       "      <td>0.06666666666666643</td>\n",
       "    </tr>\n",
       "  </tbody>\n",
       "</table>\n",
       "<p>19701 rows × 3 columns</p>\n",
       "</div>"
      ],
      "text/plain": [
       "                                         address1  \\\n",
       "0      0x000be27f560fef0253cac4da8411611184356549   \n",
       "1      0x000be27f560fef0253cac4da8411611184356549   \n",
       "2      0x000be27f560fef0253cac4da8411611184356549   \n",
       "3      0x000be27f560fef0253cac4da8411611184356549   \n",
       "4      0x000be27f560fef0253cac4da8411611184356549   \n",
       "...                                           ...   \n",
       "19696  0xfea88380baff95e85305419eb97247981b1a8eee   \n",
       "19697  0xfea88380baff95e85305419eb97247981b1a8eee   \n",
       "19698  0xfeb4acf3df3cdea7399794d0869ef76a6efaff52   \n",
       "19699  0xfeb4acf3df3cdea7399794d0869ef76a6efaff52   \n",
       "19700  0xff052381092420b7f24cc97fded9c0c17b2cbbb9   \n",
       "\n",
       "                                         address2              p-value  \n",
       "0      0x02c2e03c5f241794909d953f5b8fa630856f172c  0.06666666666666643  \n",
       "1      0x0437ac6109e8a366a1f4816edf312a36952db856  0.06666666666666643  \n",
       "2      0x0626c02a34287b56b8fa5861516f58ca36faef33  0.06666666666666643  \n",
       "3      0x06601571aa9d3e8f5f7cdd5b993192618964bab5  0.06666666666666643  \n",
       "4      0x06a77eb094ef4e0ca19729770b6b115b57e188f8  0.06666666666666643  \n",
       "...                                           ...                  ...  \n",
       "19696  0xff052381092420b7f24cc97fded9c0c17b2cbbb9  0.06666666666666643  \n",
       "19697  0xffc97d72e13e01096502cb8eb52dee56f74dad7b  0.06666666666666643  \n",
       "19698  0xff052381092420b7f24cc97fded9c0c17b2cbbb9  0.06666666666666643  \n",
       "19699  0xffc97d72e13e01096502cb8eb52dee56f74dad7b  0.06666666666666643  \n",
       "19700  0xffc97d72e13e01096502cb8eb52dee56f74dad7b  0.06666666666666643  \n",
       "\n",
       "[19701 rows x 3 columns]"
      ]
     },
     "execution_count": 185,
     "metadata": {},
     "output_type": "execute_result"
    }
   ],
   "source": [
    "pd.DataFrame(np.concatenate(result_list), columns = ['address1', 'address2', 'p-value'])"
   ]
  },
  {
   "cell_type": "code",
   "execution_count": 180,
   "metadata": {},
   "outputs": [
    {
     "name": "stderr",
     "output_type": "stream",
     "text": [
      "Overall Progress:   0%|          | 0/19701 [00:00<?, ?it/s]\n",
      "Job Submission:   0%|          | 0/19701 [00:00<?, ?it/s]\u001b[A\n",
      "\n",
      "Processing Jobs: 0it [00:00, ?it/s]\u001b[A\n",
      "Overall Progress:   0%|          | 0/19701 [00:00<?, ?it/s]\n"
     ]
    },
    {
     "ename": "ZeroDivisionError",
     "evalue": "float division by zero",
     "output_type": "error",
     "traceback": [
      "\u001b[0;31m---------------------------------------------------------------------------\u001b[0m",
      "\u001b[0;31mZeroDivisionError\u001b[0m                         Traceback (most recent call last)",
      "Input \u001b[0;32mIn [180]\u001b[0m, in \u001b[0;36m<cell line: 83>\u001b[0;34m()\u001b[0m\n\u001b[1;32m     81\u001b[0m alpha \u001b[38;5;241m=\u001b[39m \u001b[38;5;241m0.01\u001b[39m\n\u001b[1;32m     82\u001b[0m n_pairs \u001b[38;5;241m=\u001b[39m \u001b[38;5;28mlen\u001b[39m(pvalues_dict)\n\u001b[0;32m---> 83\u001b[0m threshold \u001b[38;5;241m=\u001b[39m \u001b[43malpha\u001b[49m\u001b[43m \u001b[49m\u001b[38;5;241;43m/\u001b[39;49m\u001b[43m \u001b[49m\u001b[43mn_pairs\u001b[49m\n\u001b[1;32m     85\u001b[0m \u001b[38;5;66;03m# Compute the list of significant pairs of wallet addresses\u001b[39;00m\n\u001b[1;32m     86\u001b[0m significant_pairs \u001b[38;5;241m=\u001b[39m [pair \u001b[38;5;28;01mfor\u001b[39;00m pair, pvalue \u001b[38;5;129;01min\u001b[39;00m pvalues_dict\u001b[38;5;241m.\u001b[39mitems() \u001b[38;5;28;01mif\u001b[39;00m pvalue \u001b[38;5;241m<\u001b[39m threshold]\n",
      "\u001b[0;31mZeroDivisionError\u001b[0m: float division by zero"
     ]
    }
   ],
   "source": [
    "from scipy.stats import hypergeom \n",
    "import pandas as pd\n",
    "import numpy as np\n",
    "from tqdm import tqdm\n",
    "import concurrent.futures\n",
    "\n",
    "# population is the size of the possible token that can be held in the sample \n",
    "pop_size = len(ddf_test.token_address.unique())\n",
    "\n",
    "# Define the batch size for computing the p-values\n",
    "batch_size = 1000\n",
    "\n",
    "# Compute a set of all unique pairs of wallet addresses that have already been processed\n",
    "processed_pairs = set()\n",
    "\n",
    "# Define a function to compute the p-values for a batch of wallet address pairs\n",
    "def compute_pvalues(wallet_pairs, pop_size):\n",
    "    pvalues_batch = []\n",
    "    for pair in wallet_pairs:\n",
    "        if pair in processed_pairs:\n",
    "            # Skip pairs that have already been processed\n",
    "            continue\n",
    "        else:\n",
    "            # Compute the p-value for the current pair of wallet addresses\n",
    "            pvalue = main_wallets(pair[0], pair[1], pop_size, ddf_test) ##CHANGE BACK TO NON-TEXT\n",
    "\n",
    "            # Store the p-value in the batch list\n",
    "            pvalues_batch.append(pvalue)\n",
    "\n",
    "    # Return a tuple of the wallet address pairs and their corresponding p-values\n",
    "    return wallet_pairs, pvalues_batch\n",
    "\n",
    "# Compute the p-values for all pairs of wallet addresses in batches\n",
    "pvalues_dict = {}\n",
    "num_pairs = len(ddf_test.address.unique()) * (len(ddf_test.address.unique()) - 1) // 2\n",
    "\n",
    "with concurrent.futures.ProcessPoolExecutor() as executor, \\\n",
    "        tqdm(total=num_pairs, desc='Overall Progress') as pbar_total:\n",
    "\n",
    "    futures = []\n",
    "    with tqdm(total=num_pairs, desc='Job Submission') as pbar_submit:\n",
    "        for i in range(0, len(ddf_test.address.unique()), batch_size):\n",
    "            # Get a batch of wallet addresses\n",
    "            wallets_batch = ddf_test.address.unique()[i:i+batch_size]\n",
    "\n",
    "            # Submit a job to compute the p-values for pairs of wallet addresses that have not yet been processed\n",
    "            for j in range(i+batch_size, len(ddf_test.address.unique()), batch_size):\n",
    "                # Get another batch of wallet addresses\n",
    "                wallets_batch2 = ddf_test.address.unique()[j:j+batch_size]\n",
    "\n",
    "                # Compute the set of pairs of wallet addresses to process\n",
    "                wallet_pairs = [(w1, w2) for w1 in wallets_batch for w2 in wallets_batch2]\n",
    "\n",
    "                # Submit a job to compute the p-values for the current batch of wallet address pairs\n",
    "                futures.append(executor.submit(compute_pvalues, wallet_pairs, pop_size))\n",
    "\n",
    "                # Update the job submission progress bar\n",
    "                pbar_submit.update(len(wallet_pairs))\n",
    "\n",
    "    # Collect the results from the completed jobs\n",
    "    with tqdm(total=len(futures), desc='Processing Jobs') as pbar_process:\n",
    "        for future in concurrent.futures.as_completed(futures):\n",
    "            # Get the results from the completed job\n",
    "            wallet_pairs, pvalues_batch = future.result()\n",
    "\n",
    "            # Store the p-values in a dictionary keyed by the wallet address pairs\n",
    "            for i, pair in enumerate(wallet_pairs):\n",
    "                pvalues_dict[pair] = pvalues_batch[i]\n",
    "\n",
    "            # Update the set of processed pairs\n",
    "            processed_pairs.update(wallet_pairs)\n",
    "\n",
    "            # Update the processing progress bar\n",
    "            pbar_process.update(1)\n",
    "\n",
    "            # Update the overall progress bar\n",
    "            pbar_total.update(len(wallet_pairs))\n",
    "        \n",
    "\n",
    "# Compute the Bonferroni-corrected significance threshold\n",
    "alpha = 0.01\n",
    "n_pairs = len(pvalues_dict)\n",
    "threshold = alpha / n_pairs\n",
    "\n",
    "# Compute the list of significant pairs of wallet addresses\n",
    "significant_pairs = [pair for pair, pvalue in pvalues_dict.items() if pvalue < threshold]\n"
   ]
  },
  {
   "cell_type": "markdown",
   "metadata": {},
   "source": [
    "### Visualise"
   ]
  },
  {
   "cell_type": "code",
   "execution_count": 17,
   "metadata": {},
   "outputs": [
    {
     "name": "stderr",
     "output_type": "stream",
     "text": [
      "/tmp/ipykernel_509454/3814355643.py:9: SettingWithCopyWarning: \n",
      "A value is trying to be set on a copy of a slice from a DataFrame.\n",
      "Try using .loc[row_indexer,col_indexer] = value instead\n",
      "\n",
      "See the caveats in the documentation: https://pandas.pydata.org/pandas-docs/stable/user_guide/indexing.html#returning-a-view-versus-a-copy\n",
      "  df_pvalues_validated.combination = df_pvalues_validated.combination.apply(lambda x: literal_eval(x))\n"
     ]
    },
    {
     "data": {
      "image/png": "[encoded data removed]",
      "text/plain": [
       "<Figure size 432x288 with 1 Axes>"
      ]
     },
     "metadata": {},
     "output_type": "display_data"
    },
    {
     "data": {
      "text/plain": [
       "<Figure size 432x288 with 0 Axes>"
      ]
     },
     "metadata": {},
     "output_type": "display_data"
    }
   ],
   "source": [
    "import networkx as nx\n",
    "import matplotlib.pyplot as plt\n",
    "from ast import literal_eval\n",
    "\n",
    "\n",
    "df_pvalues = pd.read_csv('pvalues_snapshot_14967365.csv', index_col=[0])\n",
    "\n",
    "df_pvalues_validated = df_pvalues[df_pvalues.m_test_result == True]\n",
    "df_pvalues_validated.combination = df_pvalues_validated.combination.apply(lambda x: literal_eval(x))  \n",
    "# Create an empty graph\n",
    "G = nx.Graph()\n",
    "\n",
    "# Add the edges to the graph\n",
    "G.add_edges_from(df_pvalues_validated.combination)\n",
    "\n",
    "# create labels \n",
    "df_a_fil = df_addresses[df_addresses.address.isin(list(G.nodes()))]\n",
    "labels = df_a_fil[['address', 'name']].set_index('address').to_dict()['name']\n",
    "\n",
    "# visualise netwotk \n",
    "nx.draw(G, labels=labels)\n",
    "\n",
    "#show\n",
    "plt.show()\n",
    "plt.savefig('vNetwork_14967365.png')\n"
   ]
  },
  {
   "cell_type": "markdown",
   "metadata": {
    "tags": []
   },
   "source": [
    "## Building Adjacency matrices and analysing them \n",
    "\n",
    "An adjacency matrix is a mathematical representation of a graph that uses a matrix to describe the connections between nodes in the graph. In this matrix, each row and column represents a node, and the value at the intersection of the row and column represents the weight or strength of the connection between those nodes. If there is no connection between two nodes, the value is typically set to zero.\n",
    "\n",
    "Combining adjacency matrices from different snapshots allows us to analyze the changes and dynamics of the graph over time. By comparing the adjacency matrices from different time points, we can see how the connections between nodes change, which nodes become more or less connected, and how the overall structure of the graph evolves. This information can help us better understand the behavior of the system represented by the graph and can provide insights into important network phenomena, such as the spread of information or the emergence of communities."
   ]
  },
  {
   "cell_type": "code",
   "execution_count": 18,
   "metadata": {},
   "outputs": [],
   "source": [
    "# load snapshots\n",
    "df_snapshots = pd.read_csv('assets/snapshot_selection.csv')\n",
    "\n",
    "# load tokens - act as ground truth \n",
    "df_tokens = pd.read_csv('assets/df_final_token_selection_20221209.csv')\n"
   ]
  },
  {
   "cell_type": "code",
   "execution_count": 238,
   "metadata": {},
   "outputs": [],
   "source": [
    "## one grouping \n",
    "adj_matrix_list = [] \n",
    "edge_list_doc = {}\n",
    "\n",
    "for block_height in df_snapshots[df_snapshots['Block Height']>= 11659570]['Block Height']: \n",
    "\n",
    "\n",
    "    # load pvalues \n",
    "    df_pvalues = pd.read_csv(join(path,f'output/output_f-none/pvalues_{block_height}_none.csv'), index_col=[0])\n",
    "    df_pvalues.combination = df_pvalues.combination.apply(lambda x: literal_eval(x))\n",
    "\n",
    "    # create empty adj_matrx\n",
    "    adj_matrix = np.zeros((len(df_tokens), len(df_tokens)))\n",
    "\n",
    "    edge_list_projection = [] \n",
    "    # populate adj_matrix\n",
    "    for index, row in df_pvalues.iterrows(): \n",
    "\n",
    "        # get address combination\n",
    "        token1, token2 = row.combination\n",
    "\n",
    "        # define index & col     \n",
    "        t1_ind = df_tokens.loc[df_tokens.address == token1].index[0]\n",
    "        t2_ind = df_tokens.loc[df_tokens.address == token2].index[0]\n",
    "\n",
    "\n",
    "        # check if validated \n",
    "        if row.m_test_result == True:\n",
    "\n",
    "            # populate adj matrix\n",
    "            adj_matrix[t1_ind, t2_ind] = 1\n",
    "            adj_matrix[t2_ind, t1_ind] = 1\n",
    "\n",
    "            # projected links \n",
    "            edge_list_projection.append(tuple((token1, token2)))\n",
    "\n",
    "        else: \n",
    "            # populate adj matrix\n",
    "            adj_matrix[t1_ind, t2_ind] = 0   \n",
    "\n",
    "\n",
    "    # append adj_matrix \n",
    "    adj_matrix_list.append(adj_matrix)\n",
    "    edge_list_doc[block_height] = edge_list_projection"
   ]
  },
  {
   "cell_type": "code",
   "execution_count": 241,
   "metadata": {},
   "outputs": [],
   "source": [
    "ddf = pd.read_csv(join(path,f\"token_balance_lookup_tables_labelled/df_token_balenace_labelled_greater_01pct_bh14967365_v2.csv\"), index_col=[0])\n",
    "\n",
    "\n",
    "def manipulation(df_token_balenace): \n",
    "    \n",
    "    ddf = df_token_balenace.rename(columns={'address_x': 'address'})\n",
    "    ddf = ddf.rename(columns={'address_x': 'address'})\n",
    "\n",
    "    # we only consider non-zero at snapshot \n",
    "    ddf = ddf[ddf.value > 0]\n",
    "\n",
    "    ## keys \n",
    "    dict_ts = dict(ddf.groupby('token_address').value.sum())\n",
    "    dict_ts.keys()\n",
    "\n",
    "    ## define supply \n",
    "    ddf['pct_supply'] = int\n",
    "\n",
    "    ## define supply\n",
    "    for t in dict_ts.keys(): \n",
    "\n",
    "        ddf.loc[ddf.token_address == t, 'pct_supply'] = ddf[ddf.token_address == t].value / dict_ts[t]\n",
    "    \n",
    "    \n",
    "    #  filter latest tokens \n",
    "    df_addresses = pd.read_csv('assets/df_final_token_selection_20221209.csv')\n",
    "    ddf = ddf[ddf.token_address.isin(df_addresses.address) == True]\n",
    "\n",
    "    # remove known burner addresses \n",
    "    ddf = ddf[ddf.address.isin(known_burner_addresses) == False]\n",
    "    \n",
    "    return ddf \n",
    "\n",
    "ddf = manipulation(ddf)\n",
    "\n"
   ]
  },
  {
   "cell_type": "code",
   "execution_count": 195,
   "metadata": {},
   "outputs": [],
   "source": [
    "## all groupins \n",
    "\n",
    "folders = ['output_f-EMOA', 'output_f-IEMOA', 'output_f-none', 'output_f-pcv', 'output_f-other-bridge-vesting-pcv'] #'output_f-IEMOA-EMOA', 'output_f-lp-amm',\n",
    "filters = ['EMOA', 'IEMOA', 'none', 'pcv', 'other-bridge-vesting-pcv'] #'IEMOA-EMOA', 'lp-amm', \n",
    "\n",
    "\n",
    "dict_stack_matrix = {}\n",
    "\n",
    "\n",
    "for folder, filt in zip(folders, filters): \n",
    "    \n",
    "    adj_matrix_list = [] \n",
    "    edge_list_doc = {}\n",
    "\n",
    "    for block_height in df_snapshots[df_snapshots['Block Height']> 11659570]['Block Height']: \n",
    "        \n",
    "        # load pvalues \n",
    "        df_pvalues = pd.read_csv(join(path,f'output/{folder}/pvalues_{block_height}_{filt}.csv'), index_col=[0])\n",
    "        \n",
    "        df_pvalues.combination = df_pvalues.combination.apply(lambda x: literal_eval(x))\n",
    "\n",
    "        # create empty adj_matrx\n",
    "        adj_matrix = np.zeros((len(df_tokens), len(df_tokens)))\n",
    "\n",
    "        edge_list_projection = [] \n",
    "        # populate adj_matrix\n",
    "        for index, row in df_pvalues.iterrows(): \n",
    "\n",
    "            # get address combination\n",
    "            token1, token2 = row.combination\n",
    "\n",
    "            # define index & col     \n",
    "            t1_ind = df_tokens.loc[df_tokens.address == token1].index[0]\n",
    "            t2_ind = df_tokens.loc[df_tokens.address == token2].index[0]\n",
    "\n",
    "\n",
    "            # check if validated \n",
    "            if row.m_test_result == True:\n",
    "\n",
    "                # populate adj matrix\n",
    "                adj_matrix[t1_ind, t2_ind] = 1\n",
    "                adj_matrix[t2_ind, t1_ind] = 1\n",
    "\n",
    "                # projected links \n",
    "                edge_list_projection.append(tuple((token1, token2)))\n",
    "\n",
    "            else: \n",
    "                # populate adj matrix\n",
    "                adj_matrix[t1_ind, t2_ind] = 0   \n",
    "\n",
    "\n",
    "        # append adj_matrix \n",
    "        adj_matrix_list.append(adj_matrix)\n",
    "        edge_list_doc[block_height] = edge_list_projection\n",
    "    \n",
    "    \n",
    "    stacked_adj_matrix = np.stack(adj_matrix_list, axis=2)\n",
    "    dict_stack_matrix[folder] = stacked_adj_matrix\n",
    "    \n",
    "\n",
    "    "
   ]
  },
  {
   "cell_type": "code",
   "execution_count": 114,
   "metadata": {},
   "outputs": [],
   "source": [
    "stacked_adj_matrix = np.stack(adj_matrix_list, axis=2)"
   ]
  },
  {
   "cell_type": "code",
   "execution_count": 279,
   "metadata": {},
   "outputs": [],
   "source": [
    "### sample size \n",
    "\n",
    "sample_size_list = []\n",
    "\n",
    "for filt in filters: \n",
    "    \n",
    "    for block_height in df_snapshots[df_snapshots['Block Height']> 11659570]['Block Height']: \n",
    "        \n",
    "        ddf = pd.read_csv(join(path,f\"token_balance_lookup_tables_labelled/df_token_balenace_labelled_greater_01pct_bh{block_height}_v2.csv\"), index_col=[0])\n",
    "        \n",
    "        ddf = manipulation(ddf)\n",
    "        \n",
    "        if filt == 'none': \n",
    "            \n",
    "            sample_size_list.append([filt, block_height, len(ddf.address.unique()), len(ddf.token_address.unique())])\n",
    "            \n",
    "        elif filt == 'other-bridge-vesting-pcv':\n",
    "            \n",
    "            sub_label_list = [    'internal_staking_contracts',    'external_staking_contracts',    'lp_amm',    'lending_borrowing_contract',    'EMOA',    'IEMOA']\n",
    "\n",
    "            sample_size_list.append([filt, block_height, len(ddf[ddf.label.isin(sub_label_list) == False].address.unique()), len(ddf.token_address.unique())])\n",
    "            \n",
    "        else: \n",
    "        \n",
    "            sample_size_list.append([filt, block_height, len(ddf[ddf.label == filt].address.unique()), len(ddf.token_address.unique())])\n",
    "\n",
    "        \n",
    "        \n",
    "df_sample = pd.DataFrame(sample_size_list)        "
   ]
  },
  {
   "cell_type": "code",
   "execution_count": 282,
   "metadata": {},
   "outputs": [
    {
     "data": {
      "text/plain": [
       "array(['EMOA', 'IEMOA', 'none', 'pcv', 'other-bridge-vesting-pcv'],\n",
       "      dtype=object)"
      ]
     },
     "execution_count": 282,
     "metadata": {},
     "output_type": "execute_result"
    }
   ],
   "source": [
    "df_sample['filter'].unique()"
   ]
  },
  {
   "cell_type": "code",
   "execution_count": 290,
   "metadata": {},
   "outputs": [
    {
     "data": {
      "image/png": "[encoded data removed]",
      "text/plain": [
       "<Figure size 432x288 with 1 Axes>"
      ]
     },
     "metadata": {},
     "output_type": "display_data"
    }
   ],
   "source": [
    "import seaborn as sns\n",
    "import matplotlib.pyplot as plt\n",
    "\n",
    "df_sample.columns = ['filter', 'block_height', 'unique_addresses', 'token_addresses']\n",
    "df_sample.block_height = df_sample.block_height.astype(str)\n",
    "\n",
    "# Set the style of the plot\n",
    "sns.set_style(\"whitegrid\")\n",
    "\n",
    "# Create a line plot for unique_addresses and token_addresses\n",
    "sns.lineplot(x='block_height', y='unique_addresses', hue='filter', data=df_sample)\n",
    "\n",
    "# Set the title and axis labels\n",
    "plt.title('Unique Addresses per Address Grouping over Time')\n",
    "ax.set_xlabel('Block Height')\n",
    "ax.set_ylabel('Number of Token Addresses')\n",
    "\n",
    "# rotate the x-axis labels\n",
    "plt.xticks(rotation=90)\n",
    "\n",
    "# save fig \n",
    "plt.savefig(\"outputs/poster_presentation/unique_address_over_time.png\", dpi=300, bbox_inches='tight')\n",
    "\n",
    "# Show the plot\n",
    "plt.show()\n"
   ]
  },
  {
   "cell_type": "code",
   "execution_count": 287,
   "metadata": {},
   "outputs": [
    {
     "name": "stderr",
     "output_type": "stream",
     "text": [
      "/tmp/ipykernel_509454/3522060016.py:12: UserWarning:\n",
      "\n",
      "FixedFormatter should only be used together with FixedLocator\n",
      "\n"
     ]
    },
    {
     "data": {
      "image/png": "[encoded data removed]",
      "text/plain": [
       "<Figure size 720x432 with 1 Axes>"
      ]
     },
     "metadata": {},
     "output_type": "display_data"
    }
   ],
   "source": [
    "fig, ax = plt.subplots(figsize=(10, 6))\n",
    "\n",
    "# Create the line plot for token addresses\n",
    "sns.lineplot(x='block_height', y='token_addresses', data=df_sample[df_sample['filter']=='none'], ax=ax, label='Token Addresses')\n",
    "\n",
    "# Set the title and axis labels\n",
    "ax.set_title('Token Addresses over Time')\n",
    "ax.set_xlabel('Block Height')\n",
    "ax.set_ylabel('Number of Token Addresses')\n",
    "\n",
    "# Rotate the x-axis labels by 90 degrees\n",
    "ax.set_xticklabels(ax.get_xticklabels(), rotation=90)\n",
    "\n",
    "# save fig \n",
    "plt.savefig(\"outputs/poster_presentation/tokens_over_time_address_groupings.png\", dpi=300, bbox_inches='tight')\n",
    "\n",
    "# Show the plot\n",
    "plt.show()"
   ]
  },
  {
   "cell_type": "code",
   "execution_count": 327,
   "metadata": {},
   "outputs": [],
   "source": [
    "G = nx.from_numpy_array(dict_stack_matrix['output_f-none'].sum(axis=2))"
   ]
  },
  {
   "cell_type": "code",
   "execution_count": 1,
   "metadata": {},
   "outputs": [
    {
     "name": "stderr",
     "output_type": "stream",
     "text": [
      "/home/user/eisermann/.local/lib/python3.9/site-packages/pandas/core/computation/expressions.py:20: UserWarning: Pandas requires version '2.7.3' or newer of 'numexpr' (version '2.7.2' currently installed).\n",
      "  from pandas.core.computation.check import NUMEXPR_INSTALLED\n",
      "/home/user/eisermann/.local/lib/python3.9/site-packages/pandas/core/arrays/masked.py:59: UserWarning: Pandas requires version '1.3.2' or newer of 'bottleneck' (version '1.2.1' currently installed).\n",
      "  from pandas.core import (\n"
     ]
    },
    {
     "ename": "NameError",
     "evalue": "name 'G' is not defined",
     "output_type": "error",
     "traceback": [
      "\u001b[0;31m---------------------------------------------------------------------------\u001b[0m",
      "\u001b[0;31mNameError\u001b[0m                                 Traceback (most recent call last)",
      "Input \u001b[0;32mIn [1]\u001b[0m, in \u001b[0;36m<cell line: 7>\u001b[0;34m()\u001b[0m\n\u001b[1;32m      3\u001b[0m \u001b[38;5;28;01mimport\u001b[39;00m \u001b[38;5;21;01mseaborn\u001b[39;00m \u001b[38;5;28;01mas\u001b[39;00m \u001b[38;5;21;01msns\u001b[39;00m\n\u001b[1;32m      6\u001b[0m \u001b[38;5;66;03m# Define positions for the nodes\u001b[39;00m\n\u001b[0;32m----> 7\u001b[0m pos \u001b[38;5;241m=\u001b[39m nx\u001b[38;5;241m.\u001b[39mspring_layout(\u001b[43mG\u001b[49m, scale\u001b[38;5;241m=\u001b[39m\u001b[38;5;241m2\u001b[39m, k\u001b[38;5;241m=\u001b[39m\u001b[38;5;241m20\u001b[39m)\n\u001b[1;32m      9\u001b[0m \u001b[38;5;66;03m# Extract edge weights\u001b[39;00m\n\u001b[1;32m     10\u001b[0m edge_weights \u001b[38;5;241m=\u001b[39m [G[u][v][\u001b[38;5;124m'\u001b[39m\u001b[38;5;124mweight\u001b[39m\u001b[38;5;124m'\u001b[39m] \u001b[38;5;28;01mfor\u001b[39;00m u, v \u001b[38;5;129;01min\u001b[39;00m G\u001b[38;5;241m.\u001b[39medges()]\n",
      "\u001b[0;31mNameError\u001b[0m: name 'G' is not defined"
     ]
    }
   ],
   "source": [
    "import networkx as nx\n",
    "import matplotlib.pyplot as plt\n",
    "import seaborn as sns\n",
    "\n",
    "\n",
    "# Define positions for the nodes\n",
    "pos = nx.spring_layout(G, scale=2, k=20)\n",
    "\n",
    "# Extract edge weights\n",
    "edge_weights = [G[u][v]['weight'] for u, v in G.edges()]\n",
    "\n",
    "# Define a colormap for the edge weights using a seaborn palette\n",
    "cmap = sns.color_palette(\"Blues\", as_cmap=True)\n",
    "\n",
    "# create labels \n",
    "labels = dict(df_addresses.name)\n",
    "\n",
    "# Draw the graph with edge colors depending on their weights\n",
    "nx.draw(G, pos, edge_color=edge_weights, edge_cmap=cmap, width=2)\n",
    "nx.draw_networkx_edge_labels(G, pos, edge_labels={(u,v): G[u][v]['weight'] for u, v in G.edges()})\n",
    "\n",
    "# Add node labels to the graph\n",
    "nx.draw_networkx_labels(G, pos, labels=labels, font_size=10)\n",
    "\n",
    "# Add a colorbar to the graph\n",
    "sm = plt.cm.ScalarMappable(cmap=cmap, norm=plt.Normalize(vmin=min(edge_weights), vmax=max(edge_weights)))\n",
    "sm.set_array(edge_weights)\n",
    "# cbar = plt.colorbar(sm, ax=plt.gca())\n",
    "\n",
    "# Add a title to the graph\n",
    "plt.title('Most-frequent Statistically Validated Network Graph Link over Time')\n",
    "\n",
    "plt.savefig('outputs/poster_presentation/Most_frequent_Validated_Network_Graph_over_Time.png', dpi=300, bbox_inches='tight')\n",
    "\n",
    "plt.show()\n"
   ]
  },
  {
   "cell_type": "code",
   "execution_count": 394,
   "metadata": {},
   "outputs": [
    {
     "data": {
      "text/plain": [
       "17"
      ]
     },
     "execution_count": 394,
     "metadata": {},
     "output_type": "execute_result"
    }
   ],
   "source": [
    "## validated link during possible existance \n",
    "len(df_snapshots[df_snapshots['Block Height']> 11659570]['Block Height'])"
   ]
  },
  {
   "cell_type": "code",
   "execution_count": 427,
   "metadata": {},
   "outputs": [],
   "source": [
    "# get edge weight sums \n",
    "\n",
    "df_connection_frequency = pd.DataFrame([[df_tokens.address.loc[u],df_tokens.address.loc[v], G[u][v]['weight']] for u, v in G.edges()], columns=['node1', 'node2', 'total_occurances'])\n",
    "\n",
    "\n",
    "token_timestep_dict = {} # address, no of times it occur in all timestpes\n",
    "\n",
    "# check in how many network projection the link could have theoretically existed\n",
    "for ind, block_height in enumerate(df_snapshots[df_snapshots['Block Height']> 11659570]['Block Height']): \n",
    "        \n",
    "        ddf = pd.read_csv(join(path,f\"token_balance_lookup_tables_labelled/df_token_balenace_labelled_greater_01pct_bh{block_height}_v2.csv\"), index_col=[0])\n",
    "        \n",
    "        ddf = manipulation(ddf)\n",
    "        \n",
    "        for token in ddf.token_address.unique(): \n",
    "            \n",
    "            if token not in list(token_timestep_dict.keys()):\n",
    "                \n",
    "                # number of occurances\n",
    "                no = len(df_snapshots[df_snapshots['Block Height']> 11659570]['Block Height']) - ind\n",
    "                \n",
    "                # update token_timestep_dict\n",
    "                \n",
    "                token_timestep_dict[token] = no \n",
    "                \n",
    "            else:\n",
    "                pass\n",
    "                \n",
    "\n"
   ]
  },
  {
   "cell_type": "code",
   "execution_count": 428,
   "metadata": {},
   "outputs": [],
   "source": [
    "df_connection_frequency['possible_occurances'] = int\n",
    "\n",
    "# devided existance versus occurances \n",
    "for ind, row in df_connection_frequency.iterrows(): \n",
    "        \n",
    "    if token_timestep_dict[row.node1] >= token_timestep_dict[row.node2]:\n",
    "        \n",
    "        df_connection_frequency.loc[ind, 'possible_occurances'] = token_timestep_dict[row.node2]\n",
    "    \n",
    "    else:\n",
    "    \n",
    "        df_connection_frequency.loc[ind, 'possible_occurances'] = token_timestep_dict[row.node1]\n",
    "\n",
    "    \n",
    "    \n"
   ]
  },
  {
   "cell_type": "code",
   "execution_count": 442,
   "metadata": {},
   "outputs": [],
   "source": [
    "df_connection_frequency['pct_frequency'] = df_connection_frequency.total_occurances/df_connection_frequency.possible_occurances"
   ]
  },
  {
   "cell_type": "code",
   "execution_count": 443,
   "metadata": {},
   "outputs": [],
   "source": [
    "df_connection_frequency.replace(df_tokens[['name','address']].set_index('address').to_dict()['name'], inplace=True)"
   ]
  },
  {
   "cell_type": "code",
   "execution_count": 444,
   "metadata": {},
   "outputs": [
    {
     "data": {
      "text/html": [
       "<div>\n",
       "<style scoped>\n",
       "    .dataframe tbody tr th:only-of-type {\n",
       "        vertical-align: middle;\n",
       "    }\n",
       "\n",
       "    .dataframe tbody tr th {\n",
       "        vertical-align: top;\n",
       "    }\n",
       "\n",
       "    .dataframe thead th {\n",
       "        text-align: right;\n",
       "    }\n",
       "</style>\n",
       "<table border=\"1\" class=\"dataframe\">\n",
       "  <thead>\n",
       "    <tr style=\"text-align: right;\">\n",
       "      <th></th>\n",
       "      <th>node1</th>\n",
       "      <th>node2</th>\n",
       "      <th>total_occurances</th>\n",
       "      <th>possible_occurances</th>\n",
       "      <th>peristance</th>\n",
       "      <th>pct_frequency</th>\n",
       "    </tr>\n",
       "  </thead>\n",
       "  <tbody>\n",
       "    <tr>\n",
       "      <th>0</th>\n",
       "      <td>Uniswap</td>\n",
       "      <td>Instadapp</td>\n",
       "      <td>2.0</td>\n",
       "      <td>15</td>\n",
       "      <td>0.133333</td>\n",
       "      <td>0.133333</td>\n",
       "    </tr>\n",
       "    <tr>\n",
       "      <th>1</th>\n",
       "      <td>Aave</td>\n",
       "      <td>Yearn Finance</td>\n",
       "      <td>17.0</td>\n",
       "      <td>17</td>\n",
       "      <td>1.000000</td>\n",
       "      <td>1.000000</td>\n",
       "    </tr>\n",
       "    <tr>\n",
       "      <th>2</th>\n",
       "      <td>Aave</td>\n",
       "      <td>Instadapp</td>\n",
       "      <td>2.0</td>\n",
       "      <td>15</td>\n",
       "      <td>0.133333</td>\n",
       "      <td>0.133333</td>\n",
       "    </tr>\n",
       "    <tr>\n",
       "      <th>3</th>\n",
       "      <td>Lido</td>\n",
       "      <td>Curve</td>\n",
       "      <td>17.0</td>\n",
       "      <td>17</td>\n",
       "      <td>1.000000</td>\n",
       "      <td>1.000000</td>\n",
       "    </tr>\n",
       "    <tr>\n",
       "      <th>4</th>\n",
       "      <td>Lido</td>\n",
       "      <td>1Inch</td>\n",
       "      <td>5.0</td>\n",
       "      <td>17</td>\n",
       "      <td>0.294118</td>\n",
       "      <td>0.294118</td>\n",
       "    </tr>\n",
       "    <tr>\n",
       "      <th>5</th>\n",
       "      <td>Lido</td>\n",
       "      <td>Convex</td>\n",
       "      <td>13.0</td>\n",
       "      <td>13</td>\n",
       "      <td>1.000000</td>\n",
       "      <td>1.000000</td>\n",
       "    </tr>\n",
       "    <tr>\n",
       "      <th>6</th>\n",
       "      <td>Lido</td>\n",
       "      <td>Dydx</td>\n",
       "      <td>9.0</td>\n",
       "      <td>12</td>\n",
       "      <td>0.750000</td>\n",
       "      <td>0.750000</td>\n",
       "    </tr>\n",
       "    <tr>\n",
       "      <th>7</th>\n",
       "      <td>Lido</td>\n",
       "      <td>Balancer</td>\n",
       "      <td>17.0</td>\n",
       "      <td>17</td>\n",
       "      <td>1.000000</td>\n",
       "      <td>1.000000</td>\n",
       "    </tr>\n",
       "    <tr>\n",
       "      <th>8</th>\n",
       "      <td>Lido</td>\n",
       "      <td>Sushi</td>\n",
       "      <td>11.0</td>\n",
       "      <td>17</td>\n",
       "      <td>0.647059</td>\n",
       "      <td>0.647059</td>\n",
       "    </tr>\n",
       "    <tr>\n",
       "      <th>9</th>\n",
       "      <td>Lido</td>\n",
       "      <td>Yearn Finance</td>\n",
       "      <td>14.0</td>\n",
       "      <td>17</td>\n",
       "      <td>0.823529</td>\n",
       "      <td>0.823529</td>\n",
       "    </tr>\n",
       "    <tr>\n",
       "      <th>10</th>\n",
       "      <td>Lido</td>\n",
       "      <td>Instadapp</td>\n",
       "      <td>12.0</td>\n",
       "      <td>15</td>\n",
       "      <td>0.800000</td>\n",
       "      <td>0.800000</td>\n",
       "    </tr>\n",
       "    <tr>\n",
       "      <th>11</th>\n",
       "      <td>Lido</td>\n",
       "      <td>Aura Finance</td>\n",
       "      <td>1.0</td>\n",
       "      <td>1</td>\n",
       "      <td>1.000000</td>\n",
       "      <td>1.000000</td>\n",
       "    </tr>\n",
       "    <tr>\n",
       "      <th>12</th>\n",
       "      <td>Maker</td>\n",
       "      <td>Compound</td>\n",
       "      <td>15.0</td>\n",
       "      <td>17</td>\n",
       "      <td>0.882353</td>\n",
       "      <td>0.882353</td>\n",
       "    </tr>\n",
       "    <tr>\n",
       "      <th>13</th>\n",
       "      <td>Maker</td>\n",
       "      <td>Yearn Finance</td>\n",
       "      <td>8.0</td>\n",
       "      <td>17</td>\n",
       "      <td>0.470588</td>\n",
       "      <td>0.470588</td>\n",
       "    </tr>\n",
       "    <tr>\n",
       "      <th>14</th>\n",
       "      <td>Maker</td>\n",
       "      <td>Instadapp</td>\n",
       "      <td>2.0</td>\n",
       "      <td>15</td>\n",
       "      <td>0.133333</td>\n",
       "      <td>0.133333</td>\n",
       "    </tr>\n",
       "    <tr>\n",
       "      <th>15</th>\n",
       "      <td>Curve</td>\n",
       "      <td>1Inch</td>\n",
       "      <td>5.0</td>\n",
       "      <td>17</td>\n",
       "      <td>0.294118</td>\n",
       "      <td>0.294118</td>\n",
       "    </tr>\n",
       "    <tr>\n",
       "      <th>16</th>\n",
       "      <td>Curve</td>\n",
       "      <td>Convex</td>\n",
       "      <td>13.0</td>\n",
       "      <td>13</td>\n",
       "      <td>1.000000</td>\n",
       "      <td>1.000000</td>\n",
       "    </tr>\n",
       "    <tr>\n",
       "      <th>17</th>\n",
       "      <td>Curve</td>\n",
       "      <td>Balancer</td>\n",
       "      <td>17.0</td>\n",
       "      <td>17</td>\n",
       "      <td>1.000000</td>\n",
       "      <td>1.000000</td>\n",
       "    </tr>\n",
       "    <tr>\n",
       "      <th>18</th>\n",
       "      <td>Curve</td>\n",
       "      <td>Sushi</td>\n",
       "      <td>11.0</td>\n",
       "      <td>17</td>\n",
       "      <td>0.647059</td>\n",
       "      <td>0.647059</td>\n",
       "    </tr>\n",
       "    <tr>\n",
       "      <th>19</th>\n",
       "      <td>Curve</td>\n",
       "      <td>Yearn Finance</td>\n",
       "      <td>17.0</td>\n",
       "      <td>17</td>\n",
       "      <td>1.000000</td>\n",
       "      <td>1.000000</td>\n",
       "    </tr>\n",
       "    <tr>\n",
       "      <th>20</th>\n",
       "      <td>1Inch</td>\n",
       "      <td>Balancer</td>\n",
       "      <td>4.0</td>\n",
       "      <td>17</td>\n",
       "      <td>0.235294</td>\n",
       "      <td>0.235294</td>\n",
       "    </tr>\n",
       "    <tr>\n",
       "      <th>21</th>\n",
       "      <td>1Inch</td>\n",
       "      <td>Sushi</td>\n",
       "      <td>5.0</td>\n",
       "      <td>17</td>\n",
       "      <td>0.294118</td>\n",
       "      <td>0.294118</td>\n",
       "    </tr>\n",
       "    <tr>\n",
       "      <th>22</th>\n",
       "      <td>1Inch</td>\n",
       "      <td>Yearn Finance</td>\n",
       "      <td>7.0</td>\n",
       "      <td>17</td>\n",
       "      <td>0.411765</td>\n",
       "      <td>0.411765</td>\n",
       "    </tr>\n",
       "    <tr>\n",
       "      <th>23</th>\n",
       "      <td>1Inch</td>\n",
       "      <td>Instadapp</td>\n",
       "      <td>2.0</td>\n",
       "      <td>15</td>\n",
       "      <td>0.133333</td>\n",
       "      <td>0.133333</td>\n",
       "    </tr>\n",
       "    <tr>\n",
       "      <th>24</th>\n",
       "      <td>Bitdao</td>\n",
       "      <td>Convex</td>\n",
       "      <td>1.0</td>\n",
       "      <td>13</td>\n",
       "      <td>0.076923</td>\n",
       "      <td>0.076923</td>\n",
       "    </tr>\n",
       "    <tr>\n",
       "      <th>25</th>\n",
       "      <td>Bitdao</td>\n",
       "      <td>Sushi</td>\n",
       "      <td>1.0</td>\n",
       "      <td>13</td>\n",
       "      <td>0.076923</td>\n",
       "      <td>0.076923</td>\n",
       "    </tr>\n",
       "    <tr>\n",
       "      <th>26</th>\n",
       "      <td>Bitdao</td>\n",
       "      <td>Instadapp</td>\n",
       "      <td>1.0</td>\n",
       "      <td>13</td>\n",
       "      <td>0.076923</td>\n",
       "      <td>0.076923</td>\n",
       "    </tr>\n",
       "    <tr>\n",
       "      <th>27</th>\n",
       "      <td>Convex</td>\n",
       "      <td>Dydx</td>\n",
       "      <td>10.0</td>\n",
       "      <td>12</td>\n",
       "      <td>0.833333</td>\n",
       "      <td>0.833333</td>\n",
       "    </tr>\n",
       "    <tr>\n",
       "      <th>28</th>\n",
       "      <td>Convex</td>\n",
       "      <td>Balancer</td>\n",
       "      <td>13.0</td>\n",
       "      <td>13</td>\n",
       "      <td>1.000000</td>\n",
       "      <td>1.000000</td>\n",
       "    </tr>\n",
       "    <tr>\n",
       "      <th>29</th>\n",
       "      <td>Convex</td>\n",
       "      <td>Sushi</td>\n",
       "      <td>13.0</td>\n",
       "      <td>13</td>\n",
       "      <td>1.000000</td>\n",
       "      <td>1.000000</td>\n",
       "    </tr>\n",
       "    <tr>\n",
       "      <th>30</th>\n",
       "      <td>Convex</td>\n",
       "      <td>Yearn Finance</td>\n",
       "      <td>2.0</td>\n",
       "      <td>13</td>\n",
       "      <td>0.153846</td>\n",
       "      <td>0.153846</td>\n",
       "    </tr>\n",
       "    <tr>\n",
       "      <th>31</th>\n",
       "      <td>Convex</td>\n",
       "      <td>Instadapp</td>\n",
       "      <td>12.0</td>\n",
       "      <td>13</td>\n",
       "      <td>0.923077</td>\n",
       "      <td>0.923077</td>\n",
       "    </tr>\n",
       "    <tr>\n",
       "      <th>32</th>\n",
       "      <td>Convex</td>\n",
       "      <td>Aura Finance</td>\n",
       "      <td>1.0</td>\n",
       "      <td>1</td>\n",
       "      <td>1.000000</td>\n",
       "      <td>1.000000</td>\n",
       "    </tr>\n",
       "    <tr>\n",
       "      <th>33</th>\n",
       "      <td>Compound</td>\n",
       "      <td>Instadapp</td>\n",
       "      <td>2.0</td>\n",
       "      <td>15</td>\n",
       "      <td>0.133333</td>\n",
       "      <td>0.133333</td>\n",
       "    </tr>\n",
       "    <tr>\n",
       "      <th>34</th>\n",
       "      <td>Dydx</td>\n",
       "      <td>Instadapp</td>\n",
       "      <td>8.0</td>\n",
       "      <td>12</td>\n",
       "      <td>0.666667</td>\n",
       "      <td>0.666667</td>\n",
       "    </tr>\n",
       "    <tr>\n",
       "      <th>35</th>\n",
       "      <td>Balancer</td>\n",
       "      <td>Sushi</td>\n",
       "      <td>17.0</td>\n",
       "      <td>17</td>\n",
       "      <td>1.000000</td>\n",
       "      <td>1.000000</td>\n",
       "    </tr>\n",
       "    <tr>\n",
       "      <th>36</th>\n",
       "      <td>Balancer</td>\n",
       "      <td>Yearn Finance</td>\n",
       "      <td>17.0</td>\n",
       "      <td>17</td>\n",
       "      <td>1.000000</td>\n",
       "      <td>1.000000</td>\n",
       "    </tr>\n",
       "    <tr>\n",
       "      <th>37</th>\n",
       "      <td>Balancer</td>\n",
       "      <td>Aura Finance</td>\n",
       "      <td>1.0</td>\n",
       "      <td>1</td>\n",
       "      <td>1.000000</td>\n",
       "      <td>1.000000</td>\n",
       "    </tr>\n",
       "    <tr>\n",
       "      <th>38</th>\n",
       "      <td>Sushi</td>\n",
       "      <td>Yearn Finance</td>\n",
       "      <td>17.0</td>\n",
       "      <td>17</td>\n",
       "      <td>1.000000</td>\n",
       "      <td>1.000000</td>\n",
       "    </tr>\n",
       "    <tr>\n",
       "      <th>39</th>\n",
       "      <td>Sushi</td>\n",
       "      <td>Instadapp</td>\n",
       "      <td>2.0</td>\n",
       "      <td>15</td>\n",
       "      <td>0.133333</td>\n",
       "      <td>0.133333</td>\n",
       "    </tr>\n",
       "    <tr>\n",
       "      <th>40</th>\n",
       "      <td>Yearn Finance</td>\n",
       "      <td>Instadapp</td>\n",
       "      <td>2.0</td>\n",
       "      <td>15</td>\n",
       "      <td>0.133333</td>\n",
       "      <td>0.133333</td>\n",
       "    </tr>\n",
       "    <tr>\n",
       "      <th>41</th>\n",
       "      <td>Instadapp</td>\n",
       "      <td>Aura Finance</td>\n",
       "      <td>1.0</td>\n",
       "      <td>1</td>\n",
       "      <td>1.000000</td>\n",
       "      <td>1.000000</td>\n",
       "    </tr>\n",
       "  </tbody>\n",
       "</table>\n",
       "</div>"
      ],
      "text/plain": [
       "            node1          node2  total_occurances  possible_occurances  \\\n",
       "0         Uniswap      Instadapp               2.0                   15   \n",
       "1            Aave  Yearn Finance              17.0                   17   \n",
       "2            Aave      Instadapp               2.0                   15   \n",
       "3            Lido          Curve              17.0                   17   \n",
       "4            Lido          1Inch               5.0                   17   \n",
       "5            Lido         Convex              13.0                   13   \n",
       "6            Lido           Dydx               9.0                   12   \n",
       "7            Lido       Balancer              17.0                   17   \n",
       "8            Lido          Sushi              11.0                   17   \n",
       "9            Lido  Yearn Finance              14.0                   17   \n",
       "10           Lido      Instadapp              12.0                   15   \n",
       "11           Lido   Aura Finance               1.0                    1   \n",
       "12          Maker       Compound              15.0                   17   \n",
       "13          Maker  Yearn Finance               8.0                   17   \n",
       "14          Maker      Instadapp               2.0                   15   \n",
       "15          Curve          1Inch               5.0                   17   \n",
       "16          Curve         Convex              13.0                   13   \n",
       "17          Curve       Balancer              17.0                   17   \n",
       "18          Curve          Sushi              11.0                   17   \n",
       "19          Curve  Yearn Finance              17.0                   17   \n",
       "20          1Inch       Balancer               4.0                   17   \n",
       "21          1Inch          Sushi               5.0                   17   \n",
       "22          1Inch  Yearn Finance               7.0                   17   \n",
       "23          1Inch      Instadapp               2.0                   15   \n",
       "24         Bitdao         Convex               1.0                   13   \n",
       "25         Bitdao          Sushi               1.0                   13   \n",
       "26         Bitdao      Instadapp               1.0                   13   \n",
       "27         Convex           Dydx              10.0                   12   \n",
       "28         Convex       Balancer              13.0                   13   \n",
       "29         Convex          Sushi              13.0                   13   \n",
       "30         Convex  Yearn Finance               2.0                   13   \n",
       "31         Convex      Instadapp              12.0                   13   \n",
       "32         Convex   Aura Finance               1.0                    1   \n",
       "33       Compound      Instadapp               2.0                   15   \n",
       "34           Dydx      Instadapp               8.0                   12   \n",
       "35       Balancer          Sushi              17.0                   17   \n",
       "36       Balancer  Yearn Finance              17.0                   17   \n",
       "37       Balancer   Aura Finance               1.0                    1   \n",
       "38          Sushi  Yearn Finance              17.0                   17   \n",
       "39          Sushi      Instadapp               2.0                   15   \n",
       "40  Yearn Finance      Instadapp               2.0                   15   \n",
       "41      Instadapp   Aura Finance               1.0                    1   \n",
       "\n",
       "    peristance  pct_frequency  \n",
       "0     0.133333       0.133333  \n",
       "1     1.000000       1.000000  \n",
       "2     0.133333       0.133333  \n",
       "3     1.000000       1.000000  \n",
       "4     0.294118       0.294118  \n",
       "5     1.000000       1.000000  \n",
       "6     0.750000       0.750000  \n",
       "7     1.000000       1.000000  \n",
       "8     0.647059       0.647059  \n",
       "9     0.823529       0.823529  \n",
       "10    0.800000       0.800000  \n",
       "11    1.000000       1.000000  \n",
       "12    0.882353       0.882353  \n",
       "13    0.470588       0.470588  \n",
       "14    0.133333       0.133333  \n",
       "15    0.294118       0.294118  \n",
       "16    1.000000       1.000000  \n",
       "17    1.000000       1.000000  \n",
       "18    0.647059       0.647059  \n",
       "19    1.000000       1.000000  \n",
       "20    0.235294       0.235294  \n",
       "21    0.294118       0.294118  \n",
       "22    0.411765       0.411765  \n",
       "23    0.133333       0.133333  \n",
       "24    0.076923       0.076923  \n",
       "25    0.076923       0.076923  \n",
       "26    0.076923       0.076923  \n",
       "27    0.833333       0.833333  \n",
       "28    1.000000       1.000000  \n",
       "29    1.000000       1.000000  \n",
       "30    0.153846       0.153846  \n",
       "31    0.923077       0.923077  \n",
       "32    1.000000       1.000000  \n",
       "33    0.133333       0.133333  \n",
       "34    0.666667       0.666667  \n",
       "35    1.000000       1.000000  \n",
       "36    1.000000       1.000000  \n",
       "37    1.000000       1.000000  \n",
       "38    1.000000       1.000000  \n",
       "39    0.133333       0.133333  \n",
       "40    0.133333       0.133333  \n",
       "41    1.000000       1.000000  "
      ]
     },
     "execution_count": 444,
     "metadata": {},
     "output_type": "execute_result"
    }
   ],
   "source": [
    "df_connection_frequency"
   ]
  },
  {
   "cell_type": "code",
   "execution_count": 446,
   "metadata": {},
   "outputs": [
    {
     "name": "stderr",
     "output_type": "stream",
     "text": [
      "/tmp/ipykernel_509454/1288682701.py:8: FutureWarning:\n",
      "\n",
      "In a future version of pandas all arguments of DataFrame.pivot will be keyword-only.\n",
      "\n"
     ]
    },
    {
     "data": {
      "image/png": "[encoded data removed]",
      "text/plain": [
       "<Figure size 432x288 with 2 Axes>"
      ]
     },
     "metadata": {},
     "output_type": "display_data"
    }
   ],
   "source": [
    "import pandas as pd\n",
    "import seaborn as sns\n",
    "import matplotlib.pyplot as plt\n",
    "\n",
    "\n",
    "\n",
    "# Pivot the DataFrame to create a matrix of values\n",
    "matrix = df_connection_frequency.pivot('node1', 'node2', 'pct_frequency')\n",
    "\n",
    "# Create the heatmap\n",
    "sns.heatmap(matrix, cmap='coolwarm', annot=True, fmt='.1f')\n",
    "\n",
    "# Add a title to the plot\n",
    "plt.title('Percentage Frequency of Possible Edges over Time')\n",
    "\n",
    "# save \n",
    "plt.savefig('outputs/poster_presentation/pct_frequency_across_Time.png', dpi=300, bbox_inches='tight')\n",
    "\n",
    "\n",
    "# Show the plot\n",
    "plt.show()\n"
   ]
  },
  {
   "cell_type": "code",
   "execution_count": 324,
   "metadata": {},
   "outputs": [
    {
     "ename": "NameError",
     "evalue": "name 'ScalarMappable' is not defined",
     "output_type": "error",
     "traceback": [
      "\u001b[0;31m---------------------------------------------------------------------------\u001b[0m",
      "\u001b[0;31mNameError\u001b[0m                                 Traceback (most recent call last)",
      "Input \u001b[0;32mIn [326]\u001b[0m, in \u001b[0;36m<cell line: 13>\u001b[0;34m()\u001b[0m\n\u001b[1;32m     11\u001b[0m norm \u001b[38;5;241m=\u001b[39m plt\u001b[38;5;241m.\u001b[39mNormalize(vmin, vmax)\n\u001b[1;32m     12\u001b[0m cmap \u001b[38;5;241m=\u001b[39m plt\u001b[38;5;241m.\u001b[39mget_cmap(\u001b[38;5;124m'\u001b[39m\u001b[38;5;124mReds\u001b[39m\u001b[38;5;124m'\u001b[39m)\n\u001b[0;32m---> 13\u001b[0m sm \u001b[38;5;241m=\u001b[39m \u001b[43mScalarMappable\u001b[49m(norm\u001b[38;5;241m=\u001b[39mnorm, cmap\u001b[38;5;241m=\u001b[39mcmap)\n\u001b[1;32m     14\u001b[0m colors \u001b[38;5;241m=\u001b[39m [sm\u001b[38;5;241m.\u001b[39mto_rgba(weight) \u001b[38;5;28;01mfor\u001b[39;00m weight \u001b[38;5;129;01min\u001b[39;00m edge_weights]\n\u001b[1;32m     16\u001b[0m \u001b[38;5;66;03m# Draw the graph with edge weights\u001b[39;00m\n",
      "\u001b[0;31mNameError\u001b[0m: name 'ScalarMappable' is not defined"
     ]
    }
   ],
   "source": [
    "# Define positions for the nodes\n",
    "pos = nx.spring_layout(G_summed_projections)\n",
    "\n",
    "# Extract edge weights\n",
    "edge_weights = [G_summed_projections[u][v]['weight'] for u, v in G_summed_projections.edges()]\n",
    "\n",
    "\n",
    "# Define a color mapping function based on edge weights\n",
    "vmin = min(edge_weights)\n",
    "vmax = max(edge_weights)\n",
    "norm = plt.Normalize(vmin, vmax)\n",
    "cmap = plt.get_cmap('Reds')\n",
    "sm = ScalarMappable(norm=norm, cmap=cmap)\n",
    "colors = [sm.to_rgba(weight) for weight in edge_weights]\n",
    "\n",
    "# Draw the graph with edge weights\n",
    "nx.draw(G_summed_projections, pos, width=edge_weights, edge_color='gray', with_labels=True)\n",
    "nx.draw_networkx_edge_labels(G_summed_projections, pos, edge_labels={(u,v): G_summed_projections[u][v]['weight'] for u, v in G_summed_projections.edges()})\n",
    "\n",
    "# Adjust the spacing between the nodes\n",
    "plt.subplots_adjust(wspace=1, hspace=1)\n",
    "\n",
    "# show\n",
    "plt.show()"
   ]
  },
  {
   "cell_type": "code",
   "execution_count": null,
   "metadata": {},
   "outputs": [],
   "source": [
    "### similaity between user groups "
   ]
  },
  {
   "cell_type": "code",
   "execution_count": 173,
   "metadata": {},
   "outputs": [],
   "source": [
    "def jaccard_similarity(matrix1, matrix2):\n",
    "    set1 = set(np.reshape(matrix1, -1))\n",
    "    set2 = set(np.reshape(matrix2, -1))\n",
    "    intersection = len(set1.intersection(set2))\n",
    "    union = len(set1.union(set2))\n",
    "    similarity = intersection / union\n",
    "    return similarity"
   ]
  },
  {
   "cell_type": "code",
   "execution_count": 196,
   "metadata": {},
   "outputs": [],
   "source": [
    "options = list(dict_stack_matrix.keys())\n",
    "combinations = list(itertools.combinations(options, 2))"
   ]
  },
  {
   "cell_type": "code",
   "execution_count": 197,
   "metadata": {},
   "outputs": [
    {
     "name": "stdout",
     "output_type": "stream",
     "text": [
      "Average Jaccard similarity between the two 3D matrices: 0.25\n",
      "Average Jaccard similarity between the two 3D matrices: 0.86\n",
      "Average Jaccard similarity between the two 3D matrices: 0.04\n",
      "Average Jaccard similarity between the two 3D matrices: 0.89\n",
      "Average Jaccard similarity between the two 3D matrices: 0.26\n",
      "Average Jaccard similarity between the two 3D matrices: 0.06\n",
      "Average Jaccard similarity between the two 3D matrices: 0.26\n",
      "Average Jaccard similarity between the two 3D matrices: 0.08\n",
      "Average Jaccard similarity between the two 3D matrices: 0.96\n",
      "Average Jaccard similarity between the two 3D matrices: 0.04\n"
     ]
    }
   ],
   "source": [
    "similarity_dict ={}\n",
    "\n",
    "for a, b in combinations: \n",
    "    \n",
    "    # jaccard similarity of overall matrices \n",
    "    matrix1 = dict_stack_matrix[a]\n",
    "    matrix2 = dict_stack_matrix[b]\n",
    "    \n",
    "    # convert each matrix into a set of connections at each time step\n",
    "    connections1 = [set(zip(*np.where(matrix1[:,:,i] == 1))) for i in range(matrix1.shape[2])]\n",
    "    connections2 = [set(zip(*np.where(matrix2[:,:,i] == 1))) for i in range(matrix2.shape[2])]\n",
    "    \n",
    "    # calculate Jaccard similarity between sets of connections at each time step\n",
    "    similarities = [len(conn1.intersection(conn2)) / len(conn1.union(conn2)) for conn1, conn2 in zip(connections1, connections2)]\n",
    "\n",
    "    # calculate average Jaccard similarity across all time steps\n",
    "    avg_similarity = sum(similarities) / len(similarities)\n",
    "\n",
    "    print(\"Average Jaccard similarity between the two 3D matrices: {:.2f}\".format(avg_similarity))\n",
    "    \n",
    "    # \n",
    "    similarity_dict[tuple((a,b))] = avg_similarity\n",
    "    "
   ]
  },
  {
   "cell_type": "code",
   "execution_count": 199,
   "metadata": {},
   "outputs": [
    {
     "name": "stderr",
     "output_type": "stream",
     "text": [
      "/tmp/ipykernel_509454/3580459640.py:15: FutureWarning:\n",
      "\n",
      "In a future version of pandas all arguments of DataFrame.pivot will be keyword-only.\n",
      "\n"
     ]
    },
    {
     "data": {
      "image/png": "[encoded data removed]",
      "text/plain": [
       "<Figure size 432x288 with 2 Axes>"
      ]
     },
     "metadata": {
      "needs_background": "light"
     },
     "output_type": "display_data"
    }
   ],
   "source": [
    "import seaborn as sns \n",
    "# Convert the dictionary to a dataframe\n",
    "df_similarity_dict = pd.DataFrame.from_dict(similarity_dict, orient='index').reset_index()\n",
    "\n",
    "# Split the index into separate columns\n",
    "df_similarity_dict[['adress_grouping1', 'adress_grouping2']] = pd.DataFrame(df_similarity_dict['index'].tolist(), index=df_similarity_dict.index)\n",
    "\n",
    "# Rename the columns\n",
    "df_similarity_dict = df_similarity_dict.rename(columns={0: 'similarity'})\n",
    "\n",
    "# Drop the old index column and the index columns we just created\n",
    "df_similarity_dict = df_similarity_dict.drop(['index'], axis=1)\n",
    "\n",
    "# Pivot the table\n",
    "pivot_table = df_similarity_dict.pivot('adress_grouping1', 'adress_grouping2', 'similarity')\n",
    "\n",
    "# Create the heatmap using seaborn\n",
    "ax = sns.heatmap(pivot_table, annot=True, cmap=\"YlGnBu\")\n",
    "\n",
    "# Set the title\n",
    "ax.set_title(\"Jaccard Similarity Between Validated Network Project between Token over Time of different Address Groupings\")\n",
    "\n",
    "# Save the image as a PNG file\n",
    "plt.savefig(\"outputs/poster_presentation/validated_network_jaccard_over_time_address_groupings.png\", dpi=300, bbox_inches='tight')\n",
    "\n",
    "# Show the plot\n",
    "plt.show()\n"
   ]
  },
  {
   "cell_type": "markdown",
   "metadata": {},
   "source": [
    "### Analysis of stacked_adj_matrix \n",
    "- jaccard similarity over time \n",
    "- Pair appear vs pair existance - 2d matrix with % values - number of observation/ number of possible occurances - represent as heatmap"
   ]
  },
  {
   "cell_type": "code",
   "execution_count": 102,
   "metadata": {},
   "outputs": [],
   "source": [
    "def jaccard_similarity(g, h):\n",
    "    i = set(g).intersection(h)\n",
    "    return round(len(i) / (len(g) + len(h) - len(i)),3)"
   ]
  },
  {
   "cell_type": "code",
   "execution_count": 216,
   "metadata": {},
   "outputs": [],
   "source": [
    "snapshot_list = list(df_snapshots[df_snapshots['Block Height']> 11659570]['Block Height'])\n",
    "\n",
    "list_of_list = []\n",
    "\n",
    "for matrix_name in dict_stack_matrix.keys():\n",
    "\n",
    "\n",
    "    for ind in range(dict_stack_matrix[matrix_name].shape[-1] - 1):\n",
    "\n",
    "        G_1 = nx.from_numpy_array(dict_stack_matrix[matrix_name][:,:,ind])\n",
    "        G_2 = nx.from_numpy_array(dict_stack_matrix[matrix_name][:,:,ind+1])\n",
    "\n",
    "        ## jaccard similarity \n",
    "        coef = jaccard_similarity(G_1.edges(), G_2.edges())\n",
    "\n",
    "        ## snapshot \n",
    "        snap = snapshot_list[ind+1]\n",
    "\n",
    "        list_of_list.append([matrix_name, str(snap), coef])"
   ]
  },
  {
   "cell_type": "code",
   "execution_count": 221,
   "metadata": {},
   "outputs": [],
   "source": [
    "df_jaccard_similarity = pd.DataFrame(list_of_list, columns=['wallet_grouping', 'block_height', 'jaccard_similarity'])"
   ]
  },
  {
   "cell_type": "code",
   "execution_count": 269,
   "metadata": {},
   "outputs": [
    {
     "data": {
      "image/png": "[encoded data removed]",
      "text/plain": [
       "<Figure size 432x288 with 1 Axes>"
      ]
     },
     "metadata": {},
     "output_type": "display_data"
    }
   ],
   "source": [
    "import seaborn as sns\n",
    "import matplotlib.pyplot as plt\n",
    "\n",
    "# Set the style and context of the plot\n",
    "sns.set_style('whitegrid')\n",
    "sns.set_context('notebook')\n",
    "\n",
    "# Create the line plot\n",
    "sns.lineplot(x='block_height', y='jaccard_similarity', hue='wallet_grouping', data=df_jaccard_similarity)\n",
    "\n",
    "# Set the title and axes labels\n",
    "plt.title('Jaccard Similarity over Time for Different Wallet Groupings')\n",
    "plt.xlabel('Block Height')\n",
    "plt.ylabel('Jaccard Similarity')\n",
    "\n",
    "# move the legend outside of the plot\n",
    "# plt.legend(bbox_to_anchor=(1.05, 1), loc='upper left')\n",
    "\n",
    "# rotate the x-axis labels\n",
    "plt.xticks(rotation=90)\n",
    "\n",
    "# set the y-axis limits\n",
    "plt.ylim(0, 1.05)\n",
    "\n",
    "# save \n",
    "plt.savefig(\"outputs/poster_presentation/jaccard_over_time_address_groupings.png\", dpi=500, bbox_inches='tight')\n",
    "\n",
    "\n",
    "# Show the plot\n",
    "plt.show()"
   ]
  },
  {
   "cell_type": "code",
   "execution_count": 164,
   "metadata": {},
   "outputs": [
    {
     "data": {
      "application/vnd.plotly.v1+json": {
       "config": {
        "plotlyServerURL": "https://plot.ly"
       },
       "data": [
        {
         "hovertemplate": "Block Height=%{x}<br>Jaccard Similarity=%{y}<extra></extra>",
         "legendgroup": "",
         "line": {
          "color": "#636efa",
          "dash": "solid"
         },
         "marker": {
          "symbol": "circle"
         },
         "mode": "lines",
         "name": "",
         "orientation": "v",
         "showlegend": false,
         "type": "scatter",
         "x": [
          "12043054",
          "12244515",
          "12438842",
          "12638919",
          "12831436",
          "13029639",
          "13230157",
          "13422506",
          "13620205",
          "13809597",
          "14009885",
          "14210564",
          "14391029",
          "14589816",
          "14779829",
          "14967365"
         ],
         "xaxis": "x",
         "y": [
          1,
          0.609,
          0.957,
          0.517,
          0.696,
          0.895,
          0.739,
          0.875,
          0.957,
          0.913,
          0.826,
          1,
          0.952,
          1,
          0.952,
          0.833
         ],
         "yaxis": "y"
        }
       ],
       "layout": {
        "autosize": true,
        "legend": {
         "tracegroupgap": 0
        },
        "template": {
         "data": {
          "bar": [
           {
            "error_x": {
             "color": "#2a3f5f"
            },
            "error_y": {
             "color": "#2a3f5f"
            },
            "marker": {
             "line": {
              "color": "#E5ECF6",
              "width": 0.5
             },
             "pattern": {
              "fillmode": "overlay",
              "size": 10,
              "solidity": 0.2
             }
            },
            "type": "bar"
           }
          ],
          "barpolar": [
           {
            "marker": {
             "line": {
              "color": "#E5ECF6",
              "width": 0.5
             },
             "pattern": {
              "fillmode": "overlay",
              "size": 10,
              "solidity": 0.2
             }
            },
            "type": "barpolar"
           }
          ],
          "carpet": [
           {
            "aaxis": {
             "endlinecolor": "#2a3f5f",
             "gridcolor": "white",
             "linecolor": "white",
             "minorgridcolor": "white",
             "startlinecolor": "#2a3f5f"
            },
            "baxis": {
             "endlinecolor": "#2a3f5f",
             "gridcolor": "white",
             "linecolor": "white",
             "minorgridcolor": "white",
             "startlinecolor": "#2a3f5f"
            },
            "type": "carpet"
           }
          ],
          "choropleth": [
           {
            "colorbar": {
             "outlinewidth": 0,
             "ticks": ""
            },
            "type": "choropleth"
           }
          ],
          "contour": [
           {
            "colorbar": {
             "outlinewidth": 0,
             "ticks": ""
            },
            "colorscale": [
             [
              0,
              "#0d0887"
             ],
             [
              0.1111111111111111,
              "#46039f"
             ],
             [
              0.2222222222222222,
              "#7201a8"
             ],
             [
              0.3333333333333333,
              "#9c179e"
             ],
             [
              0.4444444444444444,
              "#bd3786"
             ],
             [
              0.5555555555555556,
              "#d8576b"
             ],
             [
              0.6666666666666666,
              "#ed7953"
             ],
             [
              0.7777777777777778,
              "#fb9f3a"
             ],
             [
              0.8888888888888888,
              "#fdca26"
             ],
             [
              1,
              "#f0f921"
             ]
            ],
            "type": "contour"
           }
          ],
          "contourcarpet": [
           {
            "colorbar": {
             "outlinewidth": 0,
             "ticks": ""
            },
            "type": "contourcarpet"
           }
          ],
          "heatmap": [
           {
            "colorbar": {
             "outlinewidth": 0,
             "ticks": ""
            },
            "colorscale": [
             [
              0,
              "#0d0887"
             ],
             [
              0.1111111111111111,
              "#46039f"
             ],
             [
              0.2222222222222222,
              "#7201a8"
             ],
             [
              0.3333333333333333,
              "#9c179e"
             ],
             [
              0.4444444444444444,
              "#bd3786"
             ],
             [
              0.5555555555555556,
              "#d8576b"
             ],
             [
              0.6666666666666666,
              "#ed7953"
             ],
             [
              0.7777777777777778,
              "#fb9f3a"
             ],
             [
              0.8888888888888888,
              "#fdca26"
             ],
             [
              1,
              "#f0f921"
             ]
            ],
            "type": "heatmap"
           }
          ],
          "heatmapgl": [
           {
            "colorbar": {
             "outlinewidth": 0,
             "ticks": ""
            },
            "colorscale": [
             [
              0,
              "#0d0887"
             ],
             [
              0.1111111111111111,
              "#46039f"
             ],
             [
              0.2222222222222222,
              "#7201a8"
             ],
             [
              0.3333333333333333,
              "#9c179e"
             ],
             [
              0.4444444444444444,
              "#bd3786"
             ],
             [
              0.5555555555555556,
              "#d8576b"
             ],
             [
              0.6666666666666666,
              "#ed7953"
             ],
             [
              0.7777777777777778,
              "#fb9f3a"
             ],
             [
              0.8888888888888888,
              "#fdca26"
             ],
             [
              1,
              "#f0f921"
             ]
            ],
            "type": "heatmapgl"
           }
          ],
          "histogram": [
           {
            "marker": {
             "pattern": {
              "fillmode": "overlay",
              "size": 10,
              "solidity": 0.2
             }
            },
            "type": "histogram"
           }
          ],
          "histogram2d": [
           {
            "colorbar": {
             "outlinewidth": 0,
             "ticks": ""
            },
            "colorscale": [
             [
              0,
              "#0d0887"
             ],
             [
              0.1111111111111111,
              "#46039f"
             ],
             [
              0.2222222222222222,
              "#7201a8"
             ],
             [
              0.3333333333333333,
              "#9c179e"
             ],
             [
              0.4444444444444444,
              "#bd3786"
             ],
             [
              0.5555555555555556,
              "#d8576b"
             ],
             [
              0.6666666666666666,
              "#ed7953"
             ],
             [
              0.7777777777777778,
              "#fb9f3a"
             ],
             [
              0.8888888888888888,
              "#fdca26"
             ],
             [
              1,
              "#f0f921"
             ]
            ],
            "type": "histogram2d"
           }
          ],
          "histogram2dcontour": [
           {
            "colorbar": {
             "outlinewidth": 0,
             "ticks": ""
            },
            "colorscale": [
             [
              0,
              "#0d0887"
             ],
             [
              0.1111111111111111,
              "#46039f"
             ],
             [
              0.2222222222222222,
              "#7201a8"
             ],
             [
              0.3333333333333333,
              "#9c179e"
             ],
             [
              0.4444444444444444,
              "#bd3786"
             ],
             [
              0.5555555555555556,
              "#d8576b"
             ],
             [
              0.6666666666666666,
              "#ed7953"
             ],
             [
              0.7777777777777778,
              "#fb9f3a"
             ],
             [
              0.8888888888888888,
              "#fdca26"
             ],
             [
              1,
              "#f0f921"
             ]
            ],
            "type": "histogram2dcontour"
           }
          ],
          "mesh3d": [
           {
            "colorbar": {
             "outlinewidth": 0,
             "ticks": ""
            },
            "type": "mesh3d"
           }
          ],
          "parcoords": [
           {
            "line": {
             "colorbar": {
              "outlinewidth": 0,
              "ticks": ""
             }
            },
            "type": "parcoords"
           }
          ],
          "pie": [
           {
            "automargin": true,
            "type": "pie"
           }
          ],
          "scatter": [
           {
            "fillpattern": {
             "fillmode": "overlay",
             "size": 10,
             "solidity": 0.2
            },
            "type": "scatter"
           }
          ],
          "scatter3d": [
           {
            "line": {
             "colorbar": {
              "outlinewidth": 0,
              "ticks": ""
             }
            },
            "marker": {
             "colorbar": {
              "outlinewidth": 0,
              "ticks": ""
             }
            },
            "type": "scatter3d"
           }
          ],
          "scattercarpet": [
           {
            "marker": {
             "colorbar": {
              "outlinewidth": 0,
              "ticks": ""
             }
            },
            "type": "scattercarpet"
           }
          ],
          "scattergeo": [
           {
            "marker": {
             "colorbar": {
              "outlinewidth": 0,
              "ticks": ""
             }
            },
            "type": "scattergeo"
           }
          ],
          "scattergl": [
           {
            "marker": {
             "colorbar": {
              "outlinewidth": 0,
              "ticks": ""
             }
            },
            "type": "scattergl"
           }
          ],
          "scattermapbox": [
           {
            "marker": {
             "colorbar": {
              "outlinewidth": 0,
              "ticks": ""
             }
            },
            "type": "scattermapbox"
           }
          ],
          "scatterpolar": [
           {
            "marker": {
             "colorbar": {
              "outlinewidth": 0,
              "ticks": ""
             }
            },
            "type": "scatterpolar"
           }
          ],
          "scatterpolargl": [
           {
            "marker": {
             "colorbar": {
              "outlinewidth": 0,
              "ticks": ""
             }
            },
            "type": "scatterpolargl"
           }
          ],
          "scatterternary": [
           {
            "marker": {
             "colorbar": {
              "outlinewidth": 0,
              "ticks": ""
             }
            },
            "type": "scatterternary"
           }
          ],
          "surface": [
           {
            "colorbar": {
             "outlinewidth": 0,
             "ticks": ""
            },
            "colorscale": [
             [
              0,
              "#0d0887"
             ],
             [
              0.1111111111111111,
              "#46039f"
             ],
             [
              0.2222222222222222,
              "#7201a8"
             ],
             [
              0.3333333333333333,
              "#9c179e"
             ],
             [
              0.4444444444444444,
              "#bd3786"
             ],
             [
              0.5555555555555556,
              "#d8576b"
             ],
             [
              0.6666666666666666,
              "#ed7953"
             ],
             [
              0.7777777777777778,
              "#fb9f3a"
             ],
             [
              0.8888888888888888,
              "#fdca26"
             ],
             [
              1,
              "#f0f921"
             ]
            ],
            "type": "surface"
           }
          ],
          "table": [
           {
            "cells": {
             "fill": {
              "color": "#EBF0F8"
             },
             "line": {
              "color": "white"
             }
            },
            "header": {
             "fill": {
              "color": "#C8D4E3"
             },
             "line": {
              "color": "white"
             }
            },
            "type": "table"
           }
          ]
         },
         "layout": {
          "annotationdefaults": {
           "arrowcolor": "#2a3f5f",
           "arrowhead": 0,
           "arrowwidth": 1
          },
          "autotypenumbers": "strict",
          "coloraxis": {
           "colorbar": {
            "outlinewidth": 0,
            "ticks": ""
           }
          },
          "colorscale": {
           "diverging": [
            [
             0,
             "#8e0152"
            ],
            [
             0.1,
             "#c51b7d"
            ],
            [
             0.2,
             "#de77ae"
            ],
            [
             0.3,
             "#f1b6da"
            ],
            [
             0.4,
             "#fde0ef"
            ],
            [
             0.5,
             "#f7f7f7"
            ],
            [
             0.6,
             "#e6f5d0"
            ],
            [
             0.7,
             "#b8e186"
            ],
            [
             0.8,
             "#7fbc41"
            ],
            [
             0.9,
             "#4d9221"
            ],
            [
             1,
             "#276419"
            ]
           ],
           "sequential": [
            [
             0,
             "#0d0887"
            ],
            [
             0.1111111111111111,
             "#46039f"
            ],
            [
             0.2222222222222222,
             "#7201a8"
            ],
            [
             0.3333333333333333,
             "#9c179e"
            ],
            [
             0.4444444444444444,
             "#bd3786"
            ],
            [
             0.5555555555555556,
             "#d8576b"
            ],
            [
             0.6666666666666666,
             "#ed7953"
            ],
            [
             0.7777777777777778,
             "#fb9f3a"
            ],
            [
             0.8888888888888888,
             "#fdca26"
            ],
            [
             1,
             "#f0f921"
            ]
           ],
           "sequentialminus": [
            [
             0,
             "#0d0887"
            ],
            [
             0.1111111111111111,
             "#46039f"
            ],
            [
             0.2222222222222222,
             "#7201a8"
            ],
            [
             0.3333333333333333,
             "#9c179e"
            ],
            [
             0.4444444444444444,
             "#bd3786"
            ],
            [
             0.5555555555555556,
             "#d8576b"
            ],
            [
             0.6666666666666666,
             "#ed7953"
            ],
            [
             0.7777777777777778,
             "#fb9f3a"
            ],
            [
             0.8888888888888888,
             "#fdca26"
            ],
            [
             1,
             "#f0f921"
            ]
           ]
          },
          "colorway": [
           "#636efa",
           "#EF553B",
           "#00cc96",
           "#ab63fa",
           "#FFA15A",
           "#19d3f3",
           "#FF6692",
           "#B6E880",
           "#FF97FF",
           "#FECB52"
          ],
          "font": {
           "color": "#2a3f5f"
          },
          "geo": {
           "bgcolor": "white",
           "lakecolor": "white",
           "landcolor": "#E5ECF6",
           "showlakes": true,
           "showland": true,
           "subunitcolor": "white"
          },
          "hoverlabel": {
           "align": "left"
          },
          "hovermode": "closest",
          "mapbox": {
           "style": "light"
          },
          "paper_bgcolor": "white",
          "plot_bgcolor": "#E5ECF6",
          "polar": {
           "angularaxis": {
            "gridcolor": "white",
            "linecolor": "white",
            "ticks": ""
           },
           "bgcolor": "#E5ECF6",
           "radialaxis": {
            "gridcolor": "white",
            "linecolor": "white",
            "ticks": ""
           }
          },
          "scene": {
           "xaxis": {
            "backgroundcolor": "#E5ECF6",
            "gridcolor": "white",
            "gridwidth": 2,
            "linecolor": "white",
            "showbackground": true,
            "ticks": "",
            "zerolinecolor": "white"
           },
           "yaxis": {
            "backgroundcolor": "#E5ECF6",
            "gridcolor": "white",
            "gridwidth": 2,
            "linecolor": "white",
            "showbackground": true,
            "ticks": "",
            "zerolinecolor": "white"
           },
           "zaxis": {
            "backgroundcolor": "#E5ECF6",
            "gridcolor": "white",
            "gridwidth": 2,
            "linecolor": "white",
            "showbackground": true,
            "ticks": "",
            "zerolinecolor": "white"
           }
          },
          "shapedefaults": {
           "line": {
            "color": "#2a3f5f"
           }
          },
          "ternary": {
           "aaxis": {
            "gridcolor": "white",
            "linecolor": "white",
            "ticks": ""
           },
           "baxis": {
            "gridcolor": "white",
            "linecolor": "white",
            "ticks": ""
           },
           "bgcolor": "#E5ECF6",
           "caxis": {
            "gridcolor": "white",
            "linecolor": "white",
            "ticks": ""
           }
          },
          "title": {
           "x": 0.05
          },
          "xaxis": {
           "automargin": true,
           "gridcolor": "white",
           "linecolor": "white",
           "ticks": "",
           "title": {
            "standoff": 15
           },
           "zerolinecolor": "white",
           "zerolinewidth": 2
          },
          "yaxis": {
           "automargin": true,
           "gridcolor": "white",
           "linecolor": "white",
           "ticks": "",
           "title": {
            "standoff": 15
           },
           "zerolinecolor": "white",
           "zerolinewidth": 2
          }
         }
        },
        "title": {
         "text": "Jaccard Similarity over Block Heights"
        },
        "xaxis": {
         "anchor": "y",
         "autorange": true,
         "domain": [
          0,
          1
         ],
         "range": [
          0,
          15
         ],
         "title": {
          "text": "Block Height"
         },
         "type": "category"
        },
        "yaxis": {
         "anchor": "x",
         "domain": [
          0,
          1
         ],
         "range": [
          0,
          1.1
         ],
         "title": {
          "text": "Jaccard Similarity"
         },
         "type": "linear"
        }
       }
      },
      "image/png": "[encoded data removed]",
      "text/html": [
       "<div>                            <div id=\"a3804026-31b2-4d5c-8474-e8574da456c9\" class=\"plotly-graph-div\" style=\"height:525px; width:100%;\"></div>            <script type=\"text/javascript\">                require([\"plotly\"], function(Plotly) {                    window.PLOTLYENV=window.PLOTLYENV || {};                                    if (document.getElementById(\"a3804026-31b2-4d5c-8474-e8574da456c9\")) {                    Plotly.newPlot(                        \"a3804026-31b2-4d5c-8474-e8574da456c9\",                        [{\"hovertemplate\":\"Block Height=%{x}<br>Jaccard Similarity=%{y}<extra></extra>\",\"legendgroup\":\"\",\"line\":{\"color\":\"#636efa\",\"dash\":\"solid\"},\"marker\":{\"symbol\":\"circle\"},\"mode\":\"lines\",\"name\":\"\",\"orientation\":\"v\",\"showlegend\":false,\"x\":[\"12043054\",\"12244515\",\"12438842\",\"12638919\",\"12831436\",\"13029639\",\"13230157\",\"13422506\",\"13620205\",\"13809597\",\"14009885\",\"14210564\",\"14391029\",\"14589816\",\"14779829\",\"14967365\"],\"xaxis\":\"x\",\"y\":[1.0,0.609,0.957,0.517,0.696,0.895,0.739,0.875,0.957,0.913,0.826,1.0,0.952,1.0,0.952,0.833],\"yaxis\":\"y\",\"type\":\"scatter\"}],                        {\"template\":{\"data\":{\"histogram2dcontour\":[{\"type\":\"histogram2dcontour\",\"colorbar\":{\"outlinewidth\":0,\"ticks\":\"\"},\"colorscale\":[[0.0,\"#0d0887\"],[0.1111111111111111,\"#46039f\"],[0.2222222222222222,\"#7201a8\"],[0.3333333333333333,\"#9c179e\"],[0.4444444444444444,\"#bd3786\"],[0.5555555555555556,\"#d8576b\"],[0.6666666666666666,\"#ed7953\"],[0.7777777777777778,\"#fb9f3a\"],[0.8888888888888888,\"#fdca26\"],[1.0,\"#f0f921\"]]}],\"choropleth\":[{\"type\":\"choropleth\",\"colorbar\":{\"outlinewidth\":0,\"ticks\":\"\"}}],\"histogram2d\":[{\"type\":\"histogram2d\",\"colorbar\":{\"outlinewidth\":0,\"ticks\":\"\"},\"colorscale\":[[0.0,\"#0d0887\"],[0.1111111111111111,\"#46039f\"],[0.2222222222222222,\"#7201a8\"],[0.3333333333333333,\"#9c179e\"],[0.4444444444444444,\"#bd3786\"],[0.5555555555555556,\"#d8576b\"],[0.6666666666666666,\"#ed7953\"],[0.7777777777777778,\"#fb9f3a\"],[0.8888888888888888,\"#fdca26\"],[1.0,\"#f0f921\"]]}],\"heatmap\":[{\"type\":\"heatmap\",\"colorbar\":{\"outlinewidth\":0,\"ticks\":\"\"},\"colorscale\":[[0.0,\"#0d0887\"],[0.1111111111111111,\"#46039f\"],[0.2222222222222222,\"#7201a8\"],[0.3333333333333333,\"#9c179e\"],[0.4444444444444444,\"#bd3786\"],[0.5555555555555556,\"#d8576b\"],[0.6666666666666666,\"#ed7953\"],[0.7777777777777778,\"#fb9f3a\"],[0.8888888888888888,\"#fdca26\"],[1.0,\"#f0f921\"]]}],\"heatmapgl\":[{\"type\":\"heatmapgl\",\"colorbar\":{\"outlinewidth\":0,\"ticks\":\"\"},\"colorscale\":[[0.0,\"#0d0887\"],[0.1111111111111111,\"#46039f\"],[0.2222222222222222,\"#7201a8\"],[0.3333333333333333,\"#9c179e\"],[0.4444444444444444,\"#bd3786\"],[0.5555555555555556,\"#d8576b\"],[0.6666666666666666,\"#ed7953\"],[0.7777777777777778,\"#fb9f3a\"],[0.8888888888888888,\"#fdca26\"],[1.0,\"#f0f921\"]]}],\"contourcarpet\":[{\"type\":\"contourcarpet\",\"colorbar\":{\"outlinewidth\":0,\"ticks\":\"\"}}],\"contour\":[{\"type\":\"contour\",\"colorbar\":{\"outlinewidth\":0,\"ticks\":\"\"},\"colorscale\":[[0.0,\"#0d0887\"],[0.1111111111111111,\"#46039f\"],[0.2222222222222222,\"#7201a8\"],[0.3333333333333333,\"#9c179e\"],[0.4444444444444444,\"#bd3786\"],[0.5555555555555556,\"#d8576b\"],[0.6666666666666666,\"#ed7953\"],[0.7777777777777778,\"#fb9f3a\"],[0.8888888888888888,\"#fdca26\"],[1.0,\"#f0f921\"]]}],\"surface\":[{\"type\":\"surface\",\"colorbar\":{\"outlinewidth\":0,\"ticks\":\"\"},\"colorscale\":[[0.0,\"#0d0887\"],[0.1111111111111111,\"#46039f\"],[0.2222222222222222,\"#7201a8\"],[0.3333333333333333,\"#9c179e\"],[0.4444444444444444,\"#bd3786\"],[0.5555555555555556,\"#d8576b\"],[0.6666666666666666,\"#ed7953\"],[0.7777777777777778,\"#fb9f3a\"],[0.8888888888888888,\"#fdca26\"],[1.0,\"#f0f921\"]]}],\"mesh3d\":[{\"type\":\"mesh3d\",\"colorbar\":{\"outlinewidth\":0,\"ticks\":\"\"}}],\"scatter\":[{\"fillpattern\":{\"fillmode\":\"overlay\",\"size\":10,\"solidity\":0.2},\"type\":\"scatter\"}],\"parcoords\":[{\"type\":\"parcoords\",\"line\":{\"colorbar\":{\"outlinewidth\":0,\"ticks\":\"\"}}}],\"scatterpolargl\":[{\"type\":\"scatterpolargl\",\"marker\":{\"colorbar\":{\"outlinewidth\":0,\"ticks\":\"\"}}}],\"bar\":[{\"error_x\":{\"color\":\"#2a3f5f\"},\"error_y\":{\"color\":\"#2a3f5f\"},\"marker\":{\"line\":{\"color\":\"#E5ECF6\",\"width\":0.5},\"pattern\":{\"fillmode\":\"overlay\",\"size\":10,\"solidity\":0.2}},\"type\":\"bar\"}],\"scattergeo\":[{\"type\":\"scattergeo\",\"marker\":{\"colorbar\":{\"outlinewidth\":0,\"ticks\":\"\"}}}],\"scatterpolar\":[{\"type\":\"scatterpolar\",\"marker\":{\"colorbar\":{\"outlinewidth\":0,\"ticks\":\"\"}}}],\"histogram\":[{\"marker\":{\"pattern\":{\"fillmode\":\"overlay\",\"size\":10,\"solidity\":0.2}},\"type\":\"histogram\"}],\"scattergl\":[{\"type\":\"scattergl\",\"marker\":{\"colorbar\":{\"outlinewidth\":0,\"ticks\":\"\"}}}],\"scatter3d\":[{\"type\":\"scatter3d\",\"line\":{\"colorbar\":{\"outlinewidth\":0,\"ticks\":\"\"}},\"marker\":{\"colorbar\":{\"outlinewidth\":0,\"ticks\":\"\"}}}],\"scattermapbox\":[{\"type\":\"scattermapbox\",\"marker\":{\"colorbar\":{\"outlinewidth\":0,\"ticks\":\"\"}}}],\"scatterternary\":[{\"type\":\"scatterternary\",\"marker\":{\"colorbar\":{\"outlinewidth\":0,\"ticks\":\"\"}}}],\"scattercarpet\":[{\"type\":\"scattercarpet\",\"marker\":{\"colorbar\":{\"outlinewidth\":0,\"ticks\":\"\"}}}],\"carpet\":[{\"aaxis\":{\"endlinecolor\":\"#2a3f5f\",\"gridcolor\":\"white\",\"linecolor\":\"white\",\"minorgridcolor\":\"white\",\"startlinecolor\":\"#2a3f5f\"},\"baxis\":{\"endlinecolor\":\"#2a3f5f\",\"gridcolor\":\"white\",\"linecolor\":\"white\",\"minorgridcolor\":\"white\",\"startlinecolor\":\"#2a3f5f\"},\"type\":\"carpet\"}],\"table\":[{\"cells\":{\"fill\":{\"color\":\"#EBF0F8\"},\"line\":{\"color\":\"white\"}},\"header\":{\"fill\":{\"color\":\"#C8D4E3\"},\"line\":{\"color\":\"white\"}},\"type\":\"table\"}],\"barpolar\":[{\"marker\":{\"line\":{\"color\":\"#E5ECF6\",\"width\":0.5},\"pattern\":{\"fillmode\":\"overlay\",\"size\":10,\"solidity\":0.2}},\"type\":\"barpolar\"}],\"pie\":[{\"automargin\":true,\"type\":\"pie\"}]},\"layout\":{\"autotypenumbers\":\"strict\",\"colorway\":[\"#636efa\",\"#EF553B\",\"#00cc96\",\"#ab63fa\",\"#FFA15A\",\"#19d3f3\",\"#FF6692\",\"#B6E880\",\"#FF97FF\",\"#FECB52\"],\"font\":{\"color\":\"#2a3f5f\"},\"hovermode\":\"closest\",\"hoverlabel\":{\"align\":\"left\"},\"paper_bgcolor\":\"white\",\"plot_bgcolor\":\"#E5ECF6\",\"polar\":{\"bgcolor\":\"#E5ECF6\",\"angularaxis\":{\"gridcolor\":\"white\",\"linecolor\":\"white\",\"ticks\":\"\"},\"radialaxis\":{\"gridcolor\":\"white\",\"linecolor\":\"white\",\"ticks\":\"\"}},\"ternary\":{\"bgcolor\":\"#E5ECF6\",\"aaxis\":{\"gridcolor\":\"white\",\"linecolor\":\"white\",\"ticks\":\"\"},\"baxis\":{\"gridcolor\":\"white\",\"linecolor\":\"white\",\"ticks\":\"\"},\"caxis\":{\"gridcolor\":\"white\",\"linecolor\":\"white\",\"ticks\":\"\"}},\"coloraxis\":{\"colorbar\":{\"outlinewidth\":0,\"ticks\":\"\"}},\"colorscale\":{\"sequential\":[[0.0,\"#0d0887\"],[0.1111111111111111,\"#46039f\"],[0.2222222222222222,\"#7201a8\"],[0.3333333333333333,\"#9c179e\"],[0.4444444444444444,\"#bd3786\"],[0.5555555555555556,\"#d8576b\"],[0.6666666666666666,\"#ed7953\"],[0.7777777777777778,\"#fb9f3a\"],[0.8888888888888888,\"#fdca26\"],[1.0,\"#f0f921\"]],\"sequentialminus\":[[0.0,\"#0d0887\"],[0.1111111111111111,\"#46039f\"],[0.2222222222222222,\"#7201a8\"],[0.3333333333333333,\"#9c179e\"],[0.4444444444444444,\"#bd3786\"],[0.5555555555555556,\"#d8576b\"],[0.6666666666666666,\"#ed7953\"],[0.7777777777777778,\"#fb9f3a\"],[0.8888888888888888,\"#fdca26\"],[1.0,\"#f0f921\"]],\"diverging\":[[0,\"#8e0152\"],[0.1,\"#c51b7d\"],[0.2,\"#de77ae\"],[0.3,\"#f1b6da\"],[0.4,\"#fde0ef\"],[0.5,\"#f7f7f7\"],[0.6,\"#e6f5d0\"],[0.7,\"#b8e186\"],[0.8,\"#7fbc41\"],[0.9,\"#4d9221\"],[1,\"#276419\"]]},\"xaxis\":{\"gridcolor\":\"white\",\"linecolor\":\"white\",\"ticks\":\"\",\"title\":{\"standoff\":15},\"zerolinecolor\":\"white\",\"automargin\":true,\"zerolinewidth\":2},\"yaxis\":{\"gridcolor\":\"white\",\"linecolor\":\"white\",\"ticks\":\"\",\"title\":{\"standoff\":15},\"zerolinecolor\":\"white\",\"automargin\":true,\"zerolinewidth\":2},\"scene\":{\"xaxis\":{\"backgroundcolor\":\"#E5ECF6\",\"gridcolor\":\"white\",\"linecolor\":\"white\",\"showbackground\":true,\"ticks\":\"\",\"zerolinecolor\":\"white\",\"gridwidth\":2},\"yaxis\":{\"backgroundcolor\":\"#E5ECF6\",\"gridcolor\":\"white\",\"linecolor\":\"white\",\"showbackground\":true,\"ticks\":\"\",\"zerolinecolor\":\"white\",\"gridwidth\":2},\"zaxis\":{\"backgroundcolor\":\"#E5ECF6\",\"gridcolor\":\"white\",\"linecolor\":\"white\",\"showbackground\":true,\"ticks\":\"\",\"zerolinecolor\":\"white\",\"gridwidth\":2}},\"shapedefaults\":{\"line\":{\"color\":\"#2a3f5f\"}},\"annotationdefaults\":{\"arrowcolor\":\"#2a3f5f\",\"arrowhead\":0,\"arrowwidth\":1},\"geo\":{\"bgcolor\":\"white\",\"landcolor\":\"#E5ECF6\",\"subunitcolor\":\"white\",\"showland\":true,\"showlakes\":true,\"lakecolor\":\"white\"},\"title\":{\"x\":0.05},\"mapbox\":{\"style\":\"light\"}}},\"xaxis\":{\"anchor\":\"y\",\"domain\":[0.0,1.0],\"title\":{\"text\":\"Block Height\"}},\"yaxis\":{\"anchor\":\"x\",\"domain\":[0.0,1.0],\"title\":{\"text\":\"Jaccard Similarity\"},\"range\":[0,1.1]},\"legend\":{\"tracegroupgap\":0},\"title\":{\"text\":\"Jaccard Similarity over Block Heights\"}},                        {\"responsive\": true}                    ).then(function(){\n",
       "                            \n",
       "var gd = document.getElementById('a3804026-31b2-4d5c-8474-e8574da456c9');\n",
       "var x = new MutationObserver(function (mutations, observer) {{\n",
       "        var display = window.getComputedStyle(gd).display;\n",
       "        if (!display || display === 'none') {{\n",
       "            console.log([gd, 'removed!']);\n",
       "            Plotly.purge(gd);\n",
       "            observer.disconnect();\n",
       "        }}\n",
       "}});\n",
       "\n",
       "// Listen for the removal of the full notebook cells\n",
       "var notebookContainer = gd.closest('#notebook-container');\n",
       "if (notebookContainer) {{\n",
       "    x.observe(notebookContainer, {childList: true});\n",
       "}}\n",
       "\n",
       "// Listen for the clearing of the current output cell\n",
       "var outputEl = gd.closest('.output');\n",
       "if (outputEl) {{\n",
       "    x.observe(outputEl, {childList: true});\n",
       "}}\n",
       "\n",
       "                        })                };                });            </script>        </div>"
      ]
     },
     "metadata": {},
     "output_type": "display_data"
    }
   ],
   "source": [
    "import plotly.express as px\n",
    "\n",
    "df_jaccard_similarity = pd.DataFrame(list(dict_jaccard_similarity.items()), columns=['block_height','jaccard_similarity'])\n",
    "\n",
    "# create the plot\n",
    "fig = px.line(df_jaccard_similarity, x='block_height', y='jaccard_similarity',\n",
    "              labels={'block_height': 'Block Height', 'jaccard_similarity': 'Jaccard Similarity'},\n",
    "              title='Jaccard Similarity over Block Heights')\n",
    "\n",
    "# set the y-axis range to 0-1\n",
    "fig.update_yaxes(range=[0, 1.1])\n",
    "\n",
    "# show the plot\n",
    "fig.show()"
   ]
  },
  {
   "cell_type": "code",
   "execution_count": 120,
   "metadata": {},
   "outputs": [
    {
     "name": "stdout",
     "output_type": "stream",
     "text": [
      "(11861210, 12043054) 0.875\n",
      "(12043054, 12244515) 0.6086956521739131\n",
      "(12244515, 12438842) 0.9565217391304348\n",
      "(12438842, 12638919) 0.41935483870967744\n",
      "(12638919, 12831436) 0.3448275862068966\n",
      "(12831436, 13029639) 0.8947368421052632\n",
      "(13029639, 13230157) 0.7391304347826086\n",
      "(13230157, 13422506) 0.875\n",
      "(13422506, 13620205) 0.9565217391304348\n",
      "(13620205, 13809597) 0.9130434782608695\n",
      "(13809597, 14009885) 0.75\n",
      "(14009885, 14210564) 1.0\n",
      "(14210564, 14391029) 0.9523809523809523\n",
      "(14391029, 14589816) 1.0\n",
      "(14589816, 14779829) 0.9523809523809523\n",
      "(14779829, 14967365) 0.5714285714285714\n"
     ]
    }
   ],
   "source": [
    "snapshots = list(edge_list_doc.keys())\n",
    "\n",
    "for ind in range(len(snapshots)-1): \n",
    "    \n",
    "    if ind == len(snapshots): \n",
    "        \n",
    "        break \n",
    "        \n",
    "    else: \n",
    "        \n",
    "        G_1 = nx.from_edgelist(edge_list_doc[snapshots[ind]])\n",
    "        G_2 = nx.from_edgelist(edge_list_doc[snapshots[ind+1]])\n",
    "    \n",
    "\n",
    "        # Compute the Jaccard similarity\n",
    "        nodes1 = set(G_1.edges())\n",
    "        nodes2 = set(G_2.edges())\n",
    "        jaccard1 = len(nodes1.intersection(nodes2)) / len(nodes1.union(nodes2))\n",
    "        \n",
    "        \n",
    "        print((snapshots[ind],snapshots[ind+1]), jaccard1)\n",
    "     \n",
    "\n"
   ]
  },
  {
   "cell_type": "markdown",
   "metadata": {},
   "source": [
    "# Network Metric to Analyse \n",
    "\n",
    "- **Clustering statistics** - Number of addresses: “Each data point refers to the totals observed up to a given block, with weekly frequency, and time “flows” from the bottom left to the top right of the panel.” ([Campajola et al., 2022, p. 2](zotero://select/library/items/RYAYFRFR))\n",
    "    \n",
    "- **Degree distributions** - “The degree of a node represents the number of counterparts that entity exchanges tokens with, and is typically considered a measure of importance within the network. What is particularly relevant is to consider the distribution of degrees, as its shape is a direct consequence of the way in which the networks form.” ([Campajola et al., 2022, p. 3](zotero://select/library/items/RYAYFRFR)) ([pdf](zotero://open-pdf/library/items/LMUZEWY6?page=3))\n",
    "    \n",
    "- **Core-periphery structure** - “This *[edit. core-periphery structure]* is a macroscopic property of the network, that presents a split between a minority of nodes (the “core”) with a strong connectivity between themselves and the remaining nodes of the network (the “periphery”) that are mostly connected to core nodes and have relatively few links to other peripheral nodes.” ([Campajola et al., 2022, p. 4](zotero://select/library/items/RYAYFRFR)) ([pdf](zotero://open-pdf/library/items/LMUZEWY6?page=4))\n",
    "    \n",
    "    - “weekly transaction networks time-series and then consider the size of the core group as a fraction of the total size of the network” ([Campajola et al., 2022, p. 4](zotero://select/library/items/RYAYFRFR)) ([pdf](zotero://open-pdf/library/items/LMUZEWY6?page=4))\n",
    "        \n",
    "    - Relative size is used to assess centralisation or decentralisation trend\n",
    "        \n",
    "- **Mining concentration** - “The Nakamoto index provides us with a measure of the system’s distance from a 51% attack” ([Campajola et al., 2022, p. 5](zotero://select/library/items/RYAYFRFR)) ([pdf](zotero://open-pdf/library/items/LMUZEWY6?page=5))\n",
    "    \n",
    "- **Wealth inequality and spatial distribution -** “We define as wealth the balance held by an entity (address or cluster of addresses) at a given point in time, representing the funds that they are entitled to spend according to the blockchain ledger.” ([Campajola et al., 2022, p. 6](zotero://select/library/items/RYAYFRFR))\n",
    "    \n",
    "    - Token distribution and Gini Coefficient"
   ]
  },
  {
   "cell_type": "markdown",
   "metadata": {},
   "source": [
    "### Quantify basic network metrics "
   ]
  },
  {
   "cell_type": "markdown",
   "metadata": {},
   "source": [
    "- The number of nodes and edges in the graph. This can give you a sense of the size and complexity of the graph."
   ]
  },
  {
   "cell_type": "code",
   "execution_count": null,
   "metadata": {},
   "outputs": [],
   "source": [
    "G.number_of_edges()\n",
    "G.number_of_nodes()"
   ]
  },
  {
   "cell_type": "markdown",
   "metadata": {},
   "source": [
    "- The degree distribution of the graph. This describes the number of connections (or \"degrees\") that each node has."
   ]
  },
  {
   "cell_type": "code",
   "execution_count": null,
   "metadata": {},
   "outputs": [],
   "source": [
    "## degree \n",
    "degrees = dict(G.degree())\n",
    "# Calculate the average degree of the graph\n",
    "avg_degree = sum(degrees.values()) / len(degrees)\n",
    "print(avg_degree)\n",
    "\n",
    "\n",
    "# Calculate the maximum degree of the graph\n",
    "max_degree = max(degrees.values())\n",
    "print(max_degree)\n",
    "\n",
    "# Calculate the minimum degree of the graph\n",
    "min_degree = min(degrees.values())\n",
    "print(min_degree)\n",
    "\n",
    "\n"
   ]
  },
  {
   "cell_type": "markdown",
   "metadata": {},
   "source": [
    "- The diameter and average shortest path length of the graph. The diameter is the longest shortest path between any two nodes in the graph, and the average shortest path length is the average of all the shortest paths in the graph. These statistics can give you a sense of how \"connected\" the graph is."
   ]
  },
  {
   "cell_type": "code",
   "execution_count": null,
   "metadata": {},
   "outputs": [],
   "source": [
    "# diameter\n",
    "nx.diameter(G)\n",
    "\n",
    "# average shortest path\n",
    "nx.average_shortest_path_length(G)\n"
   ]
  },
  {
   "cell_type": "markdown",
   "metadata": {},
   "source": [
    "- The density of the graph. This is the ratio of the number of edges in the graph to the maximum number of edges that the graph could have. A dense graph has a high number of edges, while a sparse graph has a low number of edges."
   ]
  },
  {
   "cell_type": "code",
   "execution_count": null,
   "metadata": {},
   "outputs": [],
   "source": [
    "nx.density(G)"
   ]
  },
  {
   "cell_type": "markdown",
   "metadata": {},
   "source": [
    "- The degree centrality and betweenness centrality of the nodes in the graph. The degree centrality of a node is a measure of how many connections it has, and the betweenness centrality of a node is a measure of how important it is for connecting other nodes in the graph"
   ]
  },
  {
   "cell_type": "code",
   "execution_count": null,
   "metadata": {},
   "outputs": [],
   "source": [
    "# centrality \n",
    "g_degree_centrality = dict(nx.degree_centrality(G))\n",
    "sum(g_degree_centrality.values())/ len(g_degree_centrality)\n",
    "\n",
    "\n",
    "# betweeness \n",
    "g_betweeness_centrality = dict(nx.betweenness_centrality(G))\n",
    "sum(g_betweeness_centrality.values())/ len(g_betweeness_centrality)\n",
    "\n"
   ]
  },
  {
   "cell_type": "markdown",
   "metadata": {},
   "source": [
    "- clustering coefficient - Algorithms to characterize the number of triangles in a graph."
   ]
  },
  {
   "cell_type": "code",
   "execution_count": null,
   "metadata": {},
   "outputs": [],
   "source": [
    "g_triangles = dict(nx.triangles(G))\n",
    "sum(g_triangles.values())/ len(g_triangles)\n",
    "\n",
    "g_clustering = dict(nx.clustering(G))\n",
    "sum(g_clustering.values())/ len(g_clustering)\n",
    "\n"
   ]
  },
  {
   "cell_type": "markdown",
   "metadata": {},
   "source": [
    "### repeat for other snapshot "
   ]
  },
  {
   "cell_type": "code",
   "execution_count": null,
   "metadata": {},
   "outputs": [],
   "source": [
    "# imports\n",
    "\n",
    "import pandas as pd\n",
    "import numpy as np\n",
    "\n",
    "import dask.dataframe as dd\n",
    "import dask.array as da\n",
    "import dask.bag as db\n",
    "import itertools\n",
    "\n",
    "from os.path import join\n",
    "from scipy.stats import hypergeom \n",
    "from statsmodels.stats.multitest import multipletests as m_tests\n",
    "import matplotlib.pyplot as plt\n",
    "from ast import literal_eval\n",
    "import networkx as nx\n",
    "\n",
    "\n",
    "summary_stats = {}\n",
    "\n",
    "\n",
    "progress = 0 \n",
    "\n",
    "# snapshot selection \n",
    "df_snapshot = pd.read_csv('assets/snapshot_selection.csv')\n",
    "\n",
    "# address selection \n",
    "df_addresses = pd.read_csv('assets/df_final_token_selection_20221209.csv')\n",
    "\n",
    "# burner addresses \n",
    "# remove burner addresses \n",
    "known_burner_addresses = ['0x0000000000000000000000000000000000000000',\n",
    "                        '0x0000000000000000000000000000000000000000',\n",
    "                        '0x0000000000000000000000000000000000000001',\n",
    "                        '0x0000000000000000000000000000000000000002',\n",
    "                        '0x0000000000000000000000000000000000000003',\n",
    "                        '0x0000000000000000000000000000000000000004',\n",
    "                        '0x0000000000000000000000000000000000000005',\n",
    "                        '0x0000000000000000000000000000000000000006',\n",
    "                        '0x0000000000000000000000000000000000000007',\n",
    "                        '0x000000000000000000000000000000000000dead']\n",
    "\n",
    "\n",
    "\n",
    "#### functions ####\n",
    "\n",
    "def main(address1, address2, pop_size):\n",
    "\n",
    "    # get unique addresses \n",
    "    token1_uniqa = ddf[ddf.token_address == address1].address.unique()\n",
    "    token2_uniqa = ddf[ddf.token_address == address2].address.unique()\n",
    "\n",
    "    # calcluate intersection \n",
    "    token1_token2_uniqa_intersection = np.intersect1d(token1_uniqa,token2_uniqa, assume_unique=True)\n",
    "\n",
    "    # calcualte number \n",
    "    len_token1 = len(token1_uniqa)\n",
    "    len_token2 = len(token2_uniqa)\n",
    "    len_intersection = len(token1_token2_uniqa_intersection)\n",
    "\n",
    "    # calculate hyptoge\n",
    "\n",
    "    # Define the parameters of the distribution\n",
    "    M = pop_size  # population size\n",
    "    n = len_token1  # number of draws\n",
    "    K = len_token2  # number of successes in population\n",
    "    x = len_intersection    # number of successes in draws\n",
    "\n",
    "    # Compute the cumulative probability of obtaining at most x successes\n",
    "    pvalue = 1 - hypergeom.cdf(x, M, n, K)\n",
    "    \n",
    "    # print(f'token_address {address1} has {len_token1} Unique Addresses | token_address {address2} has {len_token2} Unique Addresses | Intersection: {len_intersection} | p value: {pvalue}')\n",
    "\n",
    "    return pvalue\n",
    "\n",
    "###################\n",
    "\n",
    "\n",
    "for snapshot in df_snapshot['Block Height']:\n",
    "\n",
    "    # Info\n",
    "    items_left = len(df_snapshot) - progress\n",
    "    progress += 1\n",
    "    print(\n",
    "        f\"Current Snapshot: {snapshot} || Items processed: {progress} || Items left: { (items_left) }\"\n",
    "    )\n",
    "\n",
    "    ## formating of data\n",
    "    # load data\n",
    "    ddf = dd.read_csv(join(path, f'token_balance_lookup_tables/token_holder_snapshot_balance_{snapshot}.csv'))\n",
    "\n",
    "    # filter data \n",
    "    ddf = ddf[ddf.value > 0]\n",
    "    ddf = ddf[ddf.token_address.isin(df_addresses.address) == True]\n",
    "\n",
    "    # remove known burner addresses \n",
    "    ddf = ddf[ddf.address.isin(known_burner_addresses) == False]\n",
    "\n",
    "    # population size\n",
    "    pop_size = len(ddf.address.unique()) \n",
    "    p_dict = {}\n",
    "\n",
    "    # reduce address list \n",
    "    \n",
    "    present_addresses = list(ddf.token_address.unique().compute())\n",
    "\n",
    "    if len(present_addresses) == 1:\n",
    "\n",
    "        print('One address only')\n",
    "        stats = {'nodes': np.nan, 'possible_nodes': len(present_addresses), 'edges': np.nan, 'avg_degree_path': np.nan, 'min_degree_path': np.nan, 'max_degree_path': np.nan,'diameter': np.nan, 'avg_shortest_path': np.nan, 'density': np.nan, 'degree_centrality_avg': np.nan, 'degree_centrality_min': np.nan, 'degree_centrality_max': np.nan, 'betweeness_centrality_avg': np.nan, 'betweeness_centrality_min': np.nan, 'betweeness_centrality_max': np.nan, 'triangles_avg': np.nan, 'triangles_min': np.nan, 'triangles_max': np.nan}\n",
    "\n",
    "\n",
    "    else:\n",
    "\n",
    "        try:\n",
    "            # iterations \n",
    "            for combination in itertools.combinations(present_addresses, 2): \n",
    "\n",
    "                pvalue = main(combination[0],combination[1], pop_size)\n",
    "\n",
    "                p_dict[combination] = pvalue\n",
    "\n",
    "            ## Evaluate pvalues\n",
    "            # store pvalues \n",
    "            df_pvalues = pd.DataFrame.from_dict(p_dict, orient='index')\n",
    "            df_pvalues.reset_index(inplace=True)\n",
    "            df_pvalues.columns =  ['combination', 'p_value']\n",
    "\n",
    "            # value test \n",
    "            m_test = m_tests(pvals=df_pvalues.p_value, alpha=0.01, method='bonferroni')\n",
    "            df_pvalues['m_test_result'] = m_test[0]\n",
    "            df_pvalues['m_test_value'] = m_test[1]\n",
    "            df_pvalues.to_csv(join(path, f'output/pvalues_{snapshot}.csv'))\n",
    "\n",
    "\n",
    "            ## Build graph\n",
    "            # filter df  \n",
    "            df_pvalues_validated = df_pvalues[df_pvalues.m_test_result == True]\n",
    "\n",
    "            # Create an empty graph\n",
    "            G = nx.Graph()\n",
    "\n",
    "            # Add the edges to the graph\n",
    "            G.add_edges_from(df_pvalues_validated.combination)\n",
    "\n",
    "            # create labels \n",
    "            df_a_fil = df_addresses[df_addresses.address.isin(list(G.nodes()))]\n",
    "            labels = df_a_fil[['address', 'name']].set_index('address').to_dict()['name']\n",
    "\n",
    "            # visualise netwotk \n",
    "            nx.draw(G, labels=labels)\n",
    "\n",
    "            #show\n",
    "            plt.savefig(join(path, f'output/pics/pic_vNetwork_{snapshot}.png'))\n",
    "\n",
    "            # clear img\n",
    "            plt.clf() \n",
    "\n",
    "            ## descriptve statistic\n",
    "            g_nodes = G.number_of_nodes()\n",
    "            g_edges = G.number_of_edges()\n",
    "            ## degree \n",
    "            g_degrees = dict(G.degree())\n",
    "            # Calculate the average degree of the graph\n",
    "\n",
    "            try: \n",
    "                g_avg_degree = sum(g_degrees.values()) / len(g_degrees)\n",
    "                g_max_degree = max(g_degrees.values())\n",
    "                g_min_degree = min(g_degrees.values())\n",
    "            except: \n",
    "                g_avg_degree = np.nan\n",
    "                g_max_degree = np.nan\n",
    "                g_min_degree = np.nan\n",
    "\n",
    "\n",
    "            # diameter\n",
    "            g_diameter = nx.diameter(G)\n",
    "\n",
    "            # average shortest path\n",
    "            g_avg_shortest_path = nx.average_shortest_path_length(G)\n",
    "\n",
    "\n",
    "            g_density = nx.density(G)\n",
    "\n",
    "            # centrality \n",
    "            g_degree_centrality = dict(nx.degree_centrality(G))\n",
    "\n",
    "            try: \n",
    "                g_degree_centrality_avg = sum(g_degree_centrality.values())/ len(g_degree_centrality)\n",
    "                g_degree_centrality_min = min(g_degree_centrality.values())\n",
    "                g_degree_centrality_max = max(g_degree_centrality.values())\n",
    "\n",
    "            except:\n",
    "\n",
    "                g_degree_centrality_avg = np.nan\n",
    "                g_degree_centrality_min = np.nan\n",
    "                g_degree_centrality_max = np.nan\n",
    "\n",
    "            # betweeness \n",
    "            g_betweeness_centrality = dict(nx.betweenness_centrality(G))\n",
    "\n",
    "            try: \n",
    "                g_betweeness_centrality_avg = sum(g_betweeness_centrality.values())/ len(g_betweeness_centrality)\n",
    "                g_betweeness_centrality_min = min(g_betweeness_centrality.values())\n",
    "                g_betweeness_centrality_max = max(g_betweeness_centrality.values())\n",
    "\n",
    "            except:\n",
    "                g_betweeness_centrality_avg = np.nan\n",
    "                g_betweeness_centrality_min = np.nan\n",
    "                g_betweeness_centrality_max = np.nan\n",
    "\n",
    "            # triangles \n",
    "            g_triangles = dict(nx.triangles(G))\n",
    "\n",
    "            try: \n",
    "                g_triangles_avg = sum(g_triangles.values())/ len(g_triangles)\n",
    "                g_triangles_min = min(g_triangles.values())\n",
    "                g_triangles_max = max(g_triangles.values())\n",
    "            except: \n",
    "                g_triangles_avg = np.nan\n",
    "                g_triangles_min = np.nan\n",
    "                g_triangles_max = np.nan\n",
    "\n",
    "            # g_clustering = dict(nx.clustering(G))\n",
    "            # g_clustering_avg = sum(g_clustering.values())/ len(g_clustering)\n",
    "            # g_clustering_min = min(g_clustering.values())\n",
    "            # g_clustering_max = max(g_clustering.values())\n",
    "\n",
    "            stats = {'nodes': g_nodes, 'possible_nodes': len(present_addresses), 'edges': g_edges, 'avg_degree_path': g_avg_degree, 'min_degree_path': g_min_degree, 'max_degree_path': g_max_degree,'diameter': g_diameter, 'avg_shortest_path': g_avg_shortest_path, 'density': g_density, 'degree_centrality_avg': g_degree_centrality_avg, 'degree_centrality_min': g_degree_centrality_min, 'degree_centrality_max': g_degree_centrality_max, 'betweeness_centrality_avg': g_betweeness_centrality_avg, 'betweeness_centrality_min': g_betweeness_centrality_min, 'betweeness_centrality_max': g_betweeness_centrality_max, 'triangles_avg': g_triangles_avg, 'triangles_min': g_triangles_min, 'triangles_max': g_triangles_max}\n",
    "            # 'clustering_avg': g_clustering_avg, 'clustering_min': g_clustering_min, 'clustering_max': g_clustering_max }\n",
    "\n",
    "        except: \n",
    "            stats = {'nodes': np.nan, 'possible_nodes': len(present_addresses), 'edges': np.nan, 'avg_degree_path': np.nan, 'min_degree_path': np.nan, 'max_degree_path': np.nan,'diameter': np.nan, 'avg_shortest_path': np.nan, 'density': np.nan, 'degree_centrality_avg': np.nan, 'degree_centrality_min': np.nan, 'degree_centrality_max': np.nan, 'betweeness_centrality_avg': np.nan, 'betweeness_centrality_min': np.nan, 'betweeness_centrality_max': np.nan, 'triangles_avg': np.nan, 'triangles_min': np.nan, 'triangles_max': np.nan}\n",
    "    \n",
    "\n",
    "summary_stats[snapshot] = stats\n",
    "\n",
    "\n"
   ]
  },
  {
   "cell_type": "code",
   "execution_count": null,
   "metadata": {},
   "outputs": [],
   "source": [
    "\n",
    "\n",
    "## descriptve statistic\n",
    "g_nodes = G.number_of_nodes()\n",
    "g_edges = G.number_of_edges()\n",
    "## degree \n",
    "g_degrees = dict(G.degree())\n",
    "# Calculate the average degree of the graph\n",
    "g_avg_degree = sum(g_degrees.values()) / len(g_degrees)\n",
    "g_max_degree = max(g_degrees.values())\n",
    "g_min_degree = min(g_degrees.values())\n",
    "\n",
    "\n",
    "# diameter\n",
    "g_diameter = nx.diameter(G)\n",
    "\n",
    "# average shortest path\n",
    "g_avg_shortest_path = nx.average_shortest_path_length(G)\n",
    "\n",
    "\n",
    "g_density = nx.density(G)\n",
    "\n",
    "# centrality \n",
    "g_degree_centrality = dict(nx.degree_centrality(G))\n",
    "g_degree_centrality_avg = sum(g_degree_centrality.values())/ len(g_degree_centrality)\n",
    "g_degree_centrality_min = min(g_degree_centrality.values())\n",
    "g_degree_centrality_max = max(g_degree_centrality.values())\n",
    "\n",
    "# betweeness \n",
    "g_betweeness_centrality = dict(nx.betweenness_centrality(G))\n",
    "g_betweeness_centrality_avg = sum(g_betweeness_centrality.values())/ len(g_betweeness_centrality)\n",
    "g_betweeness_centrality_min = min(g_betweeness_centrality.values())\n",
    "g_betweeness_centrality_max = max(g_betweeness_centrality.values())\n",
    "\n",
    "# triangles \n",
    "g_triangles = dict(nx.triangles(G))\n",
    "g_triangles_avg = sum(g_triangles.values())/ len(g_triangles)\n",
    "g_triangles_min = min(g_triangles.values())\n",
    "g_triangles_max = max(g_triangles.values())\n",
    "\n",
    "g_clustering = dict(nx.clustering(G))\n",
    "g_clustering_avg = sum(g_clustering.values())/ len(g_clustering)\n",
    "g_clustering_min = min(g_clustering.values())\n",
    "g_clustering_max = max(g_clustering.values())\n",
    "\n",
    "stats = {'nodes': g_nodes, 'edges': g_edges, \n",
    "'avg_degree_path': g_avg_degree, 'min_degree_path': g_min_degree, 'max_degree_path': g_max_degree,\n",
    "'diameter': g_diameter,\n",
    "'avg_shortest_path': g_avg_shortest_path, 'density': g_density,\n",
    "'degree_centrality_avg': g_degree_centrality_avg, 'degree_centrality_min': g_degree_centrality_min, 'degree_centrality_max': g_degree_centrality_max, \n",
    "'betweeness_centrality_avg': g_betweeness_centrality_avg, 'betweeness_centrality_min': g_betweeness_centrality_min, 'betweeness_centrality_max': g_betweeness_centrality_max,\n",
    "'triangles_avg': g_triangles_avg, 'triangles_min': g_triangles_min, 'triangles_max': g_triangles_max,\n",
    "'clustering_avg': g_clustering_avg, 'clustering_min': g_clustering_min, 'clustering_max': g_clustering_max }"
   ]
  },
  {
   "cell_type": "code",
   "execution_count": null,
   "metadata": {},
   "outputs": [],
   "source": [
    "test= {}\n",
    "\n",
    "test[123] = stats\n",
    "test[432] = stats "
   ]
  }
 ],
 "metadata": {
  "kernelspec": {
   "display_name": "Python 3 (ipykernel)",
   "language": "python",
   "name": "python3"
  },
  "language_info": {
   "codemirror_mode": {
    "name": "ipython",
    "version": 3
   },
   "file_extension": ".py",
   "mimetype": "text/x-python",
   "name": "python",
   "nbconvert_exporter": "python",
   "pygments_lexer": "ipython3",
   "version": "3.9.2"
  },
  "vscode": {
   "interpreter": {
    "hash": "e7370f93d1d0cde622a1f8e1c04877d8463912d04d973331ad4851f04de6915a"
   }
  }
 },
 "nbformat": 4,
 "nbformat_minor": 4
}
