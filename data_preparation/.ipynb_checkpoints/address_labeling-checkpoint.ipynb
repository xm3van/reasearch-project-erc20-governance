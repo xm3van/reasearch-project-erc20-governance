{
 "cells": [
  {
   "cell_type": "markdown",
   "metadata": {},
   "source": [
    "Classification of Smart Contracts\n",
    "- a) Separate EOA & Smart Contracts \n",
    "    - A multisig has no outgoing transactions \n",
    "    - It can have creation event but no necessarily (i.e. proxy contract controls EOA)\n",
    "        - see 1: Contract creation event - https://etherscan.io/address/0x8392f6669292fa56123f71949b52d883ae57e225\n",
    "        - see 2: Doesn't have contract creation event - https://etherscan.io/address/0x9e2b6378ee8ad2a4a95fe481d63caba8fb0ebbf9\n",
    "- b) Filter out Multisigs \n",
    "- c) Classify remaining smart contracts using  ABI, bytecode, return values, and manual code review.\n",
    "    \n",
    "> Ref.: https://ieeexplore.ieee.org/document/9730412\n",
    "\n",
    "> Ref.: https://arxiv.org/pdf/2106.15497.pdf \n",
    "\n",
    "> Ref.: https://ieeexplore.ieee.org/document/9019682 \n"
   ]
  },
  {
   "cell_type": "markdown",
   "metadata": {},
   "source": [
    "## EOA Parser"
   ]
  },
  {
   "cell_type": "code",
   "execution_count": 357,
   "metadata": {},
   "outputs": [],
   "source": [
    "import pandas as pd\n",
    "import numpy as np\n",
    "import dask.dataframe as dd\n",
    "from os.path import join\n",
    "import os\n",
    "\n",
    "import dotenv\n",
    "env_var = dotenv.dotenv_values()\n",
    "from web3 import Web3, HTTPProvider\n",
    "\n",
    "\n",
    "path = env_var['PROJECT_PATH']\n",
    "w3 = Web3(Web3.HTTPProvider(env_var['INFURA_API_ENDPOINT']))"
   ]
  },
  {
   "cell_type": "code",
   "execution_count": 89,
   "metadata": {},
   "outputs": [],
   "source": [
    "col_name=['hash', 'nonce', \"block_hash\",'block_number',\"transaction_index\",'from_address', 'to_address', 'value', 'gas', 'gas_price',\"input\",'block_timestamp', \"max_fee_per_gas\",\"max_priority_fee_per_gas\",\"transaction_type\"]\n",
    "dd_tx = dd.read_csv(join(path,'tx_all_uniq_addresses2.csv'), dtype='str', header=None, names=col_name)"
   ]
  },
  {
   "cell_type": "code",
   "execution_count": 90,
   "metadata": {},
   "outputs": [
    {
     "data": {
      "text/html": [
       "<div><strong>Dask DataFrame Structure:</strong></div>\n",
       "<div>\n",
       "<style scoped>\n",
       "    .dataframe tbody tr th:only-of-type {\n",
       "        vertical-align: middle;\n",
       "    }\n",
       "\n",
       "    .dataframe tbody tr th {\n",
       "        vertical-align: top;\n",
       "    }\n",
       "\n",
       "    .dataframe thead th {\n",
       "        text-align: right;\n",
       "    }\n",
       "</style>\n",
       "<table border=\"1\" class=\"dataframe\">\n",
       "  <thead>\n",
       "    <tr style=\"text-align: right;\">\n",
       "      <th></th>\n",
       "      <th>hash</th>\n",
       "      <th>nonce</th>\n",
       "      <th>block_hash</th>\n",
       "      <th>block_number</th>\n",
       "      <th>transaction_index</th>\n",
       "      <th>from_address</th>\n",
       "      <th>to_address</th>\n",
       "      <th>value</th>\n",
       "      <th>gas</th>\n",
       "      <th>gas_price</th>\n",
       "      <th>input</th>\n",
       "      <th>block_timestamp</th>\n",
       "      <th>max_fee_per_gas</th>\n",
       "      <th>max_priority_fee_per_gas</th>\n",
       "      <th>transaction_type</th>\n",
       "    </tr>\n",
       "    <tr>\n",
       "      <th>npartitions=7635</th>\n",
       "      <th></th>\n",
       "      <th></th>\n",
       "      <th></th>\n",
       "      <th></th>\n",
       "      <th></th>\n",
       "      <th></th>\n",
       "      <th></th>\n",
       "      <th></th>\n",
       "      <th></th>\n",
       "      <th></th>\n",
       "      <th></th>\n",
       "      <th></th>\n",
       "      <th></th>\n",
       "      <th></th>\n",
       "      <th></th>\n",
       "    </tr>\n",
       "  </thead>\n",
       "  <tbody>\n",
       "    <tr>\n",
       "      <th></th>\n",
       "      <td>object</td>\n",
       "      <td>object</td>\n",
       "      <td>object</td>\n",
       "      <td>object</td>\n",
       "      <td>object</td>\n",
       "      <td>object</td>\n",
       "      <td>object</td>\n",
       "      <td>object</td>\n",
       "      <td>object</td>\n",
       "      <td>object</td>\n",
       "      <td>object</td>\n",
       "      <td>object</td>\n",
       "      <td>object</td>\n",
       "      <td>object</td>\n",
       "      <td>object</td>\n",
       "    </tr>\n",
       "    <tr>\n",
       "      <th></th>\n",
       "      <td>...</td>\n",
       "      <td>...</td>\n",
       "      <td>...</td>\n",
       "      <td>...</td>\n",
       "      <td>...</td>\n",
       "      <td>...</td>\n",
       "      <td>...</td>\n",
       "      <td>...</td>\n",
       "      <td>...</td>\n",
       "      <td>...</td>\n",
       "      <td>...</td>\n",
       "      <td>...</td>\n",
       "      <td>...</td>\n",
       "      <td>...</td>\n",
       "      <td>...</td>\n",
       "    </tr>\n",
       "    <tr>\n",
       "      <th>...</th>\n",
       "      <td>...</td>\n",
       "      <td>...</td>\n",
       "      <td>...</td>\n",
       "      <td>...</td>\n",
       "      <td>...</td>\n",
       "      <td>...</td>\n",
       "      <td>...</td>\n",
       "      <td>...</td>\n",
       "      <td>...</td>\n",
       "      <td>...</td>\n",
       "      <td>...</td>\n",
       "      <td>...</td>\n",
       "      <td>...</td>\n",
       "      <td>...</td>\n",
       "      <td>...</td>\n",
       "    </tr>\n",
       "    <tr>\n",
       "      <th></th>\n",
       "      <td>...</td>\n",
       "      <td>...</td>\n",
       "      <td>...</td>\n",
       "      <td>...</td>\n",
       "      <td>...</td>\n",
       "      <td>...</td>\n",
       "      <td>...</td>\n",
       "      <td>...</td>\n",
       "      <td>...</td>\n",
       "      <td>...</td>\n",
       "      <td>...</td>\n",
       "      <td>...</td>\n",
       "      <td>...</td>\n",
       "      <td>...</td>\n",
       "      <td>...</td>\n",
       "    </tr>\n",
       "    <tr>\n",
       "      <th></th>\n",
       "      <td>...</td>\n",
       "      <td>...</td>\n",
       "      <td>...</td>\n",
       "      <td>...</td>\n",
       "      <td>...</td>\n",
       "      <td>...</td>\n",
       "      <td>...</td>\n",
       "      <td>...</td>\n",
       "      <td>...</td>\n",
       "      <td>...</td>\n",
       "      <td>...</td>\n",
       "      <td>...</td>\n",
       "      <td>...</td>\n",
       "      <td>...</td>\n",
       "      <td>...</td>\n",
       "    </tr>\n",
       "  </tbody>\n",
       "</table>\n",
       "</div>\n",
       "<div>Dask Name: read-csv, 1 graph layer</div>"
      ],
      "text/plain": [
       "Dask DataFrame Structure:\n",
       "                    hash   nonce block_hash block_number transaction_index from_address to_address   value     gas gas_price   input block_timestamp max_fee_per_gas max_priority_fee_per_gas transaction_type\n",
       "npartitions=7635                                                                                                                                                                                              \n",
       "                  object  object     object       object            object       object     object  object  object    object  object          object          object                   object           object\n",
       "                     ...     ...        ...          ...               ...          ...        ...     ...     ...       ...     ...             ...             ...                      ...              ...\n",
       "...                  ...     ...        ...          ...               ...          ...        ...     ...     ...       ...     ...             ...             ...                      ...              ...\n",
       "                     ...     ...        ...          ...               ...          ...        ...     ...     ...       ...     ...             ...             ...                      ...              ...\n",
       "                     ...     ...        ...          ...               ...          ...        ...     ...     ...       ...     ...             ...             ...                      ...              ...\n",
       "Dask Name: read-csv, 1 graph layer"
      ]
     },
     "execution_count": 90,
     "metadata": {},
     "output_type": "execute_result"
    }
   ],
   "source": [
    "dd_tx"
   ]
  },
  {
   "cell_type": "code",
   "execution_count": 12,
   "metadata": {},
   "outputs": [
    {
     "name": "stdout",
     "output_type": "stream",
     "text": [
      "### set-up ###\n",
      "### Start work ###\n",
      "Data written to /local/scratch/exported/governance-erc20/project_erc20_governanceTokens_data/smart_contract_code.csv\n",
      "### End work ###\n"
     ]
    }
   ],
   "source": [
    "# \"\"\"\n",
    "# The purpose of this script is to collect smart contract code which is neede to classify\n",
    "# a) if we are dealing with an EOA addresss\n",
    "# b) if we are dealing with a multi-sig \n",
    "# c) potentially other identifiable contract\n",
    "# \"\"\"\n",
    "\n",
    "\n",
    "# import dotenv\n",
    "# from os.path import join\n",
    "# import csv\n",
    "# env_var = dotenv.dotenv_values()\n",
    "# from web3 import Web3, HTTPProvider\n",
    "\n",
    "\n",
    "# print(\"### set-up ###\")\n",
    "# # Set up authentication \n",
    "# path = env_var[\"PROJECT_PATH\"]\n",
    "# w3 = Web3(Web3.HTTPProvider(env_var['INFURA_API_ENDPOINT']))\n",
    "\n",
    "# # set input & output path\n",
    "# input_path = join(path, 'df_unique_addresses2.csv') \n",
    "# output_path = join(path,'smart_contract_code_xxxx.csv')\n",
    "\n",
    "# # load input file\n",
    "# df_ua = pd.read_csv(input_path)\n",
    "\n",
    "# # Script\n",
    "# print(\"### Start work ###\")\n",
    "\n",
    "# # Open the CSV file for writing\n",
    "# with open(output_path, \"w\", newline=\"\") as csvfile:\n",
    "#     fieldnames = ['address', 'code']\n",
    "#     writer = csv.DictWriter(csvfile, fieldnames=fieldnames)\n",
    "#     writer.writeheader()\n",
    "\n",
    "#     for a in df_ua.unique_addresses: \n",
    "\n",
    "#         address = w3.toChecksumAddress(a)\n",
    "\n",
    "#         code = w3.eth.getCode(address)\n",
    "\n",
    "#         writer.writerow({'address': address, 'code':code})\n",
    "\n",
    "#         break\n",
    "\n",
    "\n",
    "# print(f\"Data written to {output_path}\")\n",
    "# print(\"### End work ###\")\n",
    "\n",
    "\n"
   ]
  },
  {
   "cell_type": "markdown",
   "metadata": {},
   "source": [
    "## Smart Contract Classification\n",
    "\n",
    "Once the code is pulled for the set of unique addresses we selected we will filter for the smart contract code. We then will group by to code to see which contract occur frequently and identify them and then classify them based on this and doxxing using Nansen, Arkham, Etherscan. "
   ]
  },
  {
   "cell_type": "markdown",
   "metadata": {},
   "source": [
    "#### Multisig vs other smart contract \n",
    "\n",
    "In order to see how we can differentate addresses based on bytecode pulled from a contract let look at to examples that we know are multisig addresses. \n",
    "\n",
    "- Aura Protocol Multisig: https://etherscan.io/address/0x5fea4413e3cc5cf3a29a49db41ac0c24850417a0#code\n",
    "- Gnosis Safe Proxy: https://etherscan.io/address/0xdab5dc22350f9a6aff03cf3d9341aad0ba42d2a6#code\n",
    "\n",
    "*Note: there likely are different deploymet version with different bytecode*"
   ]
  },
  {
   "cell_type": "code",
   "execution_count": 324,
   "metadata": {},
   "outputs": [],
   "source": [
    "### call bytecode of each address \n",
    "w3 = Web3(Web3.HTTPProvider(env_var['INFURA_API_ENDPOINT']))\n",
    "\n",
    "code_gnosis = w3.eth.getCode('0xDaB5dc22350f9a6Aff03Cf3D9341aAD0ba42d2a6')\n",
    "code_eoa = w3.eth.getCode('0x000018bbb8Df8de9e3eaf772dB1c4EEc228EF06c')\n"
   ]
  },
  {
   "cell_type": "code",
   "execution_count": 426,
   "metadata": {},
   "outputs": [],
   "source": [
    "### classification check \n",
    "\n",
    "## eao\n",
    "def eoa_check(bytecode): \n",
    "    if bytecode == str(code_eoa): \n",
    "        return 'EOA'\n",
    "    \n",
    "    elif bytecode == str(code_gnosis): \n",
    "        # we treat multisig as EOAs\n",
    "        return 'EOA'\n",
    "    \n",
    "    else: \n",
    "        return np.NaN\n",
    "\n",
    "\n",
    "# multisig \n",
    "def multisig_check(bytecode): \n",
    "    \"\"\"\n",
    "    Note: here there might be multiple version for multisig implementation. \n",
    "    Need to identify and add them. =\n",
    "    \"\"\"\n",
    "\n",
    "    if bytecode == str(code_gnosis): \n",
    "        return True\n",
    "    else: \n",
    "        return False"
   ]
  },
  {
   "cell_type": "markdown",
   "metadata": {},
   "source": [
    "#### LP pairs for Uniswap \n",
    "- Uniswap V3 deployed bytecode example: https://etherscan.io/address/0x8f8ef111b67c04eb1641f5ff19ee54cda062f163#code\n",
    "- Uniswap V2 deployed bytecode example: https://etherscan.io/address/0x4c7e62fbb86b204f7c6dc1f582ddd889182d5cf5#code"
   ]
  },
  {
   "cell_type": "code",
   "execution_count": 327,
   "metadata": {},
   "outputs": [],
   "source": [
    "code_uni_pairv2 = w3.eth.getCode('0x06da0fd433C1A5d7a4faa01111c044910A184553')\n",
    "code_uni_pairv3 = w3.eth.getCode('0x8f8EF111B67C04Eb1641f5ff19EE54Cda062f163')\n",
    "code_balancer = w3.eth.getCode('0xD5e10e8513E33a2867e20ddfc35Ee081CBA57769')"
   ]
  },
  {
   "cell_type": "code",
   "execution_count": 408,
   "metadata": {},
   "outputs": [],
   "source": [
    "def lp_pair(bytecode):\n",
    "    if bytecode == str(code_uni_pairv2): \n",
    "        return 'lp_uni_v2'\n",
    "    \n",
    "    elif bytecode == str(code_balancer): \n",
    "        return 'lp_bal'\n",
    "    \n",
    "    else: \n",
    "        return np.NaN\n",
    "\n"
   ]
  },
  {
   "attachments": {
    "image.png": {
     "image/png": "[encoded data removed]"
    }
   },
   "cell_type": "markdown",
   "metadata": {},
   "source": [
    "### Lending Markets\n",
    "The authors of this paper selected a restricted set of lending markets using defillama a source. As the classification follows based on source code forks are also identifiable (i.e. Cream). \n",
    "\n",
    "\n",
    "\n",
    "- Aave \n",
    "    - \n",
    "    - Note: The depolyment code of dept token does not seem to differ\n",
    "    - Aave V3 deployment happend on ethereum 27-01-2023 \n",
    "        - Ref.: https://cointelegraph.com/news/aave-deploys-v3-on-ethereum-after-10-months-of-testing-on-other-networks\n",
    "- Compound \n",
    "    - Compound cToken represent the collateral in the protocol and allows overcollateralised lending. This means if someone can deposit UNI into compound and receive cUNI. They can use the cUNI to borrow AAVE. \n",
    "    - What is unclear to me is how the protocol keeps track of debt... \n",
    "    ![image.png](attachment:image.png)\n",
    "    - Ref.: https://www.bis.org/publ/work1066.pdf\n",
    "- Iron Bank\n",
    "- Cream \n",
    "- (Euler) --> exclude since they went live after snapshot date\n",
    "\n",
    "\n",
    "*Source: https://defillama.com/borrow?borrow=SUSHI&lend=USD_Stables&farmProtocol=&lendingProtocol=All&chain=Ethereum*"
   ]
  },
  {
   "cell_type": "code",
   "execution_count": 333,
   "metadata": {},
   "outputs": [],
   "source": [
    "code_gnosis = w3.eth.getCode('0xDaB5dc22350f9a6Aff03Cf3D9341aAD0ba42d2a6')\n",
    "code_eoa = w3.eth.getCode('0x000018bbb8Df8de9e3eaf772dB1c4EEc228EF06c')\n",
    "\n",
    "code_uni_pairv2 = w3.eth.getCode('0x06da0fd433C1A5d7a4faa01111c044910A184553')\n",
    "code_uni_pairv3 = w3.eth.getCode('0x8f8EF111B67C04Eb1641f5ff19EE54Cda062f163')\n",
    "code_balancer = w3.eth.getCode('0xD5e10e8513E33a2867e20ddfc35Ee081CBA57769')\n",
    "\n",
    "## check if aave v2 token \n",
    "code_aave_v0 = w3.eth.getCode('0x7D2D3688Df45Ce7C552E19c27e007673da9204B8')\n",
    "code_aave_v1 = w3.eth.getCode('0xfC1E690f61EFd961294b3e1Ce3313fBD8aa4f85d')\n",
    "code_aave_v2 = w3.eth.getCode('0x8dAE6Cb04688C62d939ed9B68d32Bc62e49970b1')\n",
    "#code_aave_debt_v0 = w3.eth.getCode('') #not did not have debt token - https://docs.aave.com/developers/v/1.0/\n",
    "code_aave_debt_v1 = w3.eth.getCode('0xfC1E690f61EFd961294b3e1Ce3313fBD8aa4f85d')\n",
    "code_aave_debt_v2 = w3.eth.getCode('0xD939F7430dC8D5a427f156dE1012A56C18AcB6Aa') # note"
   ]
  },
  {
   "cell_type": "code",
   "execution_count": 425,
   "metadata": {},
   "outputs": [],
   "source": [
    "## interest earning tokens\n",
    "def aave_atoken(bytecode):\n",
    "    if bytecode == str(code_aave_v0): \n",
    "        return 'aave_atoken_v0'\n",
    "    \n",
    "    elif bytecode == str(code_aave_v1): \n",
    "        return 'aave_atoken_v1'\n",
    "    \n",
    "    elif bytecode == str(code_aave_v2): \n",
    "        return 'aave_atoken_v2'\n",
    "    \n",
    "    else: \n",
    "        return np.NaN\n",
    "\n"
   ]
  },
  {
   "cell_type": "code",
   "execution_count": 435,
   "metadata": {},
   "outputs": [],
   "source": [
    "## debt earning tokens \n",
    "def aave_debt(bytecode):\n",
    "#     if bytecode == str(code_aave_debt_v0): \n",
    "#         return 'aave_debt_v0'\n",
    "    \n",
    "    if bytecode == str(code_aave_debt_v1): \n",
    "        return 'aave_debt_v1'\n",
    "    \n",
    "    elif bytecode == str(code_aave_debt_v2): \n",
    "        return 'aave_debt_v2'\n",
    "    \n",
    "    else: \n",
    "        return np.NaN\n"
   ]
  },
  {
   "cell_type": "markdown",
   "metadata": {},
   "source": [
    "## Address labeling of Token Snapshots"
   ]
  },
  {
   "cell_type": "markdown",
   "metadata": {
    "tags": []
   },
   "source": [
    "Instruction for address labeling: \n",
    "1. Load the token snapshot balances of the ERC20 tokens beginning with blockheight 10664157\n",
    "1. check if token in latest tokenlist\n",
    "2. Compare against the pool of identified addresses I already collected\n",
    "    - bytecode comparison\n",
    "    - labels\n",
    "3. Filter for every address that has more 0.1> of the total supply and is not labelled yet\n",
    "4. Labels them by consulting external sources\n",
    "5. Add them to the pool of know addresses\n",
    "6. Repeat the 1-5 with the next snapshot of token balances"
   ]
  },
  {
   "cell_type": "code",
   "execution_count": 723,
   "metadata": {},
   "outputs": [],
   "source": [
    "# load tokenlist\n",
    "df_token_list = pd.read_csv('./assets/df_final_token_selection_20221209.csv')"
   ]
  },
  {
   "cell_type": "code",
   "execution_count": 724,
   "metadata": {},
   "outputs": [],
   "source": [
    "# load snapshot dates \n",
    "df_snapshot_points = pd.read_csv('./assets/snapshot_selection.csv')"
   ]
  },
  {
   "cell_type": "code",
   "execution_count": 1335,
   "metadata": {},
   "outputs": [
    {
     "data": {
      "text/plain": [
       "14009885"
      ]
     },
     "execution_count": 1335,
     "metadata": {},
     "output_type": "execute_result"
    }
   ],
   "source": [
    "# select snapshot - start at 10664157 as before that we do not have any visualisation || Note only true for token to token\n",
    "ind = 31\n",
    "snapshot_height = df_snapshot_points[df_snapshot_points['Block Height'] >= 10664157]['Block Height'][ind] #change\n",
    "# previous_snapshot_height =  df_snapshot_points[df_snapshot_points['Block Height'] >= 10664157]['Block Height'][(ind-1)] #change\n",
    "snapshot_height"
   ]
  },
  {
   "cell_type": "code",
   "execution_count": 1336,
   "metadata": {},
   "outputs": [],
   "source": [
    "# load relevant token balances for a given snapshot date\n",
    "df_tb = pd.read_csv(join(path, f'token_balance_lookup_tables/token_holder_snapshot_balance_{snapshot_height}.csv'))"
   ]
  },
  {
   "cell_type": "code",
   "execution_count": 1337,
   "metadata": {},
   "outputs": [
    {
     "data": {
      "text/html": [
       "<div>\n",
       "<style scoped>\n",
       "    .dataframe tbody tr th:only-of-type {\n",
       "        vertical-align: middle;\n",
       "    }\n",
       "\n",
       "    .dataframe tbody tr th {\n",
       "        vertical-align: top;\n",
       "    }\n",
       "\n",
       "    .dataframe thead th {\n",
       "        text-align: right;\n",
       "    }\n",
       "</style>\n",
       "<table border=\"1\" class=\"dataframe\">\n",
       "  <thead>\n",
       "    <tr style=\"text-align: right;\">\n",
       "      <th></th>\n",
       "      <th>address</th>\n",
       "      <th>token_address</th>\n",
       "      <th>value</th>\n",
       "    </tr>\n",
       "  </thead>\n",
       "  <tbody>\n",
       "    <tr>\n",
       "      <th>0</th>\n",
       "      <td>0x0000000000000000000000000000000000000000</td>\n",
       "      <td>0x0bc529c00c6401aef6d220be8c6ea1667f6ad93e</td>\n",
       "      <td>-3.666600e+22</td>\n",
       "    </tr>\n",
       "    <tr>\n",
       "      <th>2</th>\n",
       "      <td>0x0000000000000000000000000000000000000000</td>\n",
       "      <td>0x111111111117dc0aa78b770fa6a738034120c302</td>\n",
       "      <td>-1.500000e+27</td>\n",
       "    </tr>\n",
       "    <tr>\n",
       "      <th>3</th>\n",
       "      <td>0x0000000000000000000000000000000000000000</td>\n",
       "      <td>0x1a4b46696b2bb4794eb3d4c26f1c55f9170fa4c5</td>\n",
       "      <td>-1.000000e+28</td>\n",
       "    </tr>\n",
       "    <tr>\n",
       "      <th>4</th>\n",
       "      <td>0x0000000000000000000000000000000000000000</td>\n",
       "      <td>0x1f9840a85d5af5bf1d1762f925bdaddc4201f984</td>\n",
       "      <td>-1.000000e+27</td>\n",
       "    </tr>\n",
       "    <tr>\n",
       "      <th>6</th>\n",
       "      <td>0x0000000000000000000000000000000000000000</td>\n",
       "      <td>0x4e3fbd56cd56c3e72c1403e103b45db9da5b9d2b</td>\n",
       "      <td>-8.143448e+25</td>\n",
       "    </tr>\n",
       "    <tr>\n",
       "      <th>...</th>\n",
       "      <td>...</td>\n",
       "      <td>...</td>\n",
       "      <td>...</td>\n",
       "    </tr>\n",
       "    <tr>\n",
       "      <th>3420440</th>\n",
       "      <td>0xfffff9b1c2c387b1e3d19af292d91d913374f42b</td>\n",
       "      <td>0xba100000625a3754423978a60c9317c58a424e3d</td>\n",
       "      <td>0.000000e+00</td>\n",
       "    </tr>\n",
       "    <tr>\n",
       "      <th>3420441</th>\n",
       "      <td>0xfffffa789dda3cb690e78f2e0af10968e9970324</td>\n",
       "      <td>0xba100000625a3754423978a60c9317c58a424e3d</td>\n",
       "      <td>0.000000e+00</td>\n",
       "    </tr>\n",
       "    <tr>\n",
       "      <th>3420442</th>\n",
       "      <td>0xfffffc1407ccda903edcaea7cfca6668d105102a</td>\n",
       "      <td>0x1f9840a85d5af5bf1d1762f925bdaddc4201f984</td>\n",
       "      <td>3.762941e+18</td>\n",
       "    </tr>\n",
       "    <tr>\n",
       "      <th>3420443</th>\n",
       "      <td>0xfffffd059e97c2bfc822569e13f636c3d176db41</td>\n",
       "      <td>0x4e3fbd56cd56c3e72c1403e103b45db9da5b9d2b</td>\n",
       "      <td>0.000000e+00</td>\n",
       "    </tr>\n",
       "    <tr>\n",
       "      <th>3420445</th>\n",
       "      <td>0xffffffff37d2d839f3b4f7dbb9630463655fc04f</td>\n",
       "      <td>0x1f9840a85d5af5bf1d1762f925bdaddc4201f984</td>\n",
       "      <td>0.000000e+00</td>\n",
       "    </tr>\n",
       "  </tbody>\n",
       "</table>\n",
       "<p>3292349 rows × 3 columns</p>\n",
       "</div>"
      ],
      "text/plain": [
       "                                            address  \\\n",
       "0        0x0000000000000000000000000000000000000000   \n",
       "2        0x0000000000000000000000000000000000000000   \n",
       "3        0x0000000000000000000000000000000000000000   \n",
       "4        0x0000000000000000000000000000000000000000   \n",
       "6        0x0000000000000000000000000000000000000000   \n",
       "...                                             ...   \n",
       "3420440  0xfffff9b1c2c387b1e3d19af292d91d913374f42b   \n",
       "3420441  0xfffffa789dda3cb690e78f2e0af10968e9970324   \n",
       "3420442  0xfffffc1407ccda903edcaea7cfca6668d105102a   \n",
       "3420443  0xfffffd059e97c2bfc822569e13f636c3d176db41   \n",
       "3420445  0xffffffff37d2d839f3b4f7dbb9630463655fc04f   \n",
       "\n",
       "                                      token_address         value  \n",
       "0        0x0bc529c00c6401aef6d220be8c6ea1667f6ad93e -3.666600e+22  \n",
       "2        0x111111111117dc0aa78b770fa6a738034120c302 -1.500000e+27  \n",
       "3        0x1a4b46696b2bb4794eb3d4c26f1c55f9170fa4c5 -1.000000e+28  \n",
       "4        0x1f9840a85d5af5bf1d1762f925bdaddc4201f984 -1.000000e+27  \n",
       "6        0x4e3fbd56cd56c3e72c1403e103b45db9da5b9d2b -8.143448e+25  \n",
       "...                                             ...           ...  \n",
       "3420440  0xba100000625a3754423978a60c9317c58a424e3d  0.000000e+00  \n",
       "3420441  0xba100000625a3754423978a60c9317c58a424e3d  0.000000e+00  \n",
       "3420442  0x1f9840a85d5af5bf1d1762f925bdaddc4201f984  3.762941e+18  \n",
       "3420443  0x4e3fbd56cd56c3e72c1403e103b45db9da5b9d2b  0.000000e+00  \n",
       "3420445  0x1f9840a85d5af5bf1d1762f925bdaddc4201f984  0.000000e+00  \n",
       "\n",
       "[3292349 rows x 3 columns]"
      ]
     },
     "execution_count": 1337,
     "metadata": {},
     "output_type": "execute_result"
    }
   ],
   "source": [
    "# check if in tokenlist\n",
    "df_tb = df_tb[df_tb.token_address.isin(list(df_token_list.address))]\n",
    "df_tb"
   ]
  },
  {
   "cell_type": "code",
   "execution_count": 1338,
   "metadata": {},
   "outputs": [],
   "source": [
    "## update checksum address\n",
    "df_tb['address_checksum'] = df_tb.address.apply(lambda x: w3.toChecksumAddress(x))"
   ]
  },
  {
   "cell_type": "code",
   "execution_count": 1339,
   "metadata": {},
   "outputs": [],
   "source": [
    "# label address check - for this get smart contract code for addresses in question \n",
    "df_sc = pd.read_csv(join(path, 'unique_address_with_code.csv'),index_col=[0])\n",
    "df_tb_sc = df_tb.merge(df_sc, how='left', left_on='address_checksum', right_on='address') \n",
    "df_tb_sc.drop(columns=['address_y'], inplace=True)"
   ]
  },
  {
   "cell_type": "code",
   "execution_count": 1340,
   "metadata": {},
   "outputs": [],
   "source": [
    "## we excluded these addresses before parsing all addresses \n",
    "df_tb_sc.dropna(subset='code', inplace=True) \n",
    "\n",
    "## exclude negative values and 0 \n",
    "df_tb_sc = df_tb_sc[df_tb_sc.value > 0]"
   ]
  },
  {
   "cell_type": "markdown",
   "metadata": {},
   "source": [
    "#### Address labeling of Token Snapshots: Bytecode Comparison"
   ]
  },
  {
   "cell_type": "code",
   "execution_count": 1341,
   "metadata": {},
   "outputs": [],
   "source": [
    "import numpy as np \n",
    "def bytcode_comparison(bytecode): \n",
    "    \n",
    "    ## eoa \n",
    "    if bytecode == str(code_eoa): \n",
    "        return 'EMOA'\n",
    "    \n",
    "    elif bytecode == str(code_gnosis): \n",
    "        # we treat multisig as EOAs\n",
    "        return 'EMOA'\n",
    "    \n",
    "    \n",
    "    ## aave ## TASK double check this (I am not sure if collateral rest in these contracts)    \n",
    "    elif bytecode == str(code_aave_debt_v1): \n",
    "        return 'lending_borrowing_contract'\n",
    "    \n",
    "    elif bytecode == str(code_aave_debt_v2): \n",
    "        return 'lending_borrowing_contract'\n",
    "    \n",
    "    elif bytecode == str(code_aave_v0): \n",
    "        return 'lending_borrowing_contract'\n",
    "    \n",
    "    elif bytecode == str(code_aave_v1): \n",
    "        return 'lending_borrowing_contract'\n",
    "    \n",
    "    elif bytecode == str(code_aave_v2): \n",
    "        return 'lending_borrowing_contract'\n",
    "    \n",
    "    \n",
    "    \n",
    "    ## lp \n",
    "    elif bytecode == str(code_uni_pairv2): \n",
    "        return 'lp_amm'\n",
    "    \n",
    "    elif bytecode == str(code_balancer): \n",
    "        return 'lp_amm' #separation as to lp ratio is customisable we may want to account for this \n",
    "        \n"
   ]
  },
  {
   "cell_type": "code",
   "execution_count": 1342,
   "metadata": {},
   "outputs": [],
   "source": [
    "df_tb_sc['label'] = df_tb_sc.code.apply(lambda x: bytcode_comparison(x))"
   ]
  },
  {
   "cell_type": "markdown",
   "metadata": {},
   "source": [
    "#### Address labeling of Token Snapshots: External Sources \n",
    "\n",
    "Following data set where sourced: \n",
    "- lp pair addresses from CovalentHq\n",
    "- Manually source project labels from Etherscan and project documenation\n",
    "- Known centralised Enities from Etherscan"
   ]
  },
  {
   "cell_type": "code",
   "execution_count": 1343,
   "metadata": {},
   "outputs": [],
   "source": [
    "# cefi\n",
    "cefi_labels = pd.read_csv('./assets/address_labels/address_labels_cefi.csv')\n",
    "\n",
    "## stamdardise to checksum \n",
    "cefi_labels['checksum_address'] = cefi_labels.Address.apply(lambda address_str: w3.toChecksumAddress(address_str.replace('\\u200b', '').replace('.', '').strip()))\n",
    "\n",
    "## iterate over shared values and re-assign label \n",
    "for index, row in cefi_labels[cefi_labels.checksum_address.isin(df_tb_sc.address_checksum) == True].iterrows(): \n",
    "    \n",
    "    df_tb_sc.loc[df_tb_sc.address_checksum == row.checksum_address, 'label'] = 'IEMOA'"
   ]
  },
  {
   "cell_type": "code",
   "execution_count": 1344,
   "metadata": {},
   "outputs": [],
   "source": [
    "# project labels\n",
    "projects_labels = pd.read_csv('./assets/address_labels/address_labels_projects.csv')\n",
    "## standardise to checksum address \n",
    "projects_labels['checksum_address'] = projects_labels.Address.apply(lambda address_str: w3.toChecksumAddress(address_str.replace('\\u200b', '').replace('.', '').strip()))\n",
    "\n",
    "## iterate over shared values and re-assign label \n",
    "for index, row in projects_labels[projects_labels.checksum_address.isin(df_tb_sc.address_checksum) == True].iterrows(): \n",
    "    \n",
    "    df_tb_sc.loc[df_tb_sc.address_checksum == row.checksum_address, 'label'] = row.Name\n"
   ]
  },
  {
   "cell_type": "code",
   "execution_count": 1345,
   "metadata": {},
   "outputs": [],
   "source": [
    "# dex pairs\n",
    "df_lp_pairs = pd.read_csv('assets/address_labels/dex_lp_pair_addresses.csv')\n",
    "\n",
    "## standardise to checksum address \n",
    "df_lp_pairs['checksum_address'] = df_lp_pairs['hex(pair_address)'].apply(lambda x: w3.toChecksumAddress('0x' + x))\n",
    "\n",
    "## iterate over shared values and re-assign label \n",
    "for index, row in df_lp_pairs[df_lp_pairs.checksum_address.isin(df_tb_sc.address_checksum) == True].iterrows(): \n",
    "    \n",
    "    df_tb_sc.loc[df_tb_sc.address_checksum == row.checksum_address, 'label'] = 'lp_amm'\n"
   ]
  },
  {
   "cell_type": "code",
   "execution_count": 1370,
   "metadata": {},
   "outputs": [],
   "source": [
    "# kaggle\n",
    "df_kaggle = pd.read_csv('assets/address_labels/address_labels_kaggle.csv')\n",
    "# filter misplaced strings\n",
    "df_kaggle = df_kaggle[df_kaggle['Address'].str.contains('0x') == True]\n",
    "## standardise to checksum address \n",
    "df_kaggle['checksum_address'] = df_kaggle['Address'].apply(lambda x: w3.toChecksumAddress(x))\n",
    "\n",
    "## iterate over shared values and re-assign label \n",
    "for index, row in df_kaggle[df_kaggle.checksum_address.isin(df_tb_sc.address_checksum) == True].iterrows(): \n",
    "    \n",
    "    df_tb_sc.loc[df_tb_sc.address_checksum == row.checksum_address, 'label'] = row.standardised_labelling\n"
   ]
  },
  {
   "cell_type": "code",
   "execution_count": 1371,
   "metadata": {},
   "outputs": [],
   "source": [
    "#### Compare to from lastest doxx\n",
    "\n",
    "# load\n",
    "df_label = pd.read_csv('assets/address_labels/address_labels_targeted_dox.csv', index_col=[0])\n",
    "\n",
    "## iterate over shared values and re-assign label \n",
    "for index, row in df_label.iterrows(): \n",
    "    \n",
    "    df_tb_sc.loc[df_tb_sc.address_checksum == row.address_checksum, 'label'] = row.standardised_labelling\n",
    "    \n",
    "    \n",
    "## alternative (better) \n",
    "# df_tb_sc.loc[df_tb_sc.address_checksum.isin(df_tb_sc_prev.address_checksum)].sort_values('address_checksum').label = df_tb_sc_prev.loc[df_tb_sc_prev.address_checksum.isin(df_tb_sc.address_checksum)].sort_values('address_checksum').label\n"
   ]
  },
  {
   "cell_type": "markdown",
   "metadata": {},
   "source": [
    "#### Filter for every address that has more 0.1%> of the total supply and is not labelled yet"
   ]
  },
  {
   "cell_type": "code",
   "execution_count": 1348,
   "metadata": {},
   "outputs": [
    {
     "data": {
      "text/plain": [
       "dict_keys(['0x0bc529c00c6401aef6d220be8c6ea1667f6ad93e', '0x111111111117dc0aa78b770fa6a738034120c302', '0x1a4b46696b2bb4794eb3d4c26f1c55f9170fa4c5', '0x1f9840a85d5af5bf1d1762f925bdaddc4201f984', '0x4e3fbd56cd56c3e72c1403e103b45db9da5b9d2b', '0x5a98fcbea516cf06857215779fd812ca3bef1b32', '0x6b3595068778dd592e39a122f4f5a5cf09c90fe2', '0x6f40d4a6237c257fff2db00fa0510deeecd303eb', '0x7fc66500c84a76ad7e9c93437bfc5ac33e2ddae9', '0x92d6c1e31e14520e676a687f0a93788b716beff5', '0x9f8f72aa9304c8b593d555f12ef6589cc3a579a2', '0xba100000625a3754423978a60c9317c58a424e3d', '0xc00e94cb662c3520282e6f5717214004a7f26888', '0xd533a949740bb3306d119cc777fa900ba034cd52'])"
      ]
     },
     "execution_count": 1348,
     "metadata": {},
     "output_type": "execute_result"
    }
   ],
   "source": [
    "dict_ts = dict(df_tb_sc.groupby('token_address').value.sum())\n",
    "dict_ts.keys()"
   ]
  },
  {
   "cell_type": "code",
   "execution_count": 1349,
   "metadata": {},
   "outputs": [],
   "source": [
    "df_tb_sc['pct_supply'] = int"
   ]
  },
  {
   "cell_type": "code",
   "execution_count": 1350,
   "metadata": {},
   "outputs": [],
   "source": [
    "for t in dict_ts.keys(): \n",
    "    \n",
    "    df_tb_sc.loc[df_tb_sc.token_address == t, 'pct_supply'] = df_tb_sc[df_tb_sc.token_address == t].value / dict_ts[t]\n"
   ]
  },
  {
   "cell_type": "code",
   "execution_count": 1351,
   "metadata": {},
   "outputs": [
    {
     "name": "stdout",
     "output_type": "stream",
     "text": [
      "<class 'pandas.core.frame.DataFrame'>\n",
      "Int64Index: 1152 entries, 1794 to 3289704\n",
      "Data columns (total 7 columns):\n",
      " #   Column            Non-Null Count  Dtype  \n",
      "---  ------            --------------  -----  \n",
      " 0   address_x         1152 non-null   object \n",
      " 1   token_address     1152 non-null   object \n",
      " 2   value             1152 non-null   float64\n",
      " 3   address_checksum  1152 non-null   object \n",
      " 4   code              1152 non-null   object \n",
      " 5   label             1152 non-null   object \n",
      " 6   pct_supply        1152 non-null   object \n",
      "dtypes: float64(1), object(6)\n",
      "memory usage: 72.0+ KB\n"
     ]
    }
   ],
   "source": [
    "### Nadler & schaer use 0.1% as cut_off line) \n",
    "df_tb_sc[df_tb_sc.pct_supply >= (0.1/100)].info()\n",
    "\n",
    "### We notice that there are suprisingly low number of wallet that have more than 0.1% of the total relevant supply of the token. What is the implication of this on the project?\n",
    "### In essence, nothing chances - later when cluster we will simply add up the total token balance even if the wallet is not in the set of wallet holding more than 0.1% of total supply\n",
    "\n",
    "## https://github.com/etherclust/etherclust"
   ]
  },
  {
   "cell_type": "markdown",
   "metadata": {},
   "source": [
    "#### etherscan labels \n"
   ]
  },
  {
   "cell_type": "code",
   "execution_count": 1352,
   "metadata": {},
   "outputs": [],
   "source": [
    "for index, row in df_tb_sc[(df_tb_sc.pct_supply >= (0.1/100)) & (df_tb_sc.label.isna()==True)].iterrows(): \n",
    "    \n",
    "    try: \n",
    "        r = requests.get(f'https://octal.art/etherscan-labels/addresses/{row.address_x}.json')\n",
    "        row['etherscan_label'] = list(r.json()['Labels'].keys())\n",
    "    except: \n",
    "        pass\n"
   ]
  },
  {
   "cell_type": "markdown",
   "metadata": {},
   "source": [
    "#### Manual collection of missing values "
   ]
  },
  {
   "cell_type": "code",
   "execution_count": 1354,
   "metadata": {},
   "outputs": [],
   "source": [
    "df_tb_sc[(df_tb_sc.pct_supply >= (0.1/100)) & (df_tb_sc.label.isna()==True)].to_csv('temp.csv')"
   ]
  },
  {
   "cell_type": "code",
   "execution_count": 1316,
   "metadata": {},
   "outputs": [],
   "source": [
    "#### update manual labels\n",
    "# 1. uploading doxxed \n",
    "\n",
    "# load\n",
    "df_label = pd.read_csv('address_labels - targeted_dox.csv', index_col=[0])\n",
    "\n",
    "## iterate over shared values and re-assign label \n",
    "for index, row in df_label.iterrows(): \n",
    "    \n",
    "    df_tb_sc.loc[df_tb_sc.address_checksum == row.address_checksum, 'label'] = row.label\n",
    "    \n",
    "    \n",
    "## alternative (better) \n",
    "# df_tb_sc.loc[df_tb_sc.address_checksum.isin(df_tb_sc_prev.address_checksum)].sort_values('address_checksum').label = df_tb_sc_prev.loc[df_tb_sc_prev.address_checksum.isin(df_tb_sc.address_checksum)].sort_values('address_checksum').label\n"
   ]
  },
  {
   "cell_type": "code",
   "execution_count": 1355,
   "metadata": {},
   "outputs": [
    {
     "name": "stdout",
     "output_type": "stream",
     "text": [
      "<class 'pandas.core.frame.DataFrame'>\n",
      "Int64Index: 1152 entries, 1794 to 3289704\n",
      "Data columns (total 7 columns):\n",
      " #   Column            Non-Null Count  Dtype  \n",
      "---  ------            --------------  -----  \n",
      " 0   address_x         1152 non-null   object \n",
      " 1   token_address     1152 non-null   object \n",
      " 2   value             1152 non-null   float64\n",
      " 3   address_checksum  1152 non-null   object \n",
      " 4   code              1152 non-null   object \n",
      " 5   label             1152 non-null   object \n",
      " 6   pct_supply        1152 non-null   object \n",
      "dtypes: float64(1), object(6)\n",
      "memory usage: 72.0+ KB\n"
     ]
    }
   ],
   "source": [
    "df_tb_sc[(df_tb_sc.pct_supply >= (0.1/100))].info()"
   ]
  },
  {
   "cell_type": "code",
   "execution_count": 1356,
   "metadata": {},
   "outputs": [],
   "source": [
    "output_path = '/local/scratch/exported/governance-erc20/project_erc20_governanceTokens_data/token_balance_lookup_tables_labelled'\n",
    "df_tb_sc.to_csv(join(output_path,f'df_token_balenace_labelled_greater_01pct_bh{snapshot_height}.csv'))"
   ]
  },
  {
   "cell_type": "code",
   "execution_count": 1322,
   "metadata": {},
   "outputs": [],
   "source": [
    "x = df_tb_sc.drop_duplicates(subset=['label'])\n",
    "x1 = df_tb_sc.drop_duplicates(subset=['label'])"
   ]
  },
  {
   "cell_type": "code",
   "execution_count": null,
   "metadata": {},
   "outputs": [],
   "source": []
  },
  {
   "cell_type": "code",
   "execution_count": 1357,
   "metadata": {},
   "outputs": [],
   "source": [
    "list_dfs = [] \n",
    "\n",
    "for snapshot_height in df_snapshot_points[df_snapshot_points['Block Height'] >= 10664157]['Block Height']:\n",
    "    \n",
    "    # load file \n",
    "    df_tb_sc = pd.read_csv(join(output_path,f'df_token_balenace_labelled_greater_01pct_bh{snapshot_height}.csv'))\n",
    "    \n",
    "    # drop duplicates \n",
    "    df_tb_sc.drop_duplicates(subset=['label'], inplace=True)\n",
    "    \n",
    "    # append list \n",
    "    list_dfs.append(df_tb_sc) \n"
   ]
  },
  {
   "cell_type": "code",
   "execution_count": 1358,
   "metadata": {},
   "outputs": [],
   "source": [
    "df_all_lable = pd.concat(list_dfs)\n"
   ]
  },
  {
   "cell_type": "code",
   "execution_count": 1364,
   "metadata": {},
   "outputs": [],
   "source": [
    "df_all_lable.drop_duplicates(subset=['label'], inplace=True)\n",
    "df_all_lable.to_csv('df_relevant_labels.csv')"
   ]
  },
  {
   "cell_type": "code",
   "execution_count": null,
   "metadata": {},
   "outputs": [],
   "source": [
    "## next steps \n",
    "#1 Identify non-identified addresses (use therescan label as help) - run directly from etherscan based on subset #faster \n",
    "#2 Classify address contract based on function of attribution (i.e. subtract from balance or add and how much) like Nadler & schaer (i.e. Liquidity pool, Lending Pool, Staking, Unique contract)\n",
    "#3 correctly attribtue the balance to wallets "
   ]
  },
  {
   "cell_type": "code",
   "execution_count": 990,
   "metadata": {},
   "outputs": [
    {
     "data": {
      "text/plain": [
       "12244515"
      ]
     },
     "execution_count": 990,
     "metadata": {},
     "output_type": "execute_result"
    }
   ],
   "source": [
    "## questions: \n",
    "# Best way it to research the exact transition event manually and take a cut-off date where I start looking at old token contract vs the new token contract. \n",
    "# Aave seem to be the only affected token. No deadline set but we take October 2020 as cut of date \n",
    "# https://governance.aave.com/t/migration-deadline/670/6\n",
    "# I start at block 10664157 (August 2020) I can consider dropping it\n",
    "# Maybe I should start after block 11547458 as maker implements new token \n",
    "\n",
    "\n",
    "# Question \n",
    "## Classification of labels... unsure what the best categorisation is (see sheet for initial suggestion), show avaialble unique labels to get an idea\n",
    "## remove 12244515 -Instadapp"
   ]
  },
  {
   "cell_type": "markdown",
   "metadata": {
    "jp-MarkdownHeadingCollapsed": true,
    "tags": []
   },
   "source": [
    "### Investigation into negative balances"
   ]
  },
  {
   "cell_type": "code",
   "execution_count": 901,
   "metadata": {},
   "outputs": [],
   "source": [
    "## investigating negative values \n",
    "df_tb_neg = df_tb[df_tb.value < 0.0].copy()\n",
    "df_tb_pos = df_tb[df_tb.value >= 0.0].copy()"
   ]
  },
  {
   "cell_type": "code",
   "execution_count": 902,
   "metadata": {},
   "outputs": [
    {
     "data": {
      "text/plain": [
       "token_address\n",
       "0x0bc529c00c6401aef6d220be8c6ea1667f6ad93e    1.320871\n",
       "0x111111111117dc0aa78b770fa6a738034120c302    1.655840\n",
       "0x1f9840a85d5af5bf1d1762f925bdaddc4201f984    0.828715\n",
       "0x5a98fcbea516cf06857215779fd812ca3bef1b32    1.437066\n",
       "0x6b3595068778dd592e39a122f4f5a5cf09c90fe2    3.322958\n",
       "0x7fc66500c84a76ad7e9c93437bfc5ac33e2ddae9    0.705930\n",
       "0x9f8f72aa9304c8b593d555f12ef6589cc3a579a2    0.492091\n",
       "0xba100000625a3754423978a60c9317c58a424e3d    2.015103\n",
       "0xc00e94cb662c3520282e6f5717214004a7f26888    0.435493\n",
       "0xd533a949740bb3306d119cc777fa900ba034cd52    2.312203\n",
       "Name: address, dtype: float64"
      ]
     },
     "execution_count": 902,
     "metadata": {},
     "output_type": "execute_result"
    }
   ],
   "source": [
    "### pct of affected addresses per token (1-3% of addresses affected) \n",
    "(df_tb_neg.groupby(['token_address']).address.count()/ df_tb.groupby(['token_address']).address.count())*100"
   ]
  },
  {
   "cell_type": "code",
   "execution_count": 864,
   "metadata": {},
   "outputs": [
    {
     "data": {
      "text/plain": [
       "token_address\n",
       "0x0bc529c00c6401aef6d220be8c6ea1667f6ad93e    3.000000e+22\n",
       "0x1f9840a85d5af5bf1d1762f925bdaddc4201f984    1.000000e+27\n",
       "0x6b3595068778dd592e39a122f4f5a5cf09c90fe2    1.699004e+26\n",
       "0x7fc66500c84a76ad7e9c93437bfc5ac33e2ddae9    1.600000e+25\n",
       "0x9f8f72aa9304c8b593d555f12ef6589cc3a579a2    1.019950e+24\n",
       "0xba100000625a3754423978a60c9317c58a424e3d    3.891500e+25\n",
       "0xc00e94cb662c3520282e6f5717214004a7f26888    1.000000e+25\n",
       "0xd533a949740bb3306d119cc777fa900ba034cd52    1.388960e+27\n",
       "Name: value, dtype: float64"
      ]
     },
     "execution_count": 864,
     "metadata": {},
     "output_type": "execute_result"
    }
   ],
   "source": [
    "### negative supply == positive supply \n",
    "df_tb_pos.groupby('token_address').value.sum()"
   ]
  },
  {
   "cell_type": "code",
   "execution_count": 865,
   "metadata": {},
   "outputs": [
    {
     "data": {
      "text/plain": [
       "token_address\n",
       "0x0bc529c00c6401aef6d220be8c6ea1667f6ad93e   -3.000000e+22\n",
       "0x1f9840a85d5af5bf1d1762f925bdaddc4201f984   -1.000000e+27\n",
       "0x6b3595068778dd592e39a122f4f5a5cf09c90fe2   -1.699004e+26\n",
       "0x7fc66500c84a76ad7e9c93437bfc5ac33e2ddae9   -1.600000e+25\n",
       "0x9f8f72aa9304c8b593d555f12ef6589cc3a579a2   -1.019950e+24\n",
       "0xba100000625a3754423978a60c9317c58a424e3d   -3.891500e+25\n",
       "0xc00e94cb662c3520282e6f5717214004a7f26888   -1.000000e+25\n",
       "0xd533a949740bb3306d119cc777fa900ba034cd52   -1.388960e+27\n",
       "Name: value, dtype: float64"
      ]
     },
     "execution_count": 865,
     "metadata": {},
     "output_type": "execute_result"
    }
   ],
   "source": [
    "df_tb_neg.groupby('token_address').value.sum()"
   ]
  },
  {
   "cell_type": "code",
   "execution_count": 866,
   "metadata": {},
   "outputs": [
    {
     "data": {
      "text/plain": [
       "token_address\n",
       "0x0bc529c00c6401aef6d220be8c6ea1667f6ad93e   -1.0\n",
       "0x1f9840a85d5af5bf1d1762f925bdaddc4201f984   -1.0\n",
       "0x6b3595068778dd592e39a122f4f5a5cf09c90fe2   -1.0\n",
       "0x7fc66500c84a76ad7e9c93437bfc5ac33e2ddae9   -1.0\n",
       "0x9f8f72aa9304c8b593d555f12ef6589cc3a579a2   -1.0\n",
       "0xba100000625a3754423978a60c9317c58a424e3d   -1.0\n",
       "0xc00e94cb662c3520282e6f5717214004a7f26888   -1.0\n",
       "0xd533a949740bb3306d119cc777fa900ba034cd52   -1.0\n",
       "Name: value, dtype: float64"
      ]
     },
     "execution_count": 866,
     "metadata": {},
     "output_type": "execute_result"
    }
   ],
   "source": [
    "df_tb_pos.groupby('token_address').value.sum() / df_tb_neg.groupby('token_address').value.sum()"
   ]
  },
  {
   "cell_type": "code",
   "execution_count": 867,
   "metadata": {},
   "outputs": [
    {
     "data": {
      "text/plain": [
       "token_address\n",
       "0x0bc529c00c6401aef6d220be8c6ea1667f6ad93e   -0.000000e+00\n",
       "0x1f9840a85d5af5bf1d1762f925bdaddc4201f984    1.000000e-07\n",
       "0x6b3595068778dd592e39a122f4f5a5cf09c90fe2   -0.000000e+00\n",
       "0x7fc66500c84a76ad7e9c93437bfc5ac33e2ddae9    0.000000e+00\n",
       "0x9f8f72aa9304c8b593d555f12ef6589cc3a579a2   -0.000000e+00\n",
       "0xba100000625a3754423978a60c9317c58a424e3d    0.000000e+00\n",
       "0xc00e94cb662c3520282e6f5717214004a7f26888    0.000000e+00\n",
       "0xd533a949740bb3306d119cc777fa900ba034cd52    0.000000e+00\n",
       "Name: value, dtype: float64"
      ]
     },
     "execution_count": 867,
     "metadata": {},
     "output_type": "execute_result"
    }
   ],
   "source": [
    "((df_tb_pos.groupby('token_address').value.sum() + df_tb_neg.groupby('token_address').value.sum())/(1*10**18)).round(7)"
   ]
  },
  {
   "cell_type": "markdown",
   "metadata": {},
   "source": [
    "Conclusion: Given that the positive supply equates to the negative supply it suggest that it negative balances are made up from sources of the token - i.e. mints. This seems to lead to some problems across popular ethereum explorers. See: https://ethereum.stackexchange.com/questions/79415/why-etherscan-is-reporting-negative-token-balances. \n",
    "\n",
    "Note: there are minor descrepancy but we have to divided the float values by 1x10^18 or the token decimal making the difference in amount marginal reative to total supply. \n",
    "\n",
    "How do we deal with negative balances as a result? We exclude them entirely from the analysis"
   ]
  },
  {
   "cell_type": "code",
   "execution_count": null,
   "metadata": {},
   "outputs": [],
   "source": []
  }
 ],
 "metadata": {
  "kernelspec": {
   "display_name": "Python 3 (ipykernel)",
   "language": "python",
   "name": "python3"
  },
  "language_info": {
   "codemirror_mode": {
    "name": "ipython",
    "version": 3
   },
   "file_extension": ".py",
   "mimetype": "text/x-python",
   "name": "python",
   "nbconvert_exporter": "python",
   "pygments_lexer": "ipython3",
   "version": "3.9.2"
  },
  "vscode": {
   "interpreter": {
    "hash": "e7370f93d1d0cde622a1f8e1c04877d8463912d04d973331ad4851f04de6915a"
   }
  }
 },
 "nbformat": 4,
 "nbformat_minor": 4
}
